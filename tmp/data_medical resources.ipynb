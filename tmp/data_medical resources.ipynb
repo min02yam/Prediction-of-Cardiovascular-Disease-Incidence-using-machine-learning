{
  "nbformat": 4,
  "nbformat_minor": 0,
  "metadata": {
    "colab": {
      "name": "7.의료자원.ipynb",
      "provenance": [],
      "authorship_tag": "ABX9TyPWrLVWtwoghw2Rs5zWCHlL",
      "include_colab_link": true
    },
    "kernelspec": {
      "name": "ir",
      "display_name": "R"
    },
    "language_info": {
      "name": "R"
    },
    "accelerator": "GPU",
    "gpuClass": "standard"
  },
  "cells": [
    {
      "cell_type": "markdown",
      "metadata": {
        "id": "view-in-github",
        "colab_type": "text"
      },
      "source": [
        "<a href=\"https://colab.research.google.com/github/min02yam/wether/blob/main/7_%EC%9D%98%EB%A3%8C%EC%9E%90%EC%9B%90.ipynb\" target=\"_parent\"><img src=\"https://colab.research.google.com/assets/colab-badge.svg\" alt=\"Open In Colab\"/></a>"
      ]
    },
    {
      "cell_type": "markdown",
      "source": [
        "[7] 의료자원\n"
      ],
      "metadata": {
        "id": "3jhHomlwhuzG"
      }
    },
    {
      "cell_type": "markdown",
      "source": [
        "# 0.라이브러리 및 데이터 로드"
      ],
      "metadata": {
        "id": "BIERRJM7c3QW"
      }
    },
    {
      "cell_type": "code",
      "source": [
        "install.packages(\"DataExplorer\")\n",
        "library(DataExplorer)"
      ],
      "metadata": {
        "colab": {
          "base_uri": "https://localhost:8080/"
        },
        "id": "5rfV91HnzAlO",
        "outputId": "0f44e6bf-0dd5-4a10-a3b7-ebfb134c8dfd"
      },
      "execution_count": null,
      "outputs": [
        {
          "output_type": "stream",
          "name": "stderr",
          "text": [
            "Installing package into ‘/usr/local/lib/R/site-library’\n",
            "(as ‘lib’ is unspecified)\n",
            "\n",
            "also installing the dependencies ‘plyr’, ‘Rcpp’, ‘htmlwidgets’, ‘igraph’, ‘reshape2’, ‘gridExtra’, ‘networkD3’\n",
            "\n",
            "\n"
          ]
        }
      ]
    },
    {
      "cell_type": "code",
      "source": [
        "suppressPackageStartupMessages({\n",
        "  require(tidyverse)\n",
        "  require(magrittr)\n",
        "  require(data.table)\n",
        "})"
      ],
      "metadata": {
        "id": "nA40pLmzHmCc"
      },
      "execution_count": null,
      "outputs": []
    },
    {
      "cell_type": "code",
      "source": [
        "system(\"gdown --id 1OuRMVc06ZkWhxjM9qPTCF7llWtL-Om2m\") # 미충족의료율(병의원)\n",
        "system(\"gdown --id 1qnBjcNZn9BR08uzYRP9ep9Tky-Tz9GQc\") # 시도별 의료인력 현황(의사,간호사,한의사) \n",
        "system(\"gdown --id 1MYBdKWu3iI1u83xrwUq7cXnhrzzU1AaX\") # 인구 천명당 의료기관 종사 의사수 "
      ],
      "metadata": {
        "id": "WebdMMyrfI8Q"
      },
      "execution_count": 9,
      "outputs": []
    },
    {
      "cell_type": "code",
      "source": [
        "미충족의료율 =  read.csv(\"시·군·구별_연간_미충족의료율_병의원__20220731010415.csv\" , fileEncoding = \"euc-kr\")\n",
        "의료인력 =  read.csv(\"시도별_의료인력_현황_20220730203542.csv\" , fileEncoding = \"euc-kr\")\n",
        "천명당의사수 =  read.csv(\"인구_천명당_의료기관_종사_의사수_시도_시_군_구__20220731004610.csv\" , fileEncoding = \"euc-kr\")"
      ],
      "metadata": {
        "id": "eoxKl3X4Y_yI"
      },
      "execution_count": 10,
      "outputs": []
    },
    {
      "cell_type": "code",
      "source": [
        "미충족의료율 %>% head"
      ],
      "metadata": {
        "colab": {
          "base_uri": "https://localhost:8080/",
          "height": 286
        },
        "id": "ff51yxWfcC35",
        "outputId": "cf1628ec-3e7b-4231-aa1b-50983df7707f"
      },
      "execution_count": 11,
      "outputs": [
        {
          "output_type": "display_data",
          "data": {
            "text/html": [
              "<table class=\"dataframe\">\n",
              "<caption>A data.frame: 6 × 3</caption>\n",
              "<thead>\n",
              "\t<tr><th></th><th scope=col>시점</th><th scope=col>시군구별.1.</th><th scope=col>표준화율....</th></tr>\n",
              "\t<tr><th></th><th scope=col>&lt;int&gt;</th><th scope=col>&lt;chr&gt;</th><th scope=col>&lt;dbl&gt;</th></tr>\n",
              "</thead>\n",
              "<tbody>\n",
              "\t<tr><th scope=row>1</th><td>2012</td><td>서울특별시</td><td>13.3</td></tr>\n",
              "\t<tr><th scope=row>2</th><td>2012</td><td>부산광역시</td><td>11.2</td></tr>\n",
              "\t<tr><th scope=row>3</th><td>2012</td><td>대구광역시</td><td>13.0</td></tr>\n",
              "\t<tr><th scope=row>4</th><td>2012</td><td>인천광역시</td><td>12.7</td></tr>\n",
              "\t<tr><th scope=row>5</th><td>2012</td><td>광주광역시</td><td>13.6</td></tr>\n",
              "\t<tr><th scope=row>6</th><td>2012</td><td>대전광역시</td><td>10.7</td></tr>\n",
              "</tbody>\n",
              "</table>\n"
            ],
            "text/markdown": "\nA data.frame: 6 × 3\n\n| <!--/--> | 시점 &lt;int&gt; | 시군구별.1. &lt;chr&gt; | 표준화율.... &lt;dbl&gt; |\n|---|---|---|---|\n| 1 | 2012 | 서울특별시 | 13.3 |\n| 2 | 2012 | 부산광역시 | 11.2 |\n| 3 | 2012 | 대구광역시 | 13.0 |\n| 4 | 2012 | 인천광역시 | 12.7 |\n| 5 | 2012 | 광주광역시 | 13.6 |\n| 6 | 2012 | 대전광역시 | 10.7 |\n\n",
            "text/latex": "A data.frame: 6 × 3\n\\begin{tabular}{r|lll}\n  & 시점 & 시군구별.1. & 표준화율....\\\\\n  & <int> & <chr> & <dbl>\\\\\n\\hline\n\t1 & 2012 & 서울특별시 & 13.3\\\\\n\t2 & 2012 & 부산광역시 & 11.2\\\\\n\t3 & 2012 & 대구광역시 & 13.0\\\\\n\t4 & 2012 & 인천광역시 & 12.7\\\\\n\t5 & 2012 & 광주광역시 & 13.6\\\\\n\t6 & 2012 & 대전광역시 & 10.7\\\\\n\\end{tabular}\n",
            "text/plain": [
              "  시점 시군구별.1. 표준화율....\n",
              "1 2012 서울특별시  13.3        \n",
              "2 2012 부산광역시  11.2        \n",
              "3 2012 대구광역시  13.0        \n",
              "4 2012 인천광역시  12.7        \n",
              "5 2012 광주광역시  13.6        \n",
              "6 2012 대전광역시  10.7        "
            ]
          },
          "metadata": {}
        }
      ]
    }
  ]
}
