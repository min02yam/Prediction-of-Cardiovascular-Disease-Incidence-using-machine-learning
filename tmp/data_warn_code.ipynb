{
  "nbformat": 4,
  "nbformat_minor": 0,
  "metadata": {
    "colab": {
      "name": "날씨마루_기타",
      "provenance": [],
      "authorship_tag": "ABX9TyNu5se2qsigUIS6fqsLYfxe",
      "include_colab_link": true
    },
    "kernelspec": {
      "name": "ir",
      "display_name": "R"
    },
    "language_info": {
      "name": "R"
    },
    "accelerator": "GPU",
    "gpuClass": "standard"
  },
  "cells": [
    {
      "cell_type": "markdown",
      "metadata": {
        "id": "view-in-github",
        "colab_type": "text"
      },
      "source": [
        "<a href=\"https://colab.research.google.com/github/min02yam/wether/blob/main/%EB%82%A0%EC%94%A8%EB%A7%88%EB%A3%A8_%EA%B8%B0%ED%83%80.ipynb\" target=\"_parent\"><img src=\"https://colab.research.google.com/assets/colab-badge.svg\" alt=\"Open In Colab\"/></a>"
      ]
    },
    {
      "cell_type": "markdown",
      "source": [
        "1. warn_code\n",
        "할거: var로 빼내기 "
      ],
      "metadata": {
        "id": "nGtpRTxe3Dvu"
      }
    },
    {
      "cell_type": "code",
      "source": [
        "system(\"gdown --id 1__KbQ0VP1HlFsWRIhzKftYHaB8nAB301\") #warn_code\n",
        "system(\"gdown --id 1M2rU3Xc2Z7TDmlNg7B61RVAtGRVz58_6\") # 특보구역"
      ],
      "metadata": {
        "id": "Pmv8hQzY3DMp"
      },
      "execution_count": 22,
      "outputs": []
    },
    {
      "cell_type": "markdown",
      "source": [
        "# 0.라이브러리 로드"
      ],
      "metadata": {
        "id": "BIERRJM7c3QW"
      }
    },
    {
      "cell_type": "code",
      "source": [
        "suppressPackageStartupMessages({\n",
        "  require(tidyverse)\n",
        "  require(magrittr)\n",
        "  require(data.table)\n",
        "})"
      ],
      "metadata": {
        "id": "Ihufp2CtHZPt",
        "colab": {
          "base_uri": "https://localhost:8080/"
        },
        "outputId": "df0b19ac-f81e-4582-8d15-71a8a353b9b5"
      },
      "execution_count": 4,
      "outputs": [
        {
          "output_type": "stream",
          "name": "stderr",
          "text": [
            "Warning message in system(\"timedatectl\", intern = TRUE):\n",
            "“running command 'timedatectl' had status 1”\n"
          ]
        }
      ]
    },
    {
      "cell_type": "code",
      "source": [
        "#install.packages(\"DataExplorer\")\n",
        "#library(DataExplorer)\n",
        "install.packages(\"sqldf\")\n",
        "library(sqldf)"
      ],
      "metadata": {
        "colab": {
          "base_uri": "https://localhost:8080/"
        },
        "id": "HHTBDfx-9P8I",
        "outputId": "bc787d58-17b0-4f8e-ee5d-fe126acbe302"
      },
      "execution_count": 34,
      "outputs": [
        {
          "output_type": "stream",
          "name": "stderr",
          "text": [
            "Installing package into ‘/usr/local/lib/R/site-library’\n",
            "(as ‘lib’ is unspecified)\n",
            "\n",
            "also installing the dependencies ‘plogr’, ‘gsubfn’, ‘proto’, ‘RSQLite’, ‘chron’\n",
            "\n",
            "\n",
            "Loading required package: gsubfn\n",
            "\n",
            "Loading required package: proto\n",
            "\n",
            "Warning message:\n",
            "“no DISPLAY variable so Tk is not available”\n",
            "Loading required package: RSQLite\n",
            "\n"
          ]
        }
      ]
    },
    {
      "cell_type": "code",
      "source": [
        "#특보=fread(\"WARN_CODE.csv\")\n",
        "특보구역= fread(\"특보구역.csv\")"
      ],
      "metadata": {
        "id": "_Ao2hHtM37lC"
      },
      "execution_count": 51,
      "outputs": []
    },
    {
      "cell_type": "markdown",
      "source": [
        "# 변수명 변경"
      ],
      "metadata": {
        "id": "nvoTiv9UCEUU"
      }
    },
    {
      "cell_type": "code",
      "source": [
        "names(특보) = str_sub(names(특보), nchar(\"warn_code.\")+1)"
      ],
      "metadata": {
        "id": "1rKmu9NE5s3r"
      },
      "execution_count": 25,
      "outputs": []
    },
    {
      "cell_type": "code",
      "source": [
        "특보구역 %>% head"
      ],
      "metadata": {
        "colab": {
          "base_uri": "https://localhost:8080/",
          "height": 286
        },
        "id": "2YfXvjLm9KCz",
        "outputId": "29d83de9-baba-4817-c6aa-3c0f90dd2a38"
      },
      "execution_count": 26,
      "outputs": [
        {
          "output_type": "display_data",
          "data": {
            "text/html": [
              "<table class=\"dataframe\">\n",
              "<caption>A data.table: 6 × 7</caption>\n",
              "<thead>\n",
              "\t<tr><th scope=col>특보구역</th><th scope=col>종료시각</th><th scope=col>시작시각</th><th scope=col>특보구역명(한글)</th><th scope=col>구역특성</th><th scope=col>특보구역명(정식)</th><th scope=col>행정동코드</th></tr>\n",
              "\t<tr><th scope=col>&lt;chr&gt;</th><th scope=col>&lt;chr&gt;</th><th scope=col>&lt;chr&gt;</th><th scope=col>&lt;chr&gt;</th><th scope=col>&lt;int&gt;</th><th scope=col>&lt;chr&gt;</th><th scope=col>&lt;dbl&gt;</th></tr>\n",
              "</thead>\n",
              "<tbody>\n",
              "\t<tr><td>L1000000</td><td>2100.12.31.00:00</td><td>2005.07.01.00:00</td><td>전국  </td><td>  1</td><td>전국      </td><td>       NA</td></tr>\n",
              "\t<tr><td>L1010000</td><td>2100.12.31.00:00</td><td>2005.07.01.00:00</td><td>경기도</td><td>  2</td><td>경기도    </td><td>       NA</td></tr>\n",
              "\t<tr><td>L1010100</td><td>2100.12.31.00:00</td><td>2005.07.01.00:00</td><td>서울  </td><td> 13</td><td>서울특별시</td><td>1.100e+09</td></tr>\n",
              "\t<tr><td>L1010200</td><td>2100.12.31.00:00</td><td>2005.07.01.00:00</td><td>광명  </td><td> 13</td><td>광명시    </td><td>4.121e+09</td></tr>\n",
              "\t<tr><td>L1010300</td><td>2100.12.31.00:00</td><td>2005.07.01.00:00</td><td>과천  </td><td> 13</td><td>과천시    </td><td>4.129e+09</td></tr>\n",
              "\t<tr><td>L1010400</td><td>2100.12.31.00:00</td><td>2005.07.01.00:00</td><td>안산  </td><td>113</td><td>안산시    </td><td>4.127e+09</td></tr>\n",
              "</tbody>\n",
              "</table>\n"
            ],
            "text/markdown": "\nA data.table: 6 × 7\n\n| 특보구역 &lt;chr&gt; | 종료시각 &lt;chr&gt; | 시작시각 &lt;chr&gt; | 특보구역명(한글) &lt;chr&gt; | 구역특성 &lt;int&gt; | 특보구역명(정식) &lt;chr&gt; | 행정동코드 &lt;dbl&gt; |\n|---|---|---|---|---|---|---|\n| L1000000 | 2100.12.31.00:00 | 2005.07.01.00:00 | 전국   |   1 | 전국       |        NA |\n| L1010000 | 2100.12.31.00:00 | 2005.07.01.00:00 | 경기도 |   2 | 경기도     |        NA |\n| L1010100 | 2100.12.31.00:00 | 2005.07.01.00:00 | 서울   |  13 | 서울특별시 | 1.100e+09 |\n| L1010200 | 2100.12.31.00:00 | 2005.07.01.00:00 | 광명   |  13 | 광명시     | 4.121e+09 |\n| L1010300 | 2100.12.31.00:00 | 2005.07.01.00:00 | 과천   |  13 | 과천시     | 4.129e+09 |\n| L1010400 | 2100.12.31.00:00 | 2005.07.01.00:00 | 안산   | 113 | 안산시     | 4.127e+09 |\n\n",
            "text/latex": "A data.table: 6 × 7\n\\begin{tabular}{lllllll}\n 특보구역 & 종료시각 & 시작시각 & 특보구역명(한글) & 구역특성 & 특보구역명(정식) & 행정동코드\\\\\n <chr> & <chr> & <chr> & <chr> & <int> & <chr> & <dbl>\\\\\n\\hline\n\t L1000000 & 2100.12.31.00:00 & 2005.07.01.00:00 & 전국   &   1 & 전국       &        NA\\\\\n\t L1010000 & 2100.12.31.00:00 & 2005.07.01.00:00 & 경기도 &   2 & 경기도     &        NA\\\\\n\t L1010100 & 2100.12.31.00:00 & 2005.07.01.00:00 & 서울   &  13 & 서울특별시 & 1.100e+09\\\\\n\t L1010200 & 2100.12.31.00:00 & 2005.07.01.00:00 & 광명   &  13 & 광명시     & 4.121e+09\\\\\n\t L1010300 & 2100.12.31.00:00 & 2005.07.01.00:00 & 과천   &  13 & 과천시     & 4.129e+09\\\\\n\t L1010400 & 2100.12.31.00:00 & 2005.07.01.00:00 & 안산   & 113 & 안산시     & 4.127e+09\\\\\n\\end{tabular}\n",
            "text/plain": [
              "  특보구역 종료시각         시작시각         특보구역명(한글) 구역특성\n",
              "1 L1000000 2100.12.31.00:00 2005.07.01.00:00 전국               1     \n",
              "2 L1010000 2100.12.31.00:00 2005.07.01.00:00 경기도             2     \n",
              "3 L1010100 2100.12.31.00:00 2005.07.01.00:00 서울              13     \n",
              "4 L1010200 2100.12.31.00:00 2005.07.01.00:00 광명              13     \n",
              "5 L1010300 2100.12.31.00:00 2005.07.01.00:00 과천              13     \n",
              "6 L1010400 2100.12.31.00:00 2005.07.01.00:00 안산             113     \n",
              "  특보구역명(정식) 행정동코드\n",
              "1 전국                    NA \n",
              "2 경기도                  NA \n",
              "3 서울특별시       1.100e+09 \n",
              "4 광명시           4.121e+09 \n",
              "5 과천시           4.129e+09 \n",
              "6 안산시           4.127e+09 "
            ]
          },
          "metadata": {}
        }
      ]
    },
    {
      "cell_type": "code",
      "source": [
        "gsub(\"\\\\(.*?\\\\)\",\"\", names(특보구역))\n",
        "names(특보구역)=gsub(\"\\\\(\",\"_\", names(특보구역))\n",
        "names(특보구역)=gsub(\"\\\\)\",\"\", names(특보구역))"
      ],
      "metadata": {
        "id": "9n1k5sSlBfna"
      },
      "execution_count": 52,
      "outputs": []
    },
    {
      "cell_type": "code",
      "source": [
        "특보구역 %>% nrow()"
      ],
      "metadata": {
        "colab": {
          "base_uri": "https://localhost:8080/",
          "height": 34
        },
        "id": "UaIhUV1_CVq-",
        "outputId": "7db545b6-cf1a-42c2-912e-7919b5b2db61"
      },
      "execution_count": 58,
      "outputs": [
        {
          "output_type": "display_data",
          "data": {
            "text/html": [
              "324"
            ],
            "text/markdown": "324",
            "text/latex": "324",
            "text/plain": [
              "[1] 324"
            ]
          },
          "metadata": {}
        }
      ]
    },
    {
      "cell_type": "code",
      "source": [
        "특보구역 %>% select(특보구역명_한글,특보구역명_정식) %>% distinct %>% nrow() # 다른게 있음"
      ],
      "metadata": {
        "colab": {
          "base_uri": "https://localhost:8080/",
          "height": 34
        },
        "id": "w9oDiDzFA8-t",
        "outputId": "df960188-08c3-4070-a49d-a82a6cf305e4"
      },
      "execution_count": 57,
      "outputs": [
        {
          "output_type": "display_data",
          "data": {
            "text/html": [
              "312"
            ],
            "text/markdown": "312",
            "text/latex": "312",
            "text/plain": [
              "[1] 312"
            ]
          },
          "metadata": {}
        }
      ]
    },
    {
      "cell_type": "code",
      "source": [
        "특보구역 %>% select(특보구역명_한글,특보구역명_정식)  %>%\n",
        "  filter( 특보구역명_한글 !=특보구역명_정식)"
      ],
      "metadata": {
        "colab": {
          "base_uri": "https://localhost:8080/",
          "height": 1000
        },
        "id": "90YpSZABCaKN",
        "outputId": "1b533377-866f-4cca-d2cc-8f9ba4af1227"
      },
      "execution_count": 61,
      "outputs": [
        {
          "output_type": "display_data",
          "data": {
            "text/html": [
              "<table class=\"dataframe\">\n",
              "<caption>A data.table: 207 × 2</caption>\n",
              "<thead>\n",
              "\t<tr><th scope=col>특보구역명_한글</th><th scope=col>특보구역명_정식</th></tr>\n",
              "\t<tr><th scope=col>&lt;chr&gt;</th><th scope=col>&lt;chr&gt;</th></tr>\n",
              "</thead>\n",
              "<tbody>\n",
              "\t<tr><td>서울  </td><td>서울특별시</td></tr>\n",
              "\t<tr><td>광명  </td><td>광명시    </td></tr>\n",
              "\t<tr><td>과천  </td><td>과천시    </td></tr>\n",
              "\t<tr><td>안산  </td><td>안산시    </td></tr>\n",
              "\t<tr><td>시흥  </td><td>시흥시    </td></tr>\n",
              "\t<tr><td>부천  </td><td>부천시    </td></tr>\n",
              "\t<tr><td>김포  </td><td>김포시    </td></tr>\n",
              "\t<tr><td>인천  </td><td>인천광역시</td></tr>\n",
              "\t<tr><td>강화  </td><td>강화군    </td></tr>\n",
              "\t<tr><td>동두천</td><td>동두천시  </td></tr>\n",
              "\t<tr><td>연천  </td><td>연천군    </td></tr>\n",
              "\t<tr><td>포천  </td><td>포천시    </td></tr>\n",
              "\t<tr><td>가평  </td><td>가평군    </td></tr>\n",
              "\t<tr><td>고양  </td><td>고양시    </td></tr>\n",
              "\t<tr><td>양주  </td><td>양주시    </td></tr>\n",
              "\t<tr><td>의정부</td><td>의정부시  </td></tr>\n",
              "\t<tr><td>파주  </td><td>파주시    </td></tr>\n",
              "\t<tr><td>수원  </td><td>수원시    </td></tr>\n",
              "\t<tr><td>성남  </td><td>성남시    </td></tr>\n",
              "\t<tr><td>안양  </td><td>안양시    </td></tr>\n",
              "\t<tr><td>구리  </td><td>구리시    </td></tr>\n",
              "\t<tr><td>남양주</td><td>남양주시  </td></tr>\n",
              "\t<tr><td>오산  </td><td>오산시    </td></tr>\n",
              "\t<tr><td>평택  </td><td>평택시    </td></tr>\n",
              "\t<tr><td>군포  </td><td>군포시    </td></tr>\n",
              "\t<tr><td>의왕  </td><td>의왕시    </td></tr>\n",
              "\t<tr><td>하남  </td><td>하남시    </td></tr>\n",
              "\t<tr><td>용인  </td><td>용인시    </td></tr>\n",
              "\t<tr><td>이천  </td><td>이천시    </td></tr>\n",
              "\t<tr><td>안성  </td><td>안성시    </td></tr>\n",
              "\t<tr><td>⋮</td><td>⋮</td></tr>\n",
              "\t<tr><td>진해                                   </td><td>진해시                             </td></tr>\n",
              "\t<tr><td>김해                                   </td><td>김해시                             </td></tr>\n",
              "\t<tr><td>밀양                                   </td><td>밀양시                             </td></tr>\n",
              "\t<tr><td>의령                                   </td><td>의령군                             </td></tr>\n",
              "\t<tr><td>함안                                   </td><td>함안군                             </td></tr>\n",
              "\t<tr><td>창녕                                   </td><td>창녕군                             </td></tr>\n",
              "\t<tr><td>진주                                   </td><td>진주시                             </td></tr>\n",
              "\t<tr><td>하동                                   </td><td>하동군                             </td></tr>\n",
              "\t<tr><td>산청                                   </td><td>산청군                             </td></tr>\n",
              "\t<tr><td>함양                                   </td><td>함양군                             </td></tr>\n",
              "\t<tr><td>거창                                   </td><td>거창군                             </td></tr>\n",
              "\t<tr><td>합천                                   </td><td>합천군                             </td></tr>\n",
              "\t<tr><td>통영                                   </td><td>통영시                             </td></tr>\n",
              "\t<tr><td>사천                                   </td><td>사천시                             </td></tr>\n",
              "\t<tr><td>거제                                   </td><td>거제시                             </td></tr>\n",
              "\t<tr><td>고성                                   </td><td>고성군                             </td></tr>\n",
              "\t<tr><td>남해                                   </td><td>남해군                             </td></tr>\n",
              "\t<tr><td>서울                                   </td><td>서울특별시                         </td></tr>\n",
              "\t<tr><td>인천                                   </td><td>인천광역시                         </td></tr>\n",
              "\t<tr><td>대전                                   </td><td>대전광역시                         </td></tr>\n",
              "\t<tr><td>광주                                   </td><td>광주광역시                         </td></tr>\n",
              "\t<tr><td>대구                                   </td><td>대구광역시                         </td></tr>\n",
              "\t<tr><td>부산                                   </td><td>부산광역시                         </td></tr>\n",
              "\t<tr><td>울산                                   </td><td>울산광역시                         </td></tr>\n",
              "\t<tr><td>세종                                   </td><td>세종특별자치시                     </td></tr>\n",
              "\t<tr><td>경북남부앞바다중 평수구역              </td><td>경북남부앞바다중 영일만평수구역    </td></tr>\n",
              "\t<tr><td>경북북부앞바다중 연안바다              </td><td>경북북부앞바다중 울진연안바다      </td></tr>\n",
              "\t<tr><td>인천·경기남부앞바다중 앞평수구역       </td><td>인천경기남부앞바다중 앞평수구역    </td></tr>\n",
              "\t<tr><td>인천·경기남부앞바다중 먼평수구역       </td><td>인천경기남부앞바다중 먼평수구역    </td></tr>\n",
              "\t<tr><td>경남서부남해앞바다중 거제시동부연안바다</td><td>경남서부남해앞바다중 거제시연안바다</td></tr>\n",
              "</tbody>\n",
              "</table>\n"
            ],
            "text/markdown": "\nA data.table: 207 × 2\n\n| 특보구역명_한글 &lt;chr&gt; | 특보구역명_정식 &lt;chr&gt; |\n|---|---|\n| 서울   | 서울특별시 |\n| 광명   | 광명시     |\n| 과천   | 과천시     |\n| 안산   | 안산시     |\n| 시흥   | 시흥시     |\n| 부천   | 부천시     |\n| 김포   | 김포시     |\n| 인천   | 인천광역시 |\n| 강화   | 강화군     |\n| 동두천 | 동두천시   |\n| 연천   | 연천군     |\n| 포천   | 포천시     |\n| 가평   | 가평군     |\n| 고양   | 고양시     |\n| 양주   | 양주시     |\n| 의정부 | 의정부시   |\n| 파주   | 파주시     |\n| 수원   | 수원시     |\n| 성남   | 성남시     |\n| 안양   | 안양시     |\n| 구리   | 구리시     |\n| 남양주 | 남양주시   |\n| 오산   | 오산시     |\n| 평택   | 평택시     |\n| 군포   | 군포시     |\n| 의왕   | 의왕시     |\n| 하남   | 하남시     |\n| 용인   | 용인시     |\n| 이천   | 이천시     |\n| 안성   | 안성시     |\n| ⋮ | ⋮ |\n| 진해                                    | 진해시                              |\n| 김해                                    | 김해시                              |\n| 밀양                                    | 밀양시                              |\n| 의령                                    | 의령군                              |\n| 함안                                    | 함안군                              |\n| 창녕                                    | 창녕군                              |\n| 진주                                    | 진주시                              |\n| 하동                                    | 하동군                              |\n| 산청                                    | 산청군                              |\n| 함양                                    | 함양군                              |\n| 거창                                    | 거창군                              |\n| 합천                                    | 합천군                              |\n| 통영                                    | 통영시                              |\n| 사천                                    | 사천시                              |\n| 거제                                    | 거제시                              |\n| 고성                                    | 고성군                              |\n| 남해                                    | 남해군                              |\n| 서울                                    | 서울특별시                          |\n| 인천                                    | 인천광역시                          |\n| 대전                                    | 대전광역시                          |\n| 광주                                    | 광주광역시                          |\n| 대구                                    | 대구광역시                          |\n| 부산                                    | 부산광역시                          |\n| 울산                                    | 울산광역시                          |\n| 세종                                    | 세종특별자치시                      |\n| 경북남부앞바다중 평수구역               | 경북남부앞바다중 영일만평수구역     |\n| 경북북부앞바다중 연안바다               | 경북북부앞바다중 울진연안바다       |\n| 인천·경기남부앞바다중 앞평수구역        | 인천경기남부앞바다중 앞평수구역     |\n| 인천·경기남부앞바다중 먼평수구역        | 인천경기남부앞바다중 먼평수구역     |\n| 경남서부남해앞바다중 거제시동부연안바다 | 경남서부남해앞바다중 거제시연안바다 |\n\n",
            "text/latex": "A data.table: 207 × 2\n\\begin{tabular}{ll}\n 특보구역명\\_한글 & 특보구역명\\_정식\\\\\n <chr> & <chr>\\\\\n\\hline\n\t 서울   & 서울특별시\\\\\n\t 광명   & 광명시    \\\\\n\t 과천   & 과천시    \\\\\n\t 안산   & 안산시    \\\\\n\t 시흥   & 시흥시    \\\\\n\t 부천   & 부천시    \\\\\n\t 김포   & 김포시    \\\\\n\t 인천   & 인천광역시\\\\\n\t 강화   & 강화군    \\\\\n\t 동두천 & 동두천시  \\\\\n\t 연천   & 연천군    \\\\\n\t 포천   & 포천시    \\\\\n\t 가평   & 가평군    \\\\\n\t 고양   & 고양시    \\\\\n\t 양주   & 양주시    \\\\\n\t 의정부 & 의정부시  \\\\\n\t 파주   & 파주시    \\\\\n\t 수원   & 수원시    \\\\\n\t 성남   & 성남시    \\\\\n\t 안양   & 안양시    \\\\\n\t 구리   & 구리시    \\\\\n\t 남양주 & 남양주시  \\\\\n\t 오산   & 오산시    \\\\\n\t 평택   & 평택시    \\\\\n\t 군포   & 군포시    \\\\\n\t 의왕   & 의왕시    \\\\\n\t 하남   & 하남시    \\\\\n\t 용인   & 용인시    \\\\\n\t 이천   & 이천시    \\\\\n\t 안성   & 안성시    \\\\\n\t ⋮ & ⋮\\\\\n\t 진해                                    & 진해시                             \\\\\n\t 김해                                    & 김해시                             \\\\\n\t 밀양                                    & 밀양시                             \\\\\n\t 의령                                    & 의령군                             \\\\\n\t 함안                                    & 함안군                             \\\\\n\t 창녕                                    & 창녕군                             \\\\\n\t 진주                                    & 진주시                             \\\\\n\t 하동                                    & 하동군                             \\\\\n\t 산청                                    & 산청군                             \\\\\n\t 함양                                    & 함양군                             \\\\\n\t 거창                                    & 거창군                             \\\\\n\t 합천                                    & 합천군                             \\\\\n\t 통영                                    & 통영시                             \\\\\n\t 사천                                    & 사천시                             \\\\\n\t 거제                                    & 거제시                             \\\\\n\t 고성                                    & 고성군                             \\\\\n\t 남해                                    & 남해군                             \\\\\n\t 서울                                    & 서울특별시                         \\\\\n\t 인천                                    & 인천광역시                         \\\\\n\t 대전                                    & 대전광역시                         \\\\\n\t 광주                                    & 광주광역시                         \\\\\n\t 대구                                    & 대구광역시                         \\\\\n\t 부산                                    & 부산광역시                         \\\\\n\t 울산                                    & 울산광역시                         \\\\\n\t 세종                                    & 세종특별자치시                     \\\\\n\t 경북남부앞바다중 평수구역               & 경북남부앞바다중 영일만평수구역    \\\\\n\t 경북북부앞바다중 연안바다               & 경북북부앞바다중 울진연안바다      \\\\\n\t 인천·경기남부앞바다중 앞평수구역        & 인천경기남부앞바다중 앞평수구역    \\\\\n\t 인천·경기남부앞바다중 먼평수구역        & 인천경기남부앞바다중 먼평수구역    \\\\\n\t 경남서부남해앞바다중 거제시동부연안바다 & 경남서부남해앞바다중 거제시연안바다\\\\\n\\end{tabular}\n",
            "text/plain": [
              "    특보구역명_한글                         특보구역명_정식                    \n",
              "1   서울                                    서울특별시                         \n",
              "2   광명                                    광명시                             \n",
              "3   과천                                    과천시                             \n",
              "4   안산                                    안산시                             \n",
              "5   시흥                                    시흥시                             \n",
              "6   부천                                    부천시                             \n",
              "7   김포                                    김포시                             \n",
              "8   인천                                    인천광역시                         \n",
              "9   강화                                    강화군                             \n",
              "10  동두천                                  동두천시                           \n",
              "11  연천                                    연천군                             \n",
              "12  포천                                    포천시                             \n",
              "13  가평                                    가평군                             \n",
              "14  고양                                    고양시                             \n",
              "15  양주                                    양주시                             \n",
              "16  의정부                                  의정부시                           \n",
              "17  파주                                    파주시                             \n",
              "18  수원                                    수원시                             \n",
              "19  성남                                    성남시                             \n",
              "20  안양                                    안양시                             \n",
              "21  구리                                    구리시                             \n",
              "22  남양주                                  남양주시                           \n",
              "23  오산                                    오산시                             \n",
              "24  평택                                    평택시                             \n",
              "25  군포                                    군포시                             \n",
              "26  의왕                                    의왕시                             \n",
              "27  하남                                    하남시                             \n",
              "28  용인                                    용인시                             \n",
              "29  이천                                    이천시                             \n",
              "30  안성                                    안성시                             \n",
              "⋮   ⋮                                       ⋮                                  \n",
              "178 진해                                    진해시                             \n",
              "179 김해                                    김해시                             \n",
              "180 밀양                                    밀양시                             \n",
              "181 의령                                    의령군                             \n",
              "182 함안                                    함안군                             \n",
              "183 창녕                                    창녕군                             \n",
              "184 진주                                    진주시                             \n",
              "185 하동                                    하동군                             \n",
              "186 산청                                    산청군                             \n",
              "187 함양                                    함양군                             \n",
              "188 거창                                    거창군                             \n",
              "189 합천                                    합천군                             \n",
              "190 통영                                    통영시                             \n",
              "191 사천                                    사천시                             \n",
              "192 거제                                    거제시                             \n",
              "193 고성                                    고성군                             \n",
              "194 남해                                    남해군                             \n",
              "195 서울                                    서울특별시                         \n",
              "196 인천                                    인천광역시                         \n",
              "197 대전                                    대전광역시                         \n",
              "198 광주                                    광주광역시                         \n",
              "199 대구                                    대구광역시                         \n",
              "200 부산                                    부산광역시                         \n",
              "201 울산                                    울산광역시                         \n",
              "202 세종                                    세종특별자치시                     \n",
              "203 경북남부앞바다중 평수구역               경북남부앞바다중 영일만평수구역    \n",
              "204 경북북부앞바다중 연안바다               경북북부앞바다중 울진연안바다      \n",
              "205 인천·경기남부앞바다중 앞평수구역        인천경기남부앞바다중 앞평수구역    \n",
              "206 인천·경기남부앞바다중 먼평수구역        인천경기남부앞바다중 먼평수구역    \n",
              "207 경남서부남해앞바다중 거제시동부연안바다 경남서부남해앞바다중 거제시연안바다"
            ]
          },
          "metadata": {}
        }
      ]
    },
    {
      "cell_type": "code",
      "source": [
        "특보구역 %>% select(특보구역, 특보구역명_정식, 구역특성) -> 특보구역2"
      ],
      "metadata": {
        "id": "VOSXLZlECKxX"
      },
      "execution_count": 73,
      "outputs": []
    },
    {
      "cell_type": "code",
      "source": [
        "특보 %>% arrange(start_time) %>% head"
      ],
      "metadata": {
        "colab": {
          "base_uri": "https://localhost:8080/",
          "height": 390
        },
        "id": "OAPJUx9k4CSQ",
        "outputId": "d73c19d6-f679-464b-c465-a78040ed5577"
      },
      "execution_count": 65,
      "outputs": [
        {
          "output_type": "display_data",
          "data": {
            "text/html": [
              "<table class=\"dataframe\">\n",
              "<caption>A data.table: 6 × 11</caption>\n",
              "<thead>\n",
              "\t<tr><th scope=col>stn_id</th><th scope=col>tm_fc</th><th scope=col>tm_seq</th><th scope=col>area_code</th><th scope=col>warn_var</th><th scope=col>warn_stress</th><th scope=col>command</th><th scope=col>start_time</th><th scope=col>end_time</th><th scope=col>all_end_time</th><th scope=col>cancel</th></tr>\n",
              "\t<tr><th scope=col>&lt;int&gt;</th><th scope=col>&lt;dttm&gt;</th><th scope=col>&lt;int&gt;</th><th scope=col>&lt;chr&gt;</th><th scope=col>&lt;int&gt;</th><th scope=col>&lt;int&gt;</th><th scope=col>&lt;int&gt;</th><th scope=col>&lt;dttm&gt;</th><th scope=col>&lt;dttm&gt;</th><th scope=col>&lt;dttm&gt;</th><th scope=col>&lt;int&gt;</th></tr>\n",
              "</thead>\n",
              "<tbody>\n",
              "\t<tr><td>108</td><td>2012-01-01 11:00:00</td><td>1</td><td>L1052500</td><td>1</td><td>0</td><td>1</td><td>2012-01-01 12:00:00</td><td>NA</td><td>NA</td><td>0</td></tr>\n",
              "\t<tr><td>108</td><td>2012-01-01 13:30:00</td><td>2</td><td>S1231100</td><td>6</td><td>0</td><td>1</td><td>2012-01-01 13:30:00</td><td>NA</td><td>NA</td><td>0</td></tr>\n",
              "\t<tr><td>108</td><td>2012-01-01 13:30:00</td><td>2</td><td>S1231200</td><td>6</td><td>0</td><td>1</td><td>2012-01-01 13:30:00</td><td>NA</td><td>NA</td><td>0</td></tr>\n",
              "\t<tr><td>108</td><td>2012-01-01 11:00:00</td><td>1</td><td>S1152000</td><td>6</td><td>0</td><td>1</td><td>2012-01-01 15:00:00</td><td>NA</td><td>NA</td><td>0</td></tr>\n",
              "\t<tr><td>108</td><td>2012-01-01 11:00:00</td><td>1</td><td>S1252000</td><td>6</td><td>0</td><td>1</td><td>2012-01-01 15:00:00</td><td>NA</td><td>NA</td><td>0</td></tr>\n",
              "\t<tr><td>108</td><td>2012-01-01 13:30:00</td><td>2</td><td>S1251300</td><td>6</td><td>0</td><td>1</td><td>2012-01-01 15:00:00</td><td>NA</td><td>NA</td><td>0</td></tr>\n",
              "</tbody>\n",
              "</table>\n"
            ],
            "text/markdown": "\nA data.table: 6 × 11\n\n| stn_id &lt;int&gt; | tm_fc &lt;dttm&gt; | tm_seq &lt;int&gt; | area_code &lt;chr&gt; | warn_var &lt;int&gt; | warn_stress &lt;int&gt; | command &lt;int&gt; | start_time &lt;dttm&gt; | end_time &lt;dttm&gt; | all_end_time &lt;dttm&gt; | cancel &lt;int&gt; |\n|---|---|---|---|---|---|---|---|---|---|---|\n| 108 | 2012-01-01 11:00:00 | 1 | L1052500 | 1 | 0 | 1 | 2012-01-01 12:00:00 | NA | NA | 0 |\n| 108 | 2012-01-01 13:30:00 | 2 | S1231100 | 6 | 0 | 1 | 2012-01-01 13:30:00 | NA | NA | 0 |\n| 108 | 2012-01-01 13:30:00 | 2 | S1231200 | 6 | 0 | 1 | 2012-01-01 13:30:00 | NA | NA | 0 |\n| 108 | 2012-01-01 11:00:00 | 1 | S1152000 | 6 | 0 | 1 | 2012-01-01 15:00:00 | NA | NA | 0 |\n| 108 | 2012-01-01 11:00:00 | 1 | S1252000 | 6 | 0 | 1 | 2012-01-01 15:00:00 | NA | NA | 0 |\n| 108 | 2012-01-01 13:30:00 | 2 | S1251300 | 6 | 0 | 1 | 2012-01-01 15:00:00 | NA | NA | 0 |\n\n",
            "text/latex": "A data.table: 6 × 11\n\\begin{tabular}{lllllllllll}\n stn\\_id & tm\\_fc & tm\\_seq & area\\_code & warn\\_var & warn\\_stress & command & start\\_time & end\\_time & all\\_end\\_time & cancel\\\\\n <int> & <dttm> & <int> & <chr> & <int> & <int> & <int> & <dttm> & <dttm> & <dttm> & <int>\\\\\n\\hline\n\t 108 & 2012-01-01 11:00:00 & 1 & L1052500 & 1 & 0 & 1 & 2012-01-01 12:00:00 & NA & NA & 0\\\\\n\t 108 & 2012-01-01 13:30:00 & 2 & S1231100 & 6 & 0 & 1 & 2012-01-01 13:30:00 & NA & NA & 0\\\\\n\t 108 & 2012-01-01 13:30:00 & 2 & S1231200 & 6 & 0 & 1 & 2012-01-01 13:30:00 & NA & NA & 0\\\\\n\t 108 & 2012-01-01 11:00:00 & 1 & S1152000 & 6 & 0 & 1 & 2012-01-01 15:00:00 & NA & NA & 0\\\\\n\t 108 & 2012-01-01 11:00:00 & 1 & S1252000 & 6 & 0 & 1 & 2012-01-01 15:00:00 & NA & NA & 0\\\\\n\t 108 & 2012-01-01 13:30:00 & 2 & S1251300 & 6 & 0 & 1 & 2012-01-01 15:00:00 & NA & NA & 0\\\\\n\\end{tabular}\n",
            "text/plain": [
              "  stn_id tm_fc               tm_seq area_code warn_var warn_stress command\n",
              "1 108    2012-01-01 11:00:00 1      L1052500  1        0           1      \n",
              "2 108    2012-01-01 13:30:00 2      S1231100  6        0           1      \n",
              "3 108    2012-01-01 13:30:00 2      S1231200  6        0           1      \n",
              "4 108    2012-01-01 11:00:00 1      S1152000  6        0           1      \n",
              "5 108    2012-01-01 11:00:00 1      S1252000  6        0           1      \n",
              "6 108    2012-01-01 13:30:00 2      S1251300  6        0           1      \n",
              "  start_time          end_time all_end_time cancel\n",
              "1 2012-01-01 12:00:00 <NA>     <NA>         0     \n",
              "2 2012-01-01 13:30:00 <NA>     <NA>         0     \n",
              "3 2012-01-01 13:30:00 <NA>     <NA>         0     \n",
              "4 2012-01-01 15:00:00 <NA>     <NA>         0     \n",
              "5 2012-01-01 15:00:00 <NA>     <NA>         0     \n",
              "6 2012-01-01 15:00:00 <NA>     <NA>         0     "
            ]
          },
          "metadata": {}
        }
      ]
    },
    {
      "cell_type": "markdown",
      "source": [
        "# 데이터테이블 병합"
      ],
      "metadata": {
        "id": "Rs3vWgpYDBff"
      }
    },
    {
      "cell_type": "code",
      "source": [
        "sqldf(\"select *\n",
        "  from 특보\n",
        "  left join 특보구역2\n",
        "  on 특보.area_code=특보구역2.특보구역\n",
        "\")  -> DT"
      ],
      "metadata": {
        "id": "jIV4kH-f_ipQ"
      },
      "execution_count": 76,
      "outputs": []
    },
    {
      "cell_type": "code",
      "source": [
        "plot_intro(DT)"
      ],
      "metadata": {
        "colab": {
          "base_uri": "https://localhost:8080/",
          "height": 437
        },
        "id": "XagTtiE6_Tos",
        "outputId": "0dc12e48-c8bf-430f-8994-93b85f32c0a9"
      },
      "execution_count": 77,
      "outputs": [
        {
          "output_type": "display_data",
          "data": {
            "text/plain": [
              "plot without title"
            ],
            "image/png": "[encoded data removed]"
          },
          "metadata": {
            "image/png": {
              "width": 420,
              "height": 420
            }
          }
        }
      ]
    },
    {
      "cell_type": "code",
      "source": [
        "plot_missing(DT)"
      ],
      "metadata": {
        "colab": {
          "base_uri": "https://localhost:8080/",
          "height": 437
        },
        "id": "G557gKbz_UIv",
        "outputId": "96601964-be08-469b-93b9-ab9ce672219a"
      },
      "execution_count": 78,
      "outputs": [
        {
          "output_type": "display_data",
          "data": {
            "text/plain": [
              "plot without title"
            ],
            "image/png": "[encoded data removed]"
          },
          "metadata": {
            "image/png": {
              "width": 420,
              "height": 420
            }
          }
        }
      ]
    },
    {
      "cell_type": "code",
      "source": [
        "DT %>% select(tm_fc, tm_seq, area_code,warn_var,warn_stress\t,command, cancel, 특보구역명_정식,구역특성) ->DT2"
      ],
      "metadata": {
        "id": "gjr4jAnOEU_P"
      },
      "execution_count": 94,
      "outputs": []
    },
    {
      "cell_type": "code",
      "source": [
        "DT2 %>% filter( warn_var==12, 특보구역명_정식== '인천광역시')"
      ],
      "metadata": {
        "colab": {
          "base_uri": "https://localhost:8080/",
          "height": 412
        },
        "id": "nwqBF9vOF4Lp",
        "outputId": "d7a0a310-66b0-4368-f372-230773127a72"
      },
      "execution_count": 97,
      "outputs": [
        {
          "output_type": "display_data",
          "data": {
            "text/html": [
              "<table class=\"dataframe\">\n",
              "<caption>A data.frame: 10 × 9</caption>\n",
              "<thead>\n",
              "\t<tr><th scope=col>tm_fc</th><th scope=col>tm_seq</th><th scope=col>area_code</th><th scope=col>warn_var</th><th scope=col>warn_stress</th><th scope=col>command</th><th scope=col>cancel</th><th scope=col>특보구역명_정식</th><th scope=col>구역특성</th></tr>\n",
              "\t<tr><th scope=col>&lt;dttm&gt;</th><th scope=col>&lt;int&gt;</th><th scope=col>&lt;chr&gt;</th><th scope=col>&lt;int&gt;</th><th scope=col>&lt;int&gt;</th><th scope=col>&lt;int&gt;</th><th scope=col>&lt;int&gt;</th><th scope=col>&lt;chr&gt;</th><th scope=col>&lt;int&gt;</th></tr>\n",
              "</thead>\n",
              "<tbody>\n",
              "\t<tr><td>2012-06-25 04:00:00</td><td>19</td><td>L1010800</td><td>12</td><td>0</td><td>1</td><td>0</td><td>인천광역시</td><td>113</td></tr>\n",
              "\t<tr><td>2012-06-25 16:00:00</td><td>22</td><td>L1010800</td><td>12</td><td>0</td><td>2</td><td>0</td><td>인천광역시</td><td>113</td></tr>\n",
              "\t<tr><td>2012-08-01 04:00:00</td><td> 1</td><td>L1010800</td><td>12</td><td>0</td><td>1</td><td>0</td><td>인천광역시</td><td>113</td></tr>\n",
              "\t<tr><td>2012-08-08 16:00:00</td><td>24</td><td>L1010800</td><td>12</td><td>0</td><td>2</td><td>0</td><td>인천광역시</td><td>113</td></tr>\n",
              "\t<tr><td>2014-08-01 10:00:00</td><td> 6</td><td>L1010800</td><td>12</td><td>0</td><td>1</td><td>0</td><td>인천광역시</td><td>113</td></tr>\n",
              "\t<tr><td>2014-08-02 21:00:00</td><td>30</td><td>L1010800</td><td>12</td><td>0</td><td>2</td><td>0</td><td>인천광역시</td><td>113</td></tr>\n",
              "\t<tr><td>2016-08-03 17:00:00</td><td>17</td><td>L1010800</td><td>12</td><td>0</td><td>1</td><td>0</td><td>인천광역시</td><td>113</td></tr>\n",
              "\t<tr><td>2016-08-21 13:00:00</td><td>70</td><td>L1010800</td><td>12</td><td>1</td><td>5</td><td>0</td><td>인천광역시</td><td>113</td></tr>\n",
              "\t<tr><td>2016-08-24 16:00:00</td><td>74</td><td>L1010800</td><td>12</td><td>0</td><td>5</td><td>0</td><td>인천광역시</td><td>113</td></tr>\n",
              "\t<tr><td>2016-08-25 16:00:00</td><td>75</td><td>L1010800</td><td>12</td><td>0</td><td>2</td><td>0</td><td>인천광역시</td><td>113</td></tr>\n",
              "</tbody>\n",
              "</table>\n"
            ],
            "text/markdown": "\nA data.frame: 10 × 9\n\n| tm_fc &lt;dttm&gt; | tm_seq &lt;int&gt; | area_code &lt;chr&gt; | warn_var &lt;int&gt; | warn_stress &lt;int&gt; | command &lt;int&gt; | cancel &lt;int&gt; | 특보구역명_정식 &lt;chr&gt; | 구역특성 &lt;int&gt; |\n|---|---|---|---|---|---|---|---|---|\n| 2012-06-25 04:00:00 | 19 | L1010800 | 12 | 0 | 1 | 0 | 인천광역시 | 113 |\n| 2012-06-25 16:00:00 | 22 | L1010800 | 12 | 0 | 2 | 0 | 인천광역시 | 113 |\n| 2012-08-01 04:00:00 |  1 | L1010800 | 12 | 0 | 1 | 0 | 인천광역시 | 113 |\n| 2012-08-08 16:00:00 | 24 | L1010800 | 12 | 0 | 2 | 0 | 인천광역시 | 113 |\n| 2014-08-01 10:00:00 |  6 | L1010800 | 12 | 0 | 1 | 0 | 인천광역시 | 113 |\n| 2014-08-02 21:00:00 | 30 | L1010800 | 12 | 0 | 2 | 0 | 인천광역시 | 113 |\n| 2016-08-03 17:00:00 | 17 | L1010800 | 12 | 0 | 1 | 0 | 인천광역시 | 113 |\n| 2016-08-21 13:00:00 | 70 | L1010800 | 12 | 1 | 5 | 0 | 인천광역시 | 113 |\n| 2016-08-24 16:00:00 | 74 | L1010800 | 12 | 0 | 5 | 0 | 인천광역시 | 113 |\n| 2016-08-25 16:00:00 | 75 | L1010800 | 12 | 0 | 2 | 0 | 인천광역시 | 113 |\n\n",
            "text/latex": "A data.frame: 10 × 9\n\\begin{tabular}{lllllllll}\n tm\\_fc & tm\\_seq & area\\_code & warn\\_var & warn\\_stress & command & cancel & 특보구역명\\_정식 & 구역특성\\\\\n <dttm> & <int> & <chr> & <int> & <int> & <int> & <int> & <chr> & <int>\\\\\n\\hline\n\t 2012-06-25 04:00:00 & 19 & L1010800 & 12 & 0 & 1 & 0 & 인천광역시 & 113\\\\\n\t 2012-06-25 16:00:00 & 22 & L1010800 & 12 & 0 & 2 & 0 & 인천광역시 & 113\\\\\n\t 2012-08-01 04:00:00 &  1 & L1010800 & 12 & 0 & 1 & 0 & 인천광역시 & 113\\\\\n\t 2012-08-08 16:00:00 & 24 & L1010800 & 12 & 0 & 2 & 0 & 인천광역시 & 113\\\\\n\t 2014-08-01 10:00:00 &  6 & L1010800 & 12 & 0 & 1 & 0 & 인천광역시 & 113\\\\\n\t 2014-08-02 21:00:00 & 30 & L1010800 & 12 & 0 & 2 & 0 & 인천광역시 & 113\\\\\n\t 2016-08-03 17:00:00 & 17 & L1010800 & 12 & 0 & 1 & 0 & 인천광역시 & 113\\\\\n\t 2016-08-21 13:00:00 & 70 & L1010800 & 12 & 1 & 5 & 0 & 인천광역시 & 113\\\\\n\t 2016-08-24 16:00:00 & 74 & L1010800 & 12 & 0 & 5 & 0 & 인천광역시 & 113\\\\\n\t 2016-08-25 16:00:00 & 75 & L1010800 & 12 & 0 & 2 & 0 & 인천광역시 & 113\\\\\n\\end{tabular}\n",
            "text/plain": [
              "   tm_fc               tm_seq area_code warn_var warn_stress command cancel\n",
              "1  2012-06-25 04:00:00 19     L1010800  12       0           1       0     \n",
              "2  2012-06-25 16:00:00 22     L1010800  12       0           2       0     \n",
              "3  2012-08-01 04:00:00  1     L1010800  12       0           1       0     \n",
              "4  2012-08-08 16:00:00 24     L1010800  12       0           2       0     \n",
              "5  2014-08-01 10:00:00  6     L1010800  12       0           1       0     \n",
              "6  2014-08-02 21:00:00 30     L1010800  12       0           2       0     \n",
              "7  2016-08-03 17:00:00 17     L1010800  12       0           1       0     \n",
              "8  2016-08-21 13:00:00 70     L1010800  12       1           5       0     \n",
              "9  2016-08-24 16:00:00 74     L1010800  12       0           5       0     \n",
              "10 2016-08-25 16:00:00 75     L1010800  12       0           2       0     \n",
              "   특보구역명_정식 구역특성\n",
              "1  인천광역시      113     \n",
              "2  인천광역시      113     \n",
              "3  인천광역시      113     \n",
              "4  인천광역시      113     \n",
              "5  인천광역시      113     \n",
              "6  인천광역시      113     \n",
              "7  인천광역시      113     \n",
              "8  인천광역시      113     \n",
              "9  인천광역시      113     \n",
              "10 인천광역시      113     "
            ]
          },
          "metadata": {}
        }
      ]
    },
    {
      "cell_type": "code",
      "source": [
        "DT2 %>% select(특보구역명_정식, 구역특성) %>%\n",
        "  filter(구역특성==13) %>% head"
      ],
      "metadata": {
        "colab": {
          "base_uri": "https://localhost:8080/",
          "height": 286
        },
        "id": "6WLDOgoTHSE8",
        "outputId": "34a7b2be-b7aa-43cd-f1b4-8256e840a3ab"
      },
      "execution_count": 102,
      "outputs": [
        {
          "output_type": "display_data",
          "data": {
            "text/html": [
              "<table class=\"dataframe\">\n",
              "<caption>A data.frame: 6 × 2</caption>\n",
              "<thead>\n",
              "\t<tr><th></th><th scope=col>특보구역명_정식</th><th scope=col>구역특성</th></tr>\n",
              "\t<tr><th></th><th scope=col>&lt;chr&gt;</th><th scope=col>&lt;int&gt;</th></tr>\n",
              "</thead>\n",
              "<tbody>\n",
              "\t<tr><th scope=row>1</th><td>철원군  </td><td>13</td></tr>\n",
              "\t<tr><th scope=row>2</th><td>화천군  </td><td>13</td></tr>\n",
              "\t<tr><th scope=row>3</th><td>양구군  </td><td>13</td></tr>\n",
              "\t<tr><th scope=row>4</th><td>김해시  </td><td>13</td></tr>\n",
              "\t<tr><th scope=row>5</th><td>동두천시</td><td>13</td></tr>\n",
              "\t<tr><th scope=row>6</th><td>연천군  </td><td>13</td></tr>\n",
              "</tbody>\n",
              "</table>\n"
            ],
            "text/markdown": "\nA data.frame: 6 × 2\n\n| <!--/--> | 특보구역명_정식 &lt;chr&gt; | 구역특성 &lt;int&gt; |\n|---|---|---|\n| 1 | 철원군   | 13 |\n| 2 | 화천군   | 13 |\n| 3 | 양구군   | 13 |\n| 4 | 김해시   | 13 |\n| 5 | 동두천시 | 13 |\n| 6 | 연천군   | 13 |\n\n",
            "text/latex": "A data.frame: 6 × 2\n\\begin{tabular}{r|ll}\n  & 특보구역명\\_정식 & 구역특성\\\\\n  & <chr> & <int>\\\\\n\\hline\n\t1 & 철원군   & 13\\\\\n\t2 & 화천군   & 13\\\\\n\t3 & 양구군   & 13\\\\\n\t4 & 김해시   & 13\\\\\n\t5 & 동두천시 & 13\\\\\n\t6 & 연천군   & 13\\\\\n\\end{tabular}\n",
            "text/plain": [
              "  특보구역명_정식 구역특성\n",
              "1 철원군          13      \n",
              "2 화천군          13      \n",
              "3 양구군          13      \n",
              "4 김해시          13      \n",
              "5 동두천시        13      \n",
              "6 연천군          13      "
            ]
          },
          "metadata": {}
        }
      ]
    },
    {
      "cell_type": "code",
      "source": [
        "DT2 %>% filter(is.na(특보구역명_정식))"
      ],
      "metadata": {
        "colab": {
          "base_uri": "https://localhost:8080/",
          "height": 1000
        },
        "id": "JmVs694xHzZA",
        "outputId": "fc38c23f-9e5b-4e5d-bf88-240ec5ed6b9c"
      },
      "execution_count": 106,
      "outputs": [
        {
          "output_type": "display_data",
          "data": {
            "text/html": [
              "<table class=\"dataframe\">\n",
              "<caption>A data.frame: 135 × 9</caption>\n",
              "<thead>\n",
              "\t<tr><th scope=col>tm_fc</th><th scope=col>tm_seq</th><th scope=col>area_code</th><th scope=col>warn_var</th><th scope=col>warn_stress</th><th scope=col>command</th><th scope=col>cancel</th><th scope=col>특보구역명_정식</th><th scope=col>구역특성</th></tr>\n",
              "\t<tr><th scope=col>&lt;dttm&gt;</th><th scope=col>&lt;int&gt;</th><th scope=col>&lt;chr&gt;</th><th scope=col>&lt;int&gt;</th><th scope=col>&lt;int&gt;</th><th scope=col>&lt;int&gt;</th><th scope=col>&lt;int&gt;</th><th scope=col>&lt;chr&gt;</th><th scope=col>&lt;int&gt;</th></tr>\n",
              "</thead>\n",
              "<tbody>\n",
              "\t<tr><td>2016-01-18 03:00:00</td><td> 67</td><td>L1052600</td><td>1</td><td>0</td><td>1</td><td>0</td><td>NA</td><td>NA</td></tr>\n",
              "\t<tr><td>2016-01-18 07:00:00</td><td> 70</td><td>L1091000</td><td>1</td><td>0</td><td>1</td><td>0</td><td>NA</td><td>NA</td></tr>\n",
              "\t<tr><td>2016-01-19 21:00:00</td><td> 92</td><td>L1052600</td><td>1</td><td>0</td><td>2</td><td>0</td><td>NA</td><td>NA</td></tr>\n",
              "\t<tr><td>2016-01-19 21:00:00</td><td> 92</td><td>L1091000</td><td>1</td><td>0</td><td>2</td><td>0</td><td>NA</td><td>NA</td></tr>\n",
              "\t<tr><td>2016-01-23 04:00:00</td><td>113</td><td>L1091000</td><td>1</td><td>0</td><td>1</td><td>0</td><td>NA</td><td>NA</td></tr>\n",
              "\t<tr><td>2016-01-23 09:30:00</td><td>117</td><td>L1052600</td><td>1</td><td>0</td><td>1</td><td>0</td><td>NA</td><td>NA</td></tr>\n",
              "\t<tr><td>2016-01-23 09:30:00</td><td>117</td><td>L1091000</td><td>8</td><td>0</td><td>1</td><td>0</td><td>NA</td><td>NA</td></tr>\n",
              "\t<tr><td>2016-01-23 11:00:00</td><td>118</td><td>L1091000</td><td>3</td><td>0</td><td>1</td><td>0</td><td>NA</td><td>NA</td></tr>\n",
              "\t<tr><td>2016-01-24 04:00:00</td><td>132</td><td>L1091000</td><td>1</td><td>1</td><td>5</td><td>0</td><td>NA</td><td>NA</td></tr>\n",
              "\t<tr><td>2016-01-25 03:00:00</td><td>144</td><td>L1091000</td><td>1</td><td>0</td><td>5</td><td>0</td><td>NA</td><td>NA</td></tr>\n",
              "\t<tr><td>2016-01-25 09:00:00</td><td>147</td><td>L1091000</td><td>1</td><td>0</td><td>2</td><td>0</td><td>NA</td><td>NA</td></tr>\n",
              "\t<tr><td>2016-01-25 11:00:00</td><td>149</td><td>L1091000</td><td>3</td><td>0</td><td>2</td><td>0</td><td>NA</td><td>NA</td></tr>\n",
              "\t<tr><td>2016-01-25 14:00:00</td><td>152</td><td>L1052600</td><td>1</td><td>0</td><td>2</td><td>0</td><td>NA</td><td>NA</td></tr>\n",
              "\t<tr><td>2016-01-25 14:00:00</td><td>152</td><td>L1091000</td><td>8</td><td>0</td><td>2</td><td>0</td><td>NA</td><td>NA</td></tr>\n",
              "\t<tr><td>2016-02-02 02:00:00</td><td>  5</td><td>L1052600</td><td>1</td><td>0</td><td>1</td><td>0</td><td>NA</td><td>NA</td></tr>\n",
              "\t<tr><td>2016-02-02 06:00:00</td><td>  6</td><td>L1052600</td><td>1</td><td>0</td><td>2</td><td>0</td><td>NA</td><td>NA</td></tr>\n",
              "\t<tr><td>2016-02-11 20:30:00</td><td> 51</td><td>L1091000</td><td>1</td><td>0</td><td>1</td><td>0</td><td>NA</td><td>NA</td></tr>\n",
              "\t<tr><td>2016-02-12 05:10:00</td><td> 53</td><td>L1052600</td><td>1</td><td>0</td><td>1</td><td>0</td><td>NA</td><td>NA</td></tr>\n",
              "\t<tr><td>2016-02-12 07:30:00</td><td> 55</td><td>L1091000</td><td>1</td><td>0</td><td>2</td><td>0</td><td>NA</td><td>NA</td></tr>\n",
              "\t<tr><td>2016-02-12 20:40:00</td><td> 64</td><td>L1052600</td><td>2</td><td>0</td><td>1</td><td>0</td><td>NA</td><td>NA</td></tr>\n",
              "\t<tr><td>2016-02-12 23:00:00</td><td> 65</td><td>L1052600</td><td>2</td><td>0</td><td>2</td><td>0</td><td>NA</td><td>NA</td></tr>\n",
              "\t<tr><td>2016-02-13 10:30:00</td><td> 69</td><td>L1052600</td><td>1</td><td>0</td><td>2</td><td>0</td><td>NA</td><td>NA</td></tr>\n",
              "\t<tr><td>2016-02-13 16:00:00</td><td> 71</td><td>L1091000</td><td>1</td><td>0</td><td>1</td><td>0</td><td>NA</td><td>NA</td></tr>\n",
              "\t<tr><td>2016-02-13 21:00:00</td><td> 73</td><td>L1052600</td><td>1</td><td>0</td><td>1</td><td>0</td><td>NA</td><td>NA</td></tr>\n",
              "\t<tr><td>2016-02-15 11:00:00</td><td> 87</td><td>L1091000</td><td>1</td><td>0</td><td>2</td><td>0</td><td>NA</td><td>NA</td></tr>\n",
              "\t<tr><td>2016-02-15 13:00:00</td><td> 88</td><td>L1052600</td><td>1</td><td>0</td><td>2</td><td>0</td><td>NA</td><td>NA</td></tr>\n",
              "\t<tr><td>2016-02-28 19:00:00</td><td>166</td><td>L1052600</td><td>1</td><td>0</td><td>1</td><td>0</td><td>NA</td><td>NA</td></tr>\n",
              "\t<tr><td>2016-02-29 00:30:00</td><td>171</td><td>L1091000</td><td>1</td><td>0</td><td>1</td><td>0</td><td>NA</td><td>NA</td></tr>\n",
              "\t<tr><td>2016-03-01 03:00:00</td><td>  1</td><td>L1052600</td><td>1</td><td>0</td><td>2</td><td>0</td><td>NA</td><td>NA</td></tr>\n",
              "\t<tr><td>2016-03-01 03:00:00</td><td>  1</td><td>L1091000</td><td>1</td><td>0</td><td>2</td><td>0</td><td>NA</td><td>NA</td></tr>\n",
              "\t<tr><td>⋮</td><td>⋮</td><td>⋮</td><td>⋮</td><td>⋮</td><td>⋮</td><td>⋮</td><td>⋮</td><td>⋮</td></tr>\n",
              "\t<tr><td>2016-10-05 10:30:00</td><td> 25</td><td>L1091000</td><td>7</td><td>1</td><td>2</td><td>0</td><td>NA</td><td>NA</td></tr>\n",
              "\t<tr><td>2016-10-05 11:30:00</td><td> 26</td><td>L1052600</td><td>7</td><td>1</td><td>2</td><td>0</td><td>NA</td><td>NA</td></tr>\n",
              "\t<tr><td>2016-10-21 09:00:00</td><td> 73</td><td>L1052600</td><td>1</td><td>0</td><td>1</td><td>0</td><td>NA</td><td>NA</td></tr>\n",
              "\t<tr><td>2016-10-21 19:00:00</td><td> 77</td><td>L1052600</td><td>1</td><td>0</td><td>2</td><td>0</td><td>NA</td><td>NA</td></tr>\n",
              "\t<tr><td>2016-10-23 04:00:00</td><td> 83</td><td>L1052600</td><td>1</td><td>0</td><td>1</td><td>0</td><td>NA</td><td>NA</td></tr>\n",
              "\t<tr><td>2016-10-24 07:00:00</td><td> 92</td><td>L1052600</td><td>1</td><td>0</td><td>2</td><td>0</td><td>NA</td><td>NA</td></tr>\n",
              "\t<tr><td>2016-11-01 02:00:00</td><td>  3</td><td>L1052600</td><td>1</td><td>0</td><td>1</td><td>0</td><td>NA</td><td>NA</td></tr>\n",
              "\t<tr><td>2016-11-01 11:00:00</td><td>  6</td><td>L1052600</td><td>1</td><td>0</td><td>2</td><td>0</td><td>NA</td><td>NA</td></tr>\n",
              "\t<tr><td>2016-11-06 16:00:00</td><td> 22</td><td>L1052600</td><td>1</td><td>0</td><td>1</td><td>0</td><td>NA</td><td>NA</td></tr>\n",
              "\t<tr><td>2016-11-07 04:00:00</td><td> 26</td><td>L1052600</td><td>1</td><td>0</td><td>2</td><td>0</td><td>NA</td><td>NA</td></tr>\n",
              "\t<tr><td>2016-11-08 10:00:00</td><td> 35</td><td>L1052600</td><td>1</td><td>0</td><td>1</td><td>0</td><td>NA</td><td>NA</td></tr>\n",
              "\t<tr><td>2016-11-09 09:00:00</td><td> 39</td><td>L1052600</td><td>1</td><td>0</td><td>2</td><td>0</td><td>NA</td><td>NA</td></tr>\n",
              "\t<tr><td>2016-11-18 21:30:00</td><td> 55</td><td>L1052600</td><td>2</td><td>0</td><td>1</td><td>0</td><td>NA</td><td>NA</td></tr>\n",
              "\t<tr><td>2016-11-18 22:50:00</td><td> 56</td><td>L1052600</td><td>2</td><td>0</td><td>2</td><td>0</td><td>NA</td><td>NA</td></tr>\n",
              "\t<tr><td>2016-11-22 11:00:00</td><td> 63</td><td>L1052600</td><td>1</td><td>0</td><td>1</td><td>0</td><td>NA</td><td>NA</td></tr>\n",
              "\t<tr><td>2016-11-23 03:00:00</td><td> 72</td><td>L1052600</td><td>1</td><td>0</td><td>2</td><td>0</td><td>NA</td><td>NA</td></tr>\n",
              "\t<tr><td>2016-12-05 23:00:00</td><td> 15</td><td>L1052600</td><td>1</td><td>0</td><td>1</td><td>0</td><td>NA</td><td>NA</td></tr>\n",
              "\t<tr><td>2016-12-06 10:00:00</td><td> 18</td><td>L1052600</td><td>1</td><td>0</td><td>2</td><td>0</td><td>NA</td><td>NA</td></tr>\n",
              "\t<tr><td>2016-12-14 02:00:00</td><td> 47</td><td>L1091000</td><td>1</td><td>0</td><td>1</td><td>0</td><td>NA</td><td>NA</td></tr>\n",
              "\t<tr><td>2016-12-14 03:00:00</td><td> 48</td><td>L1052600</td><td>1</td><td>0</td><td>1</td><td>0</td><td>NA</td><td>NA</td></tr>\n",
              "\t<tr><td>2016-12-16 11:00:00</td><td> 71</td><td>L1052600</td><td>1</td><td>0</td><td>2</td><td>0</td><td>NA</td><td>NA</td></tr>\n",
              "\t<tr><td>2016-12-16 11:00:00</td><td> 71</td><td>L1091000</td><td>1</td><td>0</td><td>2</td><td>0</td><td>NA</td><td>NA</td></tr>\n",
              "\t<tr><td>2016-12-21 20:00:00</td><td> 80</td><td>L1091000</td><td>1</td><td>0</td><td>1</td><td>0</td><td>NA</td><td>NA</td></tr>\n",
              "\t<tr><td>2016-12-21 21:30:00</td><td> 83</td><td>L1052600</td><td>1</td><td>0</td><td>1</td><td>0</td><td>NA</td><td>NA</td></tr>\n",
              "\t<tr><td>2016-12-23 21:00:00</td><td>109</td><td>L1091000</td><td>1</td><td>0</td><td>2</td><td>0</td><td>NA</td><td>NA</td></tr>\n",
              "\t<tr><td>2016-12-24 04:00:00</td><td>111</td><td>L1052600</td><td>1</td><td>0</td><td>2</td><td>0</td><td>NA</td><td>NA</td></tr>\n",
              "\t<tr><td>2016-12-27 04:00:00</td><td>128</td><td>L1052600</td><td>1</td><td>0</td><td>1</td><td>0</td><td>NA</td><td>NA</td></tr>\n",
              "\t<tr><td>2016-12-27 06:00:00</td><td>131</td><td>L1091000</td><td>1</td><td>0</td><td>1</td><td>0</td><td>NA</td><td>NA</td></tr>\n",
              "\t<tr><td>2016-12-28 04:00:00</td><td>147</td><td>L1052600</td><td>1</td><td>0</td><td>2</td><td>0</td><td>NA</td><td>NA</td></tr>\n",
              "\t<tr><td>2016-12-28 04:00:00</td><td>147</td><td>L1091000</td><td>1</td><td>0</td><td>2</td><td>0</td><td>NA</td><td>NA</td></tr>\n",
              "</tbody>\n",
              "</table>\n"
            ],
            "text/markdown": "\nA data.frame: 135 × 9\n\n| tm_fc &lt;dttm&gt; | tm_seq &lt;int&gt; | area_code &lt;chr&gt; | warn_var &lt;int&gt; | warn_stress &lt;int&gt; | command &lt;int&gt; | cancel &lt;int&gt; | 특보구역명_정식 &lt;chr&gt; | 구역특성 &lt;int&gt; |\n|---|---|---|---|---|---|---|---|---|\n| 2016-01-18 03:00:00 |  67 | L1052600 | 1 | 0 | 1 | 0 | NA | NA |\n| 2016-01-18 07:00:00 |  70 | L1091000 | 1 | 0 | 1 | 0 | NA | NA |\n| 2016-01-19 21:00:00 |  92 | L1052600 | 1 | 0 | 2 | 0 | NA | NA |\n| 2016-01-19 21:00:00 |  92 | L1091000 | 1 | 0 | 2 | 0 | NA | NA |\n| 2016-01-23 04:00:00 | 113 | L1091000 | 1 | 0 | 1 | 0 | NA | NA |\n| 2016-01-23 09:30:00 | 117 | L1052600 | 1 | 0 | 1 | 0 | NA | NA |\n| 2016-01-23 09:30:00 | 117 | L1091000 | 8 | 0 | 1 | 0 | NA | NA |\n| 2016-01-23 11:00:00 | 118 | L1091000 | 3 | 0 | 1 | 0 | NA | NA |\n| 2016-01-24 04:00:00 | 132 | L1091000 | 1 | 1 | 5 | 0 | NA | NA |\n| 2016-01-25 03:00:00 | 144 | L1091000 | 1 | 0 | 5 | 0 | NA | NA |\n| 2016-01-25 09:00:00 | 147 | L1091000 | 1 | 0 | 2 | 0 | NA | NA |\n| 2016-01-25 11:00:00 | 149 | L1091000 | 3 | 0 | 2 | 0 | NA | NA |\n| 2016-01-25 14:00:00 | 152 | L1052600 | 1 | 0 | 2 | 0 | NA | NA |\n| 2016-01-25 14:00:00 | 152 | L1091000 | 8 | 0 | 2 | 0 | NA | NA |\n| 2016-02-02 02:00:00 |   5 | L1052600 | 1 | 0 | 1 | 0 | NA | NA |\n| 2016-02-02 06:00:00 |   6 | L1052600 | 1 | 0 | 2 | 0 | NA | NA |\n| 2016-02-11 20:30:00 |  51 | L1091000 | 1 | 0 | 1 | 0 | NA | NA |\n| 2016-02-12 05:10:00 |  53 | L1052600 | 1 | 0 | 1 | 0 | NA | NA |\n| 2016-02-12 07:30:00 |  55 | L1091000 | 1 | 0 | 2 | 0 | NA | NA |\n| 2016-02-12 20:40:00 |  64 | L1052600 | 2 | 0 | 1 | 0 | NA | NA |\n| 2016-02-12 23:00:00 |  65 | L1052600 | 2 | 0 | 2 | 0 | NA | NA |\n| 2016-02-13 10:30:00 |  69 | L1052600 | 1 | 0 | 2 | 0 | NA | NA |\n| 2016-02-13 16:00:00 |  71 | L1091000 | 1 | 0 | 1 | 0 | NA | NA |\n| 2016-02-13 21:00:00 |  73 | L1052600 | 1 | 0 | 1 | 0 | NA | NA |\n| 2016-02-15 11:00:00 |  87 | L1091000 | 1 | 0 | 2 | 0 | NA | NA |\n| 2016-02-15 13:00:00 |  88 | L1052600 | 1 | 0 | 2 | 0 | NA | NA |\n| 2016-02-28 19:00:00 | 166 | L1052600 | 1 | 0 | 1 | 0 | NA | NA |\n| 2016-02-29 00:30:00 | 171 | L1091000 | 1 | 0 | 1 | 0 | NA | NA |\n| 2016-03-01 03:00:00 |   1 | L1052600 | 1 | 0 | 2 | 0 | NA | NA |\n| 2016-03-01 03:00:00 |   1 | L1091000 | 1 | 0 | 2 | 0 | NA | NA |\n| ⋮ | ⋮ | ⋮ | ⋮ | ⋮ | ⋮ | ⋮ | ⋮ | ⋮ |\n| 2016-10-05 10:30:00 |  25 | L1091000 | 7 | 1 | 2 | 0 | NA | NA |\n| 2016-10-05 11:30:00 |  26 | L1052600 | 7 | 1 | 2 | 0 | NA | NA |\n| 2016-10-21 09:00:00 |  73 | L1052600 | 1 | 0 | 1 | 0 | NA | NA |\n| 2016-10-21 19:00:00 |  77 | L1052600 | 1 | 0 | 2 | 0 | NA | NA |\n| 2016-10-23 04:00:00 |  83 | L1052600 | 1 | 0 | 1 | 0 | NA | NA |\n| 2016-10-24 07:00:00 |  92 | L1052600 | 1 | 0 | 2 | 0 | NA | NA |\n| 2016-11-01 02:00:00 |   3 | L1052600 | 1 | 0 | 1 | 0 | NA | NA |\n| 2016-11-01 11:00:00 |   6 | L1052600 | 1 | 0 | 2 | 0 | NA | NA |\n| 2016-11-06 16:00:00 |  22 | L1052600 | 1 | 0 | 1 | 0 | NA | NA |\n| 2016-11-07 04:00:00 |  26 | L1052600 | 1 | 0 | 2 | 0 | NA | NA |\n| 2016-11-08 10:00:00 |  35 | L1052600 | 1 | 0 | 1 | 0 | NA | NA |\n| 2016-11-09 09:00:00 |  39 | L1052600 | 1 | 0 | 2 | 0 | NA | NA |\n| 2016-11-18 21:30:00 |  55 | L1052600 | 2 | 0 | 1 | 0 | NA | NA |\n| 2016-11-18 22:50:00 |  56 | L1052600 | 2 | 0 | 2 | 0 | NA | NA |\n| 2016-11-22 11:00:00 |  63 | L1052600 | 1 | 0 | 1 | 0 | NA | NA |\n| 2016-11-23 03:00:00 |  72 | L1052600 | 1 | 0 | 2 | 0 | NA | NA |\n| 2016-12-05 23:00:00 |  15 | L1052600 | 1 | 0 | 1 | 0 | NA | NA |\n| 2016-12-06 10:00:00 |  18 | L1052600 | 1 | 0 | 2 | 0 | NA | NA |\n| 2016-12-14 02:00:00 |  47 | L1091000 | 1 | 0 | 1 | 0 | NA | NA |\n| 2016-12-14 03:00:00 |  48 | L1052600 | 1 | 0 | 1 | 0 | NA | NA |\n| 2016-12-16 11:00:00 |  71 | L1052600 | 1 | 0 | 2 | 0 | NA | NA |\n| 2016-12-16 11:00:00 |  71 | L1091000 | 1 | 0 | 2 | 0 | NA | NA |\n| 2016-12-21 20:00:00 |  80 | L1091000 | 1 | 0 | 1 | 0 | NA | NA |\n| 2016-12-21 21:30:00 |  83 | L1052600 | 1 | 0 | 1 | 0 | NA | NA |\n| 2016-12-23 21:00:00 | 109 | L1091000 | 1 | 0 | 2 | 0 | NA | NA |\n| 2016-12-24 04:00:00 | 111 | L1052600 | 1 | 0 | 2 | 0 | NA | NA |\n| 2016-12-27 04:00:00 | 128 | L1052600 | 1 | 0 | 1 | 0 | NA | NA |\n| 2016-12-27 06:00:00 | 131 | L1091000 | 1 | 0 | 1 | 0 | NA | NA |\n| 2016-12-28 04:00:00 | 147 | L1052600 | 1 | 0 | 2 | 0 | NA | NA |\n| 2016-12-28 04:00:00 | 147 | L1091000 | 1 | 0 | 2 | 0 | NA | NA |\n\n",
            "text/latex": "A data.frame: 135 × 9\n\\begin{tabular}{lllllllll}\n tm\\_fc & tm\\_seq & area\\_code & warn\\_var & warn\\_stress & command & cancel & 특보구역명\\_정식 & 구역특성\\\\\n <dttm> & <int> & <chr> & <int> & <int> & <int> & <int> & <chr> & <int>\\\\\n\\hline\n\t 2016-01-18 03:00:00 &  67 & L1052600 & 1 & 0 & 1 & 0 & NA & NA\\\\\n\t 2016-01-18 07:00:00 &  70 & L1091000 & 1 & 0 & 1 & 0 & NA & NA\\\\\n\t 2016-01-19 21:00:00 &  92 & L1052600 & 1 & 0 & 2 & 0 & NA & NA\\\\\n\t 2016-01-19 21:00:00 &  92 & L1091000 & 1 & 0 & 2 & 0 & NA & NA\\\\\n\t 2016-01-23 04:00:00 & 113 & L1091000 & 1 & 0 & 1 & 0 & NA & NA\\\\\n\t 2016-01-23 09:30:00 & 117 & L1052600 & 1 & 0 & 1 & 0 & NA & NA\\\\\n\t 2016-01-23 09:30:00 & 117 & L1091000 & 8 & 0 & 1 & 0 & NA & NA\\\\\n\t 2016-01-23 11:00:00 & 118 & L1091000 & 3 & 0 & 1 & 0 & NA & NA\\\\\n\t 2016-01-24 04:00:00 & 132 & L1091000 & 1 & 1 & 5 & 0 & NA & NA\\\\\n\t 2016-01-25 03:00:00 & 144 & L1091000 & 1 & 0 & 5 & 0 & NA & NA\\\\\n\t 2016-01-25 09:00:00 & 147 & L1091000 & 1 & 0 & 2 & 0 & NA & NA\\\\\n\t 2016-01-25 11:00:00 & 149 & L1091000 & 3 & 0 & 2 & 0 & NA & NA\\\\\n\t 2016-01-25 14:00:00 & 152 & L1052600 & 1 & 0 & 2 & 0 & NA & NA\\\\\n\t 2016-01-25 14:00:00 & 152 & L1091000 & 8 & 0 & 2 & 0 & NA & NA\\\\\n\t 2016-02-02 02:00:00 &   5 & L1052600 & 1 & 0 & 1 & 0 & NA & NA\\\\\n\t 2016-02-02 06:00:00 &   6 & L1052600 & 1 & 0 & 2 & 0 & NA & NA\\\\\n\t 2016-02-11 20:30:00 &  51 & L1091000 & 1 & 0 & 1 & 0 & NA & NA\\\\\n\t 2016-02-12 05:10:00 &  53 & L1052600 & 1 & 0 & 1 & 0 & NA & NA\\\\\n\t 2016-02-12 07:30:00 &  55 & L1091000 & 1 & 0 & 2 & 0 & NA & NA\\\\\n\t 2016-02-12 20:40:00 &  64 & L1052600 & 2 & 0 & 1 & 0 & NA & NA\\\\\n\t 2016-02-12 23:00:00 &  65 & L1052600 & 2 & 0 & 2 & 0 & NA & NA\\\\\n\t 2016-02-13 10:30:00 &  69 & L1052600 & 1 & 0 & 2 & 0 & NA & NA\\\\\n\t 2016-02-13 16:00:00 &  71 & L1091000 & 1 & 0 & 1 & 0 & NA & NA\\\\\n\t 2016-02-13 21:00:00 &  73 & L1052600 & 1 & 0 & 1 & 0 & NA & NA\\\\\n\t 2016-02-15 11:00:00 &  87 & L1091000 & 1 & 0 & 2 & 0 & NA & NA\\\\\n\t 2016-02-15 13:00:00 &  88 & L1052600 & 1 & 0 & 2 & 0 & NA & NA\\\\\n\t 2016-02-28 19:00:00 & 166 & L1052600 & 1 & 0 & 1 & 0 & NA & NA\\\\\n\t 2016-02-29 00:30:00 & 171 & L1091000 & 1 & 0 & 1 & 0 & NA & NA\\\\\n\t 2016-03-01 03:00:00 &   1 & L1052600 & 1 & 0 & 2 & 0 & NA & NA\\\\\n\t 2016-03-01 03:00:00 &   1 & L1091000 & 1 & 0 & 2 & 0 & NA & NA\\\\\n\t ⋮ & ⋮ & ⋮ & ⋮ & ⋮ & ⋮ & ⋮ & ⋮ & ⋮\\\\\n\t 2016-10-05 10:30:00 &  25 & L1091000 & 7 & 1 & 2 & 0 & NA & NA\\\\\n\t 2016-10-05 11:30:00 &  26 & L1052600 & 7 & 1 & 2 & 0 & NA & NA\\\\\n\t 2016-10-21 09:00:00 &  73 & L1052600 & 1 & 0 & 1 & 0 & NA & NA\\\\\n\t 2016-10-21 19:00:00 &  77 & L1052600 & 1 & 0 & 2 & 0 & NA & NA\\\\\n\t 2016-10-23 04:00:00 &  83 & L1052600 & 1 & 0 & 1 & 0 & NA & NA\\\\\n\t 2016-10-24 07:00:00 &  92 & L1052600 & 1 & 0 & 2 & 0 & NA & NA\\\\\n\t 2016-11-01 02:00:00 &   3 & L1052600 & 1 & 0 & 1 & 0 & NA & NA\\\\\n\t 2016-11-01 11:00:00 &   6 & L1052600 & 1 & 0 & 2 & 0 & NA & NA\\\\\n\t 2016-11-06 16:00:00 &  22 & L1052600 & 1 & 0 & 1 & 0 & NA & NA\\\\\n\t 2016-11-07 04:00:00 &  26 & L1052600 & 1 & 0 & 2 & 0 & NA & NA\\\\\n\t 2016-11-08 10:00:00 &  35 & L1052600 & 1 & 0 & 1 & 0 & NA & NA\\\\\n\t 2016-11-09 09:00:00 &  39 & L1052600 & 1 & 0 & 2 & 0 & NA & NA\\\\\n\t 2016-11-18 21:30:00 &  55 & L1052600 & 2 & 0 & 1 & 0 & NA & NA\\\\\n\t 2016-11-18 22:50:00 &  56 & L1052600 & 2 & 0 & 2 & 0 & NA & NA\\\\\n\t 2016-11-22 11:00:00 &  63 & L1052600 & 1 & 0 & 1 & 0 & NA & NA\\\\\n\t 2016-11-23 03:00:00 &  72 & L1052600 & 1 & 0 & 2 & 0 & NA & NA\\\\\n\t 2016-12-05 23:00:00 &  15 & L1052600 & 1 & 0 & 1 & 0 & NA & NA\\\\\n\t 2016-12-06 10:00:00 &  18 & L1052600 & 1 & 0 & 2 & 0 & NA & NA\\\\\n\t 2016-12-14 02:00:00 &  47 & L1091000 & 1 & 0 & 1 & 0 & NA & NA\\\\\n\t 2016-12-14 03:00:00 &  48 & L1052600 & 1 & 0 & 1 & 0 & NA & NA\\\\\n\t 2016-12-16 11:00:00 &  71 & L1052600 & 1 & 0 & 2 & 0 & NA & NA\\\\\n\t 2016-12-16 11:00:00 &  71 & L1091000 & 1 & 0 & 2 & 0 & NA & NA\\\\\n\t 2016-12-21 20:00:00 &  80 & L1091000 & 1 & 0 & 1 & 0 & NA & NA\\\\\n\t 2016-12-21 21:30:00 &  83 & L1052600 & 1 & 0 & 1 & 0 & NA & NA\\\\\n\t 2016-12-23 21:00:00 & 109 & L1091000 & 1 & 0 & 2 & 0 & NA & NA\\\\\n\t 2016-12-24 04:00:00 & 111 & L1052600 & 1 & 0 & 2 & 0 & NA & NA\\\\\n\t 2016-12-27 04:00:00 & 128 & L1052600 & 1 & 0 & 1 & 0 & NA & NA\\\\\n\t 2016-12-27 06:00:00 & 131 & L1091000 & 1 & 0 & 1 & 0 & NA & NA\\\\\n\t 2016-12-28 04:00:00 & 147 & L1052600 & 1 & 0 & 2 & 0 & NA & NA\\\\\n\t 2016-12-28 04:00:00 & 147 & L1091000 & 1 & 0 & 2 & 0 & NA & NA\\\\\n\\end{tabular}\n",
            "text/plain": [
              "    tm_fc               tm_seq area_code warn_var warn_stress command cancel\n",
              "1   2016-01-18 03:00:00  67    L1052600  1        0           1       0     \n",
              "2   2016-01-18 07:00:00  70    L1091000  1        0           1       0     \n",
              "3   2016-01-19 21:00:00  92    L1052600  1        0           2       0     \n",
              "4   2016-01-19 21:00:00  92    L1091000  1        0           2       0     \n",
              "5   2016-01-23 04:00:00 113    L1091000  1        0           1       0     \n",
              "6   2016-01-23 09:30:00 117    L1052600  1        0           1       0     \n",
              "7   2016-01-23 09:30:00 117    L1091000  8        0           1       0     \n",
              "8   2016-01-23 11:00:00 118    L1091000  3        0           1       0     \n",
              "9   2016-01-24 04:00:00 132    L1091000  1        1           5       0     \n",
              "10  2016-01-25 03:00:00 144    L1091000  1        0           5       0     \n",
              "11  2016-01-25 09:00:00 147    L1091000  1        0           2       0     \n",
              "12  2016-01-25 11:00:00 149    L1091000  3        0           2       0     \n",
              "13  2016-01-25 14:00:00 152    L1052600  1        0           2       0     \n",
              "14  2016-01-25 14:00:00 152    L1091000  8        0           2       0     \n",
              "15  2016-02-02 02:00:00   5    L1052600  1        0           1       0     \n",
              "16  2016-02-02 06:00:00   6    L1052600  1        0           2       0     \n",
              "17  2016-02-11 20:30:00  51    L1091000  1        0           1       0     \n",
              "18  2016-02-12 05:10:00  53    L1052600  1        0           1       0     \n",
              "19  2016-02-12 07:30:00  55    L1091000  1        0           2       0     \n",
              "20  2016-02-12 20:40:00  64    L1052600  2        0           1       0     \n",
              "21  2016-02-12 23:00:00  65    L1052600  2        0           2       0     \n",
              "22  2016-02-13 10:30:00  69    L1052600  1        0           2       0     \n",
              "23  2016-02-13 16:00:00  71    L1091000  1        0           1       0     \n",
              "24  2016-02-13 21:00:00  73    L1052600  1        0           1       0     \n",
              "25  2016-02-15 11:00:00  87    L1091000  1        0           2       0     \n",
              "26  2016-02-15 13:00:00  88    L1052600  1        0           2       0     \n",
              "27  2016-02-28 19:00:00 166    L1052600  1        0           1       0     \n",
              "28  2016-02-29 00:30:00 171    L1091000  1        0           1       0     \n",
              "29  2016-03-01 03:00:00   1    L1052600  1        0           2       0     \n",
              "30  2016-03-01 03:00:00   1    L1091000  1        0           2       0     \n",
              "⋮   ⋮                   ⋮      ⋮         ⋮        ⋮           ⋮       ⋮     \n",
              "106 2016-10-05 10:30:00  25    L1091000  7        1           2       0     \n",
              "107 2016-10-05 11:30:00  26    L1052600  7        1           2       0     \n",
              "108 2016-10-21 09:00:00  73    L1052600  1        0           1       0     \n",
              "109 2016-10-21 19:00:00  77    L1052600  1        0           2       0     \n",
              "110 2016-10-23 04:00:00  83    L1052600  1        0           1       0     \n",
              "111 2016-10-24 07:00:00  92    L1052600  1        0           2       0     \n",
              "112 2016-11-01 02:00:00   3    L1052600  1        0           1       0     \n",
              "113 2016-11-01 11:00:00   6    L1052600  1        0           2       0     \n",
              "114 2016-11-06 16:00:00  22    L1052600  1        0           1       0     \n",
              "115 2016-11-07 04:00:00  26    L1052600  1        0           2       0     \n",
              "116 2016-11-08 10:00:00  35    L1052600  1        0           1       0     \n",
              "117 2016-11-09 09:00:00  39    L1052600  1        0           2       0     \n",
              "118 2016-11-18 21:30:00  55    L1052600  2        0           1       0     \n",
              "119 2016-11-18 22:50:00  56    L1052600  2        0           2       0     \n",
              "120 2016-11-22 11:00:00  63    L1052600  1        0           1       0     \n",
              "121 2016-11-23 03:00:00  72    L1052600  1        0           2       0     \n",
              "122 2016-12-05 23:00:00  15    L1052600  1        0           1       0     \n",
              "123 2016-12-06 10:00:00  18    L1052600  1        0           2       0     \n",
              "124 2016-12-14 02:00:00  47    L1091000  1        0           1       0     \n",
              "125 2016-12-14 03:00:00  48    L1052600  1        0           1       0     \n",
              "126 2016-12-16 11:00:00  71    L1052600  1        0           2       0     \n",
              "127 2016-12-16 11:00:00  71    L1091000  1        0           2       0     \n",
              "128 2016-12-21 20:00:00  80    L1091000  1        0           1       0     \n",
              "129 2016-12-21 21:30:00  83    L1052600  1        0           1       0     \n",
              "130 2016-12-23 21:00:00 109    L1091000  1        0           2       0     \n",
              "131 2016-12-24 04:00:00 111    L1052600  1        0           2       0     \n",
              "132 2016-12-27 04:00:00 128    L1052600  1        0           1       0     \n",
              "133 2016-12-27 06:00:00 131    L1091000  1        0           1       0     \n",
              "134 2016-12-28 04:00:00 147    L1052600  1        0           2       0     \n",
              "135 2016-12-28 04:00:00 147    L1091000  1        0           2       0     \n",
              "    특보구역명_정식 구역특성\n",
              "1   NA              NA      \n",
              "2   NA              NA      \n",
              "3   NA              NA      \n",
              "4   NA              NA      \n",
              "5   NA              NA      \n",
              "6   NA              NA      \n",
              "7   NA              NA      \n",
              "8   NA              NA      \n",
              "9   NA              NA      \n",
              "10  NA              NA      \n",
              "11  NA              NA      \n",
              "12  NA              NA      \n",
              "13  NA              NA      \n",
              "14  NA              NA      \n",
              "15  NA              NA      \n",
              "16  NA              NA      \n",
              "17  NA              NA      \n",
              "18  NA              NA      \n",
              "19  NA              NA      \n",
              "20  NA              NA      \n",
              "21  NA              NA      \n",
              "22  NA              NA      \n",
              "23  NA              NA      \n",
              "24  NA              NA      \n",
              "25  NA              NA      \n",
              "26  NA              NA      \n",
              "27  NA              NA      \n",
              "28  NA              NA      \n",
              "29  NA              NA      \n",
              "30  NA              NA      \n",
              "⋮   ⋮               ⋮       \n",
              "106 NA              NA      \n",
              "107 NA              NA      \n",
              "108 NA              NA      \n",
              "109 NA              NA      \n",
              "110 NA              NA      \n",
              "111 NA              NA      \n",
              "112 NA              NA      \n",
              "113 NA              NA      \n",
              "114 NA              NA      \n",
              "115 NA              NA      \n",
              "116 NA              NA      \n",
              "117 NA              NA      \n",
              "118 NA              NA      \n",
              "119 NA              NA      \n",
              "120 NA              NA      \n",
              "121 NA              NA      \n",
              "122 NA              NA      \n",
              "123 NA              NA      \n",
              "124 NA              NA      \n",
              "125 NA              NA      \n",
              "126 NA              NA      \n",
              "127 NA              NA      \n",
              "128 NA              NA      \n",
              "129 NA              NA      \n",
              "130 NA              NA      \n",
              "131 NA              NA      \n",
              "132 NA              NA      \n",
              "133 NA              NA      \n",
              "134 NA              NA      \n",
              "135 NA              NA      "
            ]
          },
          "metadata": {}
        }
      ]
    },
    {
      "cell_type": "code",
      "source": [
        "#DT2['구역특성'] %>% table"
      ],
      "metadata": {
        "colab": {
          "base_uri": "https://localhost:8080/",
          "height": 73
        },
        "id": "DJn6pNV2HV3Q",
        "outputId": "c9c247df-514d-4751-b3b5-9eea1e9bb209"
      },
      "execution_count": 101,
      "outputs": [
        {
          "output_type": "display_data",
          "data": {
            "text/plain": [
              "구역특성\n",
              "   13    14    15   113 10013 10113 \n",
              "23108  3873  7526 15145  9183   364 "
            ]
          },
          "metadata": {}
        }
      ]
    },
    {
      "cell_type": "code",
      "source": [
        "#DT['cancel']%>% distinct\n",
        "#DT2['cancel'] %>% distinct"
      ],
      "metadata": {
        "colab": {
          "base_uri": "https://localhost:8080/",
          "height": 164
        },
        "id": "LqL0FVB8FvbN",
        "outputId": "1a867965-fa2e-4b34-f727-8f02223777d3"
      },
      "execution_count": 90,
      "outputs": [
        {
          "output_type": "display_data",
          "data": {
            "text/html": [
              "<table class=\"dataframe\">\n",
              "<caption>A data.frame: 1 × 1</caption>\n",
              "<thead>\n",
              "\t<tr><th scope=col>cancel</th></tr>\n",
              "\t<tr><th scope=col>&lt;int&gt;</th></tr>\n",
              "</thead>\n",
              "<tbody>\n",
              "\t<tr><td>0</td></tr>\n",
              "</tbody>\n",
              "</table>\n"
            ],
            "text/markdown": "\nA data.frame: 1 × 1\n\n| cancel &lt;int&gt; |\n|---|\n| 0 |\n\n",
            "text/latex": "A data.frame: 1 × 1\n\\begin{tabular}{l}\n cancel\\\\\n <int>\\\\\n\\hline\n\t 0\\\\\n\\end{tabular}\n",
            "text/plain": [
              "  cancel\n",
              "1 0     "
            ]
          },
          "metadata": {}
        }
      ]
    }
  ]
}
