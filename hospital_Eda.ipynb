{
  "nbformat": 4,
  "nbformat_minor": 0,
  "metadata": {
    "colab": {
      "name": "Untitled24.ipynb",
      "provenance": [],
      "authorship_tag": "ABX9TyNjM4WHdvdx3gUGeYCgWIkT",
      "include_colab_link": true
    },
    "kernelspec": {
      "name": "ir",
      "display_name": "R"
    },
    "language_info": {
      "name": "R"
    },
    "accelerator": "GPU",
    "gpuClass": "standard"
  },
  "cells": [
    {
      "cell_type": "markdown",
      "metadata": {
        "id": "view-in-github",
        "colab_type": "text"
      },
      "source": [
        "<a href=\"https://colab.research.google.com/github/min02yam/wether/blob/main/hospital_Eda.ipynb\" target=\"_parent\"><img src=\"https://colab.research.google.com/assets/colab-badge.svg\" alt=\"Open In Colab\"/></a>"
      ]
    },
    {
      "cell_type": "markdown",
      "source": [
        "07.12<BR>\n",
        "hospital EDA"
      ],
      "metadata": {
        "id": "Yd0NBlOIfGKL"
      }
    },
    {
      "cell_type": "markdown",
      "source": [
        "# 1. 패키지 및 데이터 로드"
      ],
      "metadata": {
        "id": "4KwvJWt08Pou"
      }
    },
    {
      "cell_type": "code",
      "source": [
        "system(\"gdown --id 1fW-c6QeKD39JKGJYc_M9JI0wiNBkbQFC\")"
      ],
      "metadata": {
        "id": "p7m7MebNfFUr"
      },
      "execution_count": 1,
      "outputs": []
    },
    {
      "cell_type": "code",
      "source": [
        "df= read.csv(\"hospital.csv\")"
      ],
      "metadata": {
        "id": "Mcx0k8DD4dPw"
      },
      "execution_count": 2,
      "outputs": []
    },
    {
      "cell_type": "code",
      "source": [
        "require(dplyr)"
      ],
      "metadata": {
        "colab": {
          "base_uri": "https://localhost:8080/"
        },
        "id": "ENdlkdK-40Ru",
        "outputId": "ad1b9c6a-a866-4a3d-aed7-0f97b34febdf"
      },
      "execution_count": 3,
      "outputs": [
        {
          "output_type": "stream",
          "name": "stderr",
          "text": [
            "Loading required package: dplyr\n",
            "\n",
            "\n",
            "Attaching package: ‘dplyr’\n",
            "\n",
            "\n",
            "The following objects are masked from ‘package:stats’:\n",
            "\n",
            "    filter, lag\n",
            "\n",
            "\n",
            "The following objects are masked from ‘package:base’:\n",
            "\n",
            "    intersect, setdiff, setequal, union\n",
            "\n",
            "\n"
          ]
        }
      ]
    },
    {
      "cell_type": "code",
      "source": [
        "install.packages(\"DataExplorer\")\n",
        "library(DataExplorer)"
      ],
      "metadata": {
        "colab": {
          "base_uri": "https://localhost:8080/"
        },
        "id": "u9Fl8j-e541J",
        "outputId": "1034c12c-1817-4aa3-8b85-4e3194b497a2"
      },
      "execution_count": 4,
      "outputs": [
        {
          "output_type": "stream",
          "name": "stderr",
          "text": [
            "Installing package into ‘/usr/local/lib/R/site-library’\n",
            "(as ‘lib’ is unspecified)\n",
            "\n",
            "also installing the dependencies ‘plyr’, ‘Rcpp’, ‘htmlwidgets’, ‘igraph’, ‘reshape2’, ‘gridExtra’, ‘networkD3’\n",
            "\n",
            "\n"
          ]
        }
      ]
    },
    {
      "cell_type": "code",
      "source": [
        "install.packages(\"skimr\")\n",
        "library(skimr)"
      ],
      "metadata": {
        "colab": {
          "base_uri": "https://localhost:8080/"
        },
        "id": "eRSefO8_PUoM",
        "outputId": "c8db242f-9db6-4aaf-8c58-e0502638d468"
      },
      "execution_count": 5,
      "outputs": [
        {
          "output_type": "stream",
          "name": "stderr",
          "text": [
            "Installing package into ‘/usr/local/lib/R/site-library’\n",
            "(as ‘lib’ is unspecified)\n",
            "\n"
          ]
        }
      ]
    },
    {
      "cell_type": "code",
      "source": [
        "str(df)"
      ],
      "metadata": {
        "colab": {
          "base_uri": "https://localhost:8080/"
        },
        "id": "BNhBqr-hLFRo",
        "outputId": "9b72f157-81a8-4aef-bc93-a5cbf9d57370"
      },
      "execution_count": 6,
      "outputs": [
        {
          "output_type": "stream",
          "name": "stdout",
          "text": [
            "'data.frame':\t49674 obs. of  4 variables:\n",
            " $ back_hospital.yyyymmdd : int  20120101 20120101 20120101 20120101 20120101 20120101 20120101 20120101 20120101 20120101 ...\n",
            " $ back_hospital.area     : chr  \"강원\" \"강원\" \"경기\" \"경기\" ...\n",
            " $ back_hospital.sex      : int  1 2 1 2 1 2 1 2 1 2 ...\n",
            " $ back_hospital.frequency: int  3 3 4 5 2 1 6 1 0 2 ...\n"
          ]
        }
      ]
    },
    {
      "cell_type": "code",
      "source": [
        "glimpse(df)"
      ],
      "metadata": {
        "colab": {
          "base_uri": "https://localhost:8080/"
        },
        "id": "IscyO3GN8YqZ",
        "outputId": "47c0f834-ce1a-4fd0-8711-0a171da38946"
      },
      "execution_count": 7,
      "outputs": [
        {
          "output_type": "stream",
          "name": "stdout",
          "text": [
            "Rows: 49,674\n",
            "Columns: 4\n",
            "$ back_hospital.yyyymmdd  \u001b[3m\u001b[90m<int>\u001b[39m\u001b[23m 20120101, 20120101, 20120101, 20120101, 201201…\n",
            "$ back_hospital.area      \u001b[3m\u001b[90m<chr>\u001b[39m\u001b[23m \"강원\", \"강원\", \"경기\", \"경기\", \"경남\", \"경남\"…\n",
            "$ back_hospital.sex       \u001b[3m\u001b[90m<int>\u001b[39m\u001b[23m 1, 2, 1, 2, 1, 2, 1, 2, 1, 2, 1, 2, 1, 2, 1, 2…\n",
            "$ back_hospital.frequency \u001b[3m\u001b[90m<int>\u001b[39m\u001b[23m 3, 3, 4, 5, 2, 1, 6, 1, 0, 2, 1, 0, 4, 1, 3, 6…\n"
          ]
        }
      ]
    },
    {
      "cell_type": "code",
      "source": [
        "skim(df)"
      ],
      "metadata": {
        "colab": {
          "base_uri": "https://localhost:8080/"
        },
        "id": "sMw8hCfbPbNu",
        "outputId": "bd4a0ca0-9f3d-4b3c-e6b5-82ab444a6b77"
      },
      "execution_count": 8,
      "outputs": [
        {
          "output_type": "stream",
          "name": "stdout",
          "text": [
            "── Data Summary ────────────────────────\n",
            "                           Values\n",
            "Name                       df    \n",
            "Number of rows             49674 \n",
            "Number of columns          4     \n",
            "_______________________          \n",
            "Column type frequency:           \n",
            "  character                1     \n",
            "  numeric                  3     \n",
            "________________________         \n",
            "Group variables            None  \n",
            "\n",
            "── Variable type: character ────────────────────────────────────────────────────\n",
            "  skim_variable      n_missing complete_rate min max empty n_unique whitespace\n",
            "\u001b[90m1\u001b[39m back_hospital.area         0             1   2   2     0       17          0\n",
            "\n",
            "── Variable type: numeric ──────────────────────────────────────────────────────\n",
            "  skim_variable           n_missing complete_rate        mean        sd       p0\n",
            "\u001b[90m1\u001b[39m back_hospital.yyyymmdd          0             1 20\u001b[4m1\u001b[24m\u001b[4m3\u001b[24m\u001b[4m5\u001b[24m658.   \u001b[4m1\u001b[24m\u001b[4m1\u001b[24m189.    20\u001b[4m1\u001b[24m\u001b[4m2\u001b[24m\u001b[4m0\u001b[24m101\n",
            "\u001b[90m2\u001b[39m back_hospital.sex               0             1        1.5      0.500        1\n",
            "\u001b[90m3\u001b[39m back_hospital.frequency         0             1        1.42     1.67         0\n",
            "       p25        p50      p75     p100 hist \n",
            "\u001b[90m1\u001b[39m 20\u001b[4m1\u001b[24m\u001b[4m2\u001b[24m\u001b[4m1\u001b[24m231 20\u001b[4m1\u001b[24m\u001b[4m3\u001b[24m\u001b[4m1\u001b[24m231   20\u001b[4m1\u001b[24m\u001b[4m4\u001b[24m\u001b[4m1\u001b[24m231 20\u001b[4m1\u001b[24m\u001b[4m5\u001b[24m\u001b[4m1\u001b[24m231 ▇▇▁▇▇\n",
            "\u001b[90m2\u001b[39m        1        1.5        2        2 ▇▁▁▁▇\n",
            "\u001b[90m3\u001b[39m        0        1          2       13 ▇▂▁▁▁\n"
          ]
        },
        {
          "output_type": "stream",
          "name": "stderr",
          "text": [
            "Warning message in is.null(text_repr) || nchar(text_repr) == 0L:\n",
            "“'length(x) = 2 > 1' in coercion to 'logical(1)'”\n"
          ]
        }
      ]
    },
    {
      "cell_type": "code",
      "source": [
        "duplicated(df) %>% sum # 중복없음"
      ],
      "metadata": {
        "colab": {
          "base_uri": "https://localhost:8080/",
          "height": 34
        },
        "id": "EneSwyHbIdbe",
        "outputId": "7c09593c-faf5-48ad-ab30-22961c25c77e"
      },
      "execution_count": 9,
      "outputs": [
        {
          "output_type": "display_data",
          "data": {
            "text/html": [
              "0"
            ],
            "text/markdown": "0",
            "text/latex": "0",
            "text/plain": [
              "[1] 0"
            ]
          },
          "metadata": {}
        }
      ]
    },
    {
      "cell_type": "markdown",
      "source": [
        "1. 4개의 변수는 총 49674(약5만개)의 관측치를 가지고 있음\n",
        "2. 그 중 타겟(`frequency`)를 제외한 3개 변수는 모두 범주형임.\n",
        "3. `yyyymmdd` 날짜,`area` 지역(도단위), `sex` 성별\n",
        "4. `sex`의 mean과 Median을 봤을때 매우 밸런스함\n",
        "5. 타겟은 min=0, max=13, mean=1.42, Median=1.5 -> 회귀 모델시 로그변환 필요\n",
        "6. 중복 없음 "
      ],
      "metadata": {
        "id": "6TwK_K7YLDNP"
      }
    },
    {
      "cell_type": "markdown",
      "source": [
        "### 검증 데이터셋에 맞춰 변수명 변경"
      ],
      "metadata": {
        "id": "wFuNIRj68iWA"
      }
    },
    {
      "cell_type": "code",
      "source": [
        "require(stringr)"
      ],
      "metadata": {
        "colab": {
          "base_uri": "https://localhost:8080/"
        },
        "id": "Nb6unYKz9v2P",
        "outputId": "f5999486-301d-4770-d168-9523f2f9868a"
      },
      "execution_count": 10,
      "outputs": [
        {
          "output_type": "stream",
          "name": "stderr",
          "text": [
            "Loading required package: stringr\n",
            "\n"
          ]
        }
      ]
    },
    {
      "cell_type": "code",
      "source": [
        "\"back_hospital.\" %>% nchar ->nchar"
      ],
      "metadata": {
        "id": "viqgMj-L96vg"
      },
      "execution_count": 11,
      "outputs": []
    },
    {
      "cell_type": "code",
      "source": [
        "names(df)= str_sub(names(df),nchar+1)"
      ],
      "metadata": {
        "id": "F5oTfxcR9uqC"
      },
      "execution_count": 12,
      "outputs": []
    },
    {
      "cell_type": "code",
      "source": [
        "df %>% head # 확인"
      ],
      "metadata": {
        "colab": {
          "base_uri": "https://localhost:8080/",
          "height": 286
        },
        "id": "3wm9GH2A-sQ-",
        "outputId": "5ced4fd0-7ac3-4834-fdb1-6f04124b25bf"
      },
      "execution_count": 13,
      "outputs": [
        {
          "output_type": "display_data",
          "data": {
            "text/html": [
              "<table class=\"dataframe\">\n",
              "<caption>A data.frame: 6 × 4</caption>\n",
              "<thead>\n",
              "\t<tr><th></th><th scope=col>yyyymmdd</th><th scope=col>area</th><th scope=col>sex</th><th scope=col>frequency</th></tr>\n",
              "\t<tr><th></th><th scope=col>&lt;int&gt;</th><th scope=col>&lt;chr&gt;</th><th scope=col>&lt;int&gt;</th><th scope=col>&lt;int&gt;</th></tr>\n",
              "</thead>\n",
              "<tbody>\n",
              "\t<tr><th scope=row>1</th><td>20120101</td><td>강원</td><td>1</td><td>3</td></tr>\n",
              "\t<tr><th scope=row>2</th><td>20120101</td><td>강원</td><td>2</td><td>3</td></tr>\n",
              "\t<tr><th scope=row>3</th><td>20120101</td><td>경기</td><td>1</td><td>4</td></tr>\n",
              "\t<tr><th scope=row>4</th><td>20120101</td><td>경기</td><td>2</td><td>5</td></tr>\n",
              "\t<tr><th scope=row>5</th><td>20120101</td><td>경남</td><td>1</td><td>2</td></tr>\n",
              "\t<tr><th scope=row>6</th><td>20120101</td><td>경남</td><td>2</td><td>1</td></tr>\n",
              "</tbody>\n",
              "</table>\n"
            ],
            "text/markdown": "\nA data.frame: 6 × 4\n\n| <!--/--> | yyyymmdd &lt;int&gt; | area &lt;chr&gt; | sex &lt;int&gt; | frequency &lt;int&gt; |\n|---|---|---|---|---|\n| 1 | 20120101 | 강원 | 1 | 3 |\n| 2 | 20120101 | 강원 | 2 | 3 |\n| 3 | 20120101 | 경기 | 1 | 4 |\n| 4 | 20120101 | 경기 | 2 | 5 |\n| 5 | 20120101 | 경남 | 1 | 2 |\n| 6 | 20120101 | 경남 | 2 | 1 |\n\n",
            "text/latex": "A data.frame: 6 × 4\n\\begin{tabular}{r|llll}\n  & yyyymmdd & area & sex & frequency\\\\\n  & <int> & <chr> & <int> & <int>\\\\\n\\hline\n\t1 & 20120101 & 강원 & 1 & 3\\\\\n\t2 & 20120101 & 강원 & 2 & 3\\\\\n\t3 & 20120101 & 경기 & 1 & 4\\\\\n\t4 & 20120101 & 경기 & 2 & 5\\\\\n\t5 & 20120101 & 경남 & 1 & 2\\\\\n\t6 & 20120101 & 경남 & 2 & 1\\\\\n\\end{tabular}\n",
            "text/plain": [
              "  yyyymmdd area sex frequency\n",
              "1 20120101 강원 1   3        \n",
              "2 20120101 강원 2   3        \n",
              "3 20120101 경기 1   4        \n",
              "4 20120101 경기 2   5        \n",
              "5 20120101 경남 1   2        \n",
              "6 20120101 경남 2   1        "
            ]
          },
          "metadata": {}
        }
      ]
    },
    {
      "cell_type": "code",
      "source": [
        "write.csv(df, \"hospital_rename.csv\", row.names=FALSE) "
      ],
      "metadata": {
        "id": "CwrtcUcM_Eff"
      },
      "execution_count": 14,
      "outputs": []
    },
    {
      "cell_type": "markdown",
      "source": [
        "# 1. BASIC EDA"
      ],
      "metadata": {
        "id": "g8T4CNyn_THH"
      }
    },
    {
      "cell_type": "code",
      "source": [
        "introduce(df) %>% str"
      ],
      "metadata": {
        "colab": {
          "base_uri": "https://localhost:8080/"
        },
        "id": "946RZEjrIWEi",
        "outputId": "82175aaa-6b1e-454b-af4f-64364ee808c9"
      },
      "execution_count": 15,
      "outputs": [
        {
          "output_type": "stream",
          "name": "stdout",
          "text": [
            "'data.frame':\t1 obs. of  9 variables:\n",
            " $ rows                : int 49674\n",
            " $ columns             : int 4\n",
            " $ discrete_columns    : int 1\n",
            " $ continuous_columns  : int 3\n",
            " $ all_missing_columns : int 0\n",
            " $ total_missing_values: int 0\n",
            " $ complete_rows       : int 49674\n",
            " $ total_observations  : int 198696\n",
            " $ memory_usage        : num 996168\n",
            " - attr(*, \".internal.selfref\")=<externalptr> \n"
          ]
        }
      ]
    },
    {
      "cell_type": "code",
      "source": [
        "plot_intro(df) # 미씽 없음 "
      ],
      "metadata": {
        "colab": {
          "base_uri": "https://localhost:8080/",
          "height": 437
        },
        "id": "T1tqkPgj6Iy7",
        "outputId": "52a61634-8879-45fc-d76e-bbc375a0a362"
      },
      "execution_count": 16,
      "outputs": [
        {
          "output_type": "display_data",
          "data": {
            "text/plain": [
              "plot without title"
            ],
            "image/png": "[encoded data removed]"
          },
          "metadata": {
            "image/png": {
              "width": 420,
              "height": 420
            }
          }
        }
      ]
    },
    {
      "cell_type": "code",
      "source": [
        "plot_histogram(df)"
      ],
      "metadata": {
        "colab": {
          "base_uri": "https://localhost:8080/",
          "height": 437
        },
        "id": "vu2mEjYfCkKI",
        "outputId": "256f5901-b31a-4bb8-da89-1acb7644e11d"
      },
      "execution_count": 18,
      "outputs": [
        {
          "output_type": "display_data",
          "data": {
            "text/plain": [
              "plot without title"
            ],
            "image/png": "[encoded data removed]"
          },
          "metadata": {
            "image/png": {
              "width": 420,
              "height": 420
            }
          }
        }
      ]
    },
    {
      "cell_type": "markdown",
      "source": [
        "앞서 확인한 것과 마찬가지로 0의 빈도가 가장 많음"
      ],
      "metadata": {
        "id": "PestQM7OJE1v"
      }
    },
    {
      "cell_type": "code",
      "source": [
        "#df%>% mutate(frequency=as.factor(frequency)) -> df_target_factor\n",
        "#df%>% mutate(frequency=as.character(frequency)) -> df_target_char"
      ],
      "metadata": {
        "id": "QpmGJBBLCydT"
      },
      "execution_count": 115,
      "outputs": []
    },
    {
      "cell_type": "code",
      "source": [
        "#head(df_target_factor)"
      ],
      "metadata": {
        "colab": {
          "base_uri": "https://localhost:8080/",
          "height": 286
        },
        "id": "u499xmCFDH8x",
        "outputId": "25043771-a1e0-4fa4-e766-050dd1c7dbe4"
      },
      "execution_count": 100,
      "outputs": [
        {
          "output_type": "display_data",
          "data": {
            "text/html": [
              "<table class=\"dataframe\">\n",
              "<caption>A data.frame: 6 × 4</caption>\n",
              "<thead>\n",
              "\t<tr><th></th><th scope=col>yyyymmdd</th><th scope=col>area</th><th scope=col>sex</th><th scope=col>frequency</th></tr>\n",
              "\t<tr><th></th><th scope=col>&lt;int&gt;</th><th scope=col>&lt;chr&gt;</th><th scope=col>&lt;int&gt;</th><th scope=col>&lt;fct&gt;</th></tr>\n",
              "</thead>\n",
              "<tbody>\n",
              "\t<tr><th scope=row>1</th><td>20120101</td><td>강원</td><td>1</td><td>3</td></tr>\n",
              "\t<tr><th scope=row>2</th><td>20120101</td><td>강원</td><td>2</td><td>3</td></tr>\n",
              "\t<tr><th scope=row>3</th><td>20120101</td><td>경기</td><td>1</td><td>4</td></tr>\n",
              "\t<tr><th scope=row>4</th><td>20120101</td><td>경기</td><td>2</td><td>5</td></tr>\n",
              "\t<tr><th scope=row>5</th><td>20120101</td><td>경남</td><td>1</td><td>2</td></tr>\n",
              "\t<tr><th scope=row>6</th><td>20120101</td><td>경남</td><td>2</td><td>1</td></tr>\n",
              "</tbody>\n",
              "</table>\n"
            ],
            "text/markdown": "\nA data.frame: 6 × 4\n\n| <!--/--> | yyyymmdd &lt;int&gt; | area &lt;chr&gt; | sex &lt;int&gt; | frequency &lt;fct&gt; |\n|---|---|---|---|---|\n| 1 | 20120101 | 강원 | 1 | 3 |\n| 2 | 20120101 | 강원 | 2 | 3 |\n| 3 | 20120101 | 경기 | 1 | 4 |\n| 4 | 20120101 | 경기 | 2 | 5 |\n| 5 | 20120101 | 경남 | 1 | 2 |\n| 6 | 20120101 | 경남 | 2 | 1 |\n\n",
            "text/latex": "A data.frame: 6 × 4\n\\begin{tabular}{r|llll}\n  & yyyymmdd & area & sex & frequency\\\\\n  & <int> & <chr> & <int> & <fct>\\\\\n\\hline\n\t1 & 20120101 & 강원 & 1 & 3\\\\\n\t2 & 20120101 & 강원 & 2 & 3\\\\\n\t3 & 20120101 & 경기 & 1 & 4\\\\\n\t4 & 20120101 & 경기 & 2 & 5\\\\\n\t5 & 20120101 & 경남 & 1 & 2\\\\\n\t6 & 20120101 & 경남 & 2 & 1\\\\\n\\end{tabular}\n",
            "text/plain": [
              "  yyyymmdd area sex frequency\n",
              "1 20120101 강원 1   3        \n",
              "2 20120101 강원 2   3        \n",
              "3 20120101 경기 1   4        \n",
              "4 20120101 경기 2   5        \n",
              "5 20120101 경남 1   2        \n",
              "6 20120101 경남 2   1        "
            ]
          },
          "metadata": {}
        }
      ]
    },
    {
      "cell_type": "code",
      "source": [
        "plot_bar(df, with='frequency')"
      ],
      "metadata": {
        "colab": {
          "base_uri": "https://localhost:8080/",
          "height": 437
        },
        "id": "l1sLfqqWG3g6",
        "outputId": "d8e88ca2-6463-4538-fd9b-ae59ac424fd9"
      },
      "execution_count": 19,
      "outputs": [
        {
          "output_type": "display_data",
          "data": {
            "text/plain": [
              "plot without title"
            ],
            "image/png": "[encoded data removed]"
          },
          "metadata": {
            "image/png": {
              "width": 420,
              "height": 420
            }
          }
        }
      ]
    },
    {
      "cell_type": "code",
      "source": [
        "table(df$ sex)\n",
        "table(df$ area)"
      ],
      "metadata": {
        "colab": {
          "base_uri": "https://localhost:8080/",
          "height": 167
        },
        "id": "A3wLSzvS7BdV",
        "outputId": "7f792a72-43cf-413a-89a8-a6301af17b69"
      },
      "execution_count": 89,
      "outputs": [
        {
          "output_type": "display_data",
          "data": {
            "text/plain": [
              "\n",
              "    1     2 \n",
              "24837 24837 "
            ]
          },
          "metadata": {}
        },
        {
          "output_type": "display_data",
          "data": {
            "text/plain": [
              "\n",
              "강원 경기 경남 경북 광주 대구 대전 부산 서울 세종 울산 인천 전남 전북 제주 충남 \n",
              "2922 2922 2922 2922 2922 2922 2922 2922 2922 2922 2922 2922 2922 2922 2922 2922 \n",
              "충북 \n",
              "2922 "
            ]
          },
          "metadata": {}
        }
      ]
    },
    {
      "cell_type": "code",
      "source": [
        "table(df$frequency)"
      ],
      "metadata": {
        "colab": {
          "base_uri": "https://localhost:8080/",
          "height": 110
        },
        "id": "W1fpCWkhCe0Q",
        "outputId": "1df1bcc9-def7-434f-85b8-b57894bd2e3f"
      },
      "execution_count": 91,
      "outputs": [
        {
          "output_type": "display_data",
          "data": {
            "text/plain": [
              "\n",
              "    0     1     2     3     4     5     6     7     8     9    10    11    12 \n",
              "18197 13513  8231  4467  2321  1347   756   395   222   132    58    20    10 \n",
              "   13 \n",
              "    5 "
            ]
          },
          "metadata": {}
        }
      ]
    },
    {
      "cell_type": "code",
      "source": [
        "df %>% group_by(area) %>% \n",
        "       summarise(sum_freq=sum(frequency)) %>%\n",
        "       arrange(-sum_freq)"
      ],
      "metadata": {
        "colab": {
          "base_uri": "https://localhost:8080/",
          "height": 631
        },
        "id": "nfMgrLwNtTQ1",
        "outputId": "f9816426-7765-420f-d749-d51dd13da605"
      },
      "execution_count": 22,
      "outputs": [
        {
          "output_type": "display_data",
          "data": {
            "text/html": [
              "<table class=\"dataframe\">\n",
              "<caption>A tibble: 17 × 2</caption>\n",
              "<thead>\n",
              "\t<tr><th scope=col>area</th><th scope=col>sum_freq</th></tr>\n",
              "\t<tr><th scope=col>&lt;chr&gt;</th><th scope=col>&lt;int&gt;</th></tr>\n",
              "</thead>\n",
              "<tbody>\n",
              "\t<tr><td>경기</td><td>13267</td></tr>\n",
              "\t<tr><td>서울</td><td>10354</td></tr>\n",
              "\t<tr><td>경남</td><td> 5979</td></tr>\n",
              "\t<tr><td>경북</td><td> 5614</td></tr>\n",
              "\t<tr><td>부산</td><td> 5146</td></tr>\n",
              "\t<tr><td>전남</td><td> 4532</td></tr>\n",
              "\t<tr><td>전북</td><td> 3808</td></tr>\n",
              "\t<tr><td>대구</td><td> 3363</td></tr>\n",
              "\t<tr><td>충남</td><td> 3194</td></tr>\n",
              "\t<tr><td>강원</td><td> 3069</td></tr>\n",
              "\t<tr><td>인천</td><td> 3038</td></tr>\n",
              "\t<tr><td>충북</td><td> 2896</td></tr>\n",
              "\t<tr><td>광주</td><td> 2124</td></tr>\n",
              "\t<tr><td>대전</td><td> 1943</td></tr>\n",
              "\t<tr><td>울산</td><td> 1360</td></tr>\n",
              "\t<tr><td>제주</td><td>  795</td></tr>\n",
              "\t<tr><td>세종</td><td>  163</td></tr>\n",
              "</tbody>\n",
              "</table>\n"
            ],
            "text/markdown": "\nA tibble: 17 × 2\n\n| area &lt;chr&gt; | sum_freq &lt;int&gt; |\n|---|---|\n| 경기 | 13267 |\n| 서울 | 10354 |\n| 경남 |  5979 |\n| 경북 |  5614 |\n| 부산 |  5146 |\n| 전남 |  4532 |\n| 전북 |  3808 |\n| 대구 |  3363 |\n| 충남 |  3194 |\n| 강원 |  3069 |\n| 인천 |  3038 |\n| 충북 |  2896 |\n| 광주 |  2124 |\n| 대전 |  1943 |\n| 울산 |  1360 |\n| 제주 |   795 |\n| 세종 |   163 |\n\n",
            "text/latex": "A tibble: 17 × 2\n\\begin{tabular}{ll}\n area & sum\\_freq\\\\\n <chr> & <int>\\\\\n\\hline\n\t 경기 & 13267\\\\\n\t 서울 & 10354\\\\\n\t 경남 &  5979\\\\\n\t 경북 &  5614\\\\\n\t 부산 &  5146\\\\\n\t 전남 &  4532\\\\\n\t 전북 &  3808\\\\\n\t 대구 &  3363\\\\\n\t 충남 &  3194\\\\\n\t 강원 &  3069\\\\\n\t 인천 &  3038\\\\\n\t 충북 &  2896\\\\\n\t 광주 &  2124\\\\\n\t 대전 &  1943\\\\\n\t 울산 &  1360\\\\\n\t 제주 &   795\\\\\n\t 세종 &   163\\\\\n\\end{tabular}\n",
            "text/plain": [
              "   area sum_freq\n",
              "1  경기 13267   \n",
              "2  서울 10354   \n",
              "3  경남  5979   \n",
              "4  경북  5614   \n",
              "5  부산  5146   \n",
              "6  전남  4532   \n",
              "7  전북  3808   \n",
              "8  대구  3363   \n",
              "9  충남  3194   \n",
              "10 강원  3069   \n",
              "11 인천  3038   \n",
              "12 충북  2896   \n",
              "13 광주  2124   \n",
              "14 대전  1943   \n",
              "15 울산  1360   \n",
              "16 제주   795   \n",
              "17 세종   163   "
            ]
          },
          "metadata": {}
        }
      ]
    },
    {
      "cell_type": "markdown",
      "source": [
        "비율을 알아야함. 이거만 봐선 모르겠음"
      ],
      "metadata": {
        "id": "2Rkad30xuC3L"
      }
    },
    {
      "cell_type": "markdown",
      "source": [
        "성별은 상관 없어 보임"
      ],
      "metadata": {
        "id": "xod4v03yt_-I"
      }
    },
    {
      "cell_type": "code",
      "source": [
        "df %>% group_by(area) %>% \n",
        "       mutate(area_freq= sum(frequency)) -> df_area"
      ],
      "metadata": {
        "id": "_1NWqrw1uONO"
      },
      "execution_count": 45,
      "outputs": []
    },
    {
      "cell_type": "code",
      "source": [
        "df %>% group_by(area, sex) %>% \n",
        "       mutate(area_sex_freq= sum(frequency))  -> df_area_sex"
      ],
      "metadata": {
        "id": "UMz7RNuMv0Ff"
      },
      "execution_count": 46,
      "outputs": []
    },
    {
      "cell_type": "code",
      "source": [
        "?vapply"
      ],
      "metadata": {
        "id": "MC3INjVf0hx9"
      },
      "execution_count": 58,
      "outputs": []
    },
    {
      "cell_type": "code",
      "source": [
        ""
      ],
      "metadata": {
        "id": "D3YArwcL2GyS"
      },
      "execution_count": null,
      "outputs": []
    },
    {
      "cell_type": "code",
      "source": [
        "function{\n",
        "  ifelse( x==x ,  \n",
        "\n",
        "\n",
        "}"
      ],
      "metadata": {
        "id": "LOaq8MA-2Gp2"
      },
      "execution_count": null,
      "outputs": []
    },
    {
      "cell_type": "code",
      "source": [
        "require(data.table)"
      ],
      "metadata": {
        "colab": {
          "base_uri": "https://localhost:8080/"
        },
        "id": "xLG66Oc_2Gdk",
        "outputId": "636f2586-231b-4968-9fbb-dcae8a6e001e"
      },
      "execution_count": 62,
      "outputs": [
        {
          "output_type": "stream",
          "name": "stderr",
          "text": [
            "Loading required package: data.table\n",
            "\n",
            "\n",
            "Attaching package: ‘data.table’\n",
            "\n",
            "\n",
            "The following objects are masked from ‘package:dplyr’:\n",
            "\n",
            "    between, first, last\n",
            "\n",
            "\n"
          ]
        }
      ]
    },
    {
      "cell_type": "code",
      "source": [
        "inner_join(df_area, df_area_sex) %>% mutate(prop=area_sex_freq/area_freq *100) %>%\n",
        "  select(area, prop)  %>% transpose() "
      ],
      "metadata": {
        "colab": {
          "base_uri": "https://localhost:8080/",
          "height": 199
        },
        "id": "lB26sfLhxZIR",
        "outputId": "757c823d-ddd0-427c-f050-578d42b83531"
      },
      "execution_count": 69,
      "outputs": [
        {
          "output_type": "stream",
          "name": "stderr",
          "text": [
            "\u001b[1m\u001b[22mJoining, by = c(\"yyyymmdd\", \"area\", \"sex\", \"frequency\")\n"
          ]
        },
        {
          "output_type": "display_data",
          "data": {
            "text/html": [
              "<table class=\"dataframe\">\n",
              "<caption>A data.frame: 2 × 49674</caption>\n",
              "<thead>\n",
              "\t<tr><th scope=col>V1</th><th scope=col>V2</th><th scope=col>V3</th><th scope=col>V4</th><th scope=col>V5</th><th scope=col>V6</th><th scope=col>V7</th><th scope=col>V8</th><th scope=col>V9</th><th scope=col>V10</th><th scope=col>⋯</th><th scope=col>V49665</th><th scope=col>V49666</th><th scope=col>V49667</th><th scope=col>V49668</th><th scope=col>V49669</th><th scope=col>V49670</th><th scope=col>V49671</th><th scope=col>V49672</th><th scope=col>V49673</th><th scope=col>V49674</th></tr>\n",
              "\t<tr><th scope=col>&lt;chr&gt;</th><th scope=col>&lt;chr&gt;</th><th scope=col>&lt;chr&gt;</th><th scope=col>&lt;chr&gt;</th><th scope=col>&lt;chr&gt;</th><th scope=col>&lt;chr&gt;</th><th scope=col>&lt;chr&gt;</th><th scope=col>&lt;chr&gt;</th><th scope=col>&lt;chr&gt;</th><th scope=col>&lt;chr&gt;</th><th scope=col>⋯</th><th scope=col>&lt;chr&gt;</th><th scope=col>&lt;chr&gt;</th><th scope=col>&lt;chr&gt;</th><th scope=col>&lt;chr&gt;</th><th scope=col>&lt;chr&gt;</th><th scope=col>&lt;chr&gt;</th><th scope=col>&lt;chr&gt;</th><th scope=col>&lt;chr&gt;</th><th scope=col>&lt;chr&gt;</th><th scope=col>&lt;chr&gt;</th></tr>\n",
              "</thead>\n",
              "<tbody>\n",
              "\t<tr><td>강원            </td><td>강원            </td><td>경기            </td><td>경기            </td><td>경남            </td><td>경남            </td><td>경북            </td><td>경북            </td><td>광주            </td><td>광주            </td><td>⋯</td><td>전남            </td><td>전남            </td><td>전북            </td><td>전북            </td><td>제주            </td><td>제주            </td><td>충남            </td><td>충남            </td><td>충북            </td><td>충북            </td></tr>\n",
              "\t<tr><td>53.3398501140437</td><td>46.6601498859563</td><td>50.9534936308133</td><td>49.0465063691867</td><td>48.6034453922061</td><td>51.3965546077939</td><td>49.4299964374777</td><td>50.5700035625223</td><td>44.9152542372881</td><td>55.0847457627119</td><td>⋯</td><td>46.1606354810238</td><td>53.8393645189762</td><td>44.8792016806723</td><td>55.1207983193277</td><td>51.8238993710692</td><td>48.1761006289308</td><td>50.9705698184095</td><td>49.0294301815905</td><td>51.1740331491713</td><td>48.8259668508287</td></tr>\n",
              "</tbody>\n",
              "</table>\n"
            ],
            "text/markdown": "\nA data.frame: 2 × 49674\n\n| V1 &lt;chr&gt; | V2 &lt;chr&gt; | V3 &lt;chr&gt; | V4 &lt;chr&gt; | V5 &lt;chr&gt; | V6 &lt;chr&gt; | V7 &lt;chr&gt; | V8 &lt;chr&gt; | V9 &lt;chr&gt; | V10 &lt;chr&gt; | ⋯ ⋯ | V49665 &lt;chr&gt; | V49666 &lt;chr&gt; | V49667 &lt;chr&gt; | V49668 &lt;chr&gt; | V49669 &lt;chr&gt; | V49670 &lt;chr&gt; | V49671 &lt;chr&gt; | V49672 &lt;chr&gt; | V49673 &lt;chr&gt; | V49674 &lt;chr&gt; |\n|---|---|---|---|---|---|---|---|---|---|---|---|---|---|---|---|---|---|---|---|---|\n| 강원             | 강원             | 경기             | 경기             | 경남             | 경남             | 경북             | 경북             | 광주             | 광주             | ⋯ | 전남             | 전남             | 전북             | 전북             | 제주             | 제주             | 충남             | 충남             | 충북             | 충북             |\n| 53.3398501140437 | 46.6601498859563 | 50.9534936308133 | 49.0465063691867 | 48.6034453922061 | 51.3965546077939 | 49.4299964374777 | 50.5700035625223 | 44.9152542372881 | 55.0847457627119 | ⋯ | 46.1606354810238 | 53.8393645189762 | 44.8792016806723 | 55.1207983193277 | 51.8238993710692 | 48.1761006289308 | 50.9705698184095 | 49.0294301815905 | 51.1740331491713 | 48.8259668508287 |\n\n",
            "text/latex": "A data.frame: 2 × 49674\n\\begin{tabular}{lllllllllllllllllllll}\n V1 & V2 & V3 & V4 & V5 & V6 & V7 & V8 & V9 & V10 & ⋯ & V49665 & V49666 & V49667 & V49668 & V49669 & V49670 & V49671 & V49672 & V49673 & V49674\\\\\n <chr> & <chr> & <chr> & <chr> & <chr> & <chr> & <chr> & <chr> & <chr> & <chr> & ⋯ & <chr> & <chr> & <chr> & <chr> & <chr> & <chr> & <chr> & <chr> & <chr> & <chr>\\\\\n\\hline\n\t 강원             & 강원             & 경기             & 경기             & 경남             & 경남             & 경북             & 경북             & 광주             & 광주             & ⋯ & 전남             & 전남             & 전북             & 전북             & 제주             & 제주             & 충남             & 충남             & 충북             & 충북            \\\\\n\t 53.3398501140437 & 46.6601498859563 & 50.9534936308133 & 49.0465063691867 & 48.6034453922061 & 51.3965546077939 & 49.4299964374777 & 50.5700035625223 & 44.9152542372881 & 55.0847457627119 & ⋯ & 46.1606354810238 & 53.8393645189762 & 44.8792016806723 & 55.1207983193277 & 51.8238993710692 & 48.1761006289308 & 50.9705698184095 & 49.0294301815905 & 51.1740331491713 & 48.8259668508287\\\\\n\\end{tabular}\n",
            "text/plain": [
              "  V1               V2               V3               V4              \n",
              "1 강원             강원             경기             경기            \n",
              "2 53.3398501140437 46.6601498859563 50.9534936308133 49.0465063691867\n",
              "  V5               V6               V7               V8              \n",
              "1 경남             경남             경북             경북            \n",
              "2 48.6034453922061 51.3965546077939 49.4299964374777 50.5700035625223\n",
              "  V9               V10              ⋯ V49665           V49666          \n",
              "1 광주             광주             ⋯ 전남             전남            \n",
              "2 44.9152542372881 55.0847457627119 ⋯ 46.1606354810238 53.8393645189762\n",
              "  V49667           V49668           V49669           V49670          \n",
              "1 전북             전북             제주             제주            \n",
              "2 44.8792016806723 55.1207983193277 51.8238993710692 48.1761006289308\n",
              "  V49671           V49672           V49673           V49674          \n",
              "1 충남             충남             충북             충북            \n",
              "2 50.9705698184095 49.0294301815905 51.1740331491713 48.8259668508287"
            ]
          },
          "metadata": {}
        }
      ]
    },
    {
      "cell_type": "markdown",
      "source": [
        "이상 태블로로 확인함"
      ],
      "metadata": {
        "id": "yxNo9USGzUsW"
      }
    },
    {
      "cell_type": "code",
      "source": [
        "시간에 따라서 빈도 어떻게 발생하는지\n",
        "지역에 따라서 빈도 어떻게 발생하는지\n"
      ],
      "metadata": {
        "id": "cFoXfC7LQb7B"
      },
      "execution_count": null,
      "outputs": []
    }
  ]
}