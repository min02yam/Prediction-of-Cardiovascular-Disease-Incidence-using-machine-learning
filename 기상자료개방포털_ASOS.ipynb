{
  "nbformat": 4,
  "nbformat_minor": 0,
  "metadata": {
    "colab": {
      "name": "Untitled24.ipynb의 사본의 사본",
      "provenance": [],
      "authorship_tag": "ABX9TyOsLNmX4aFRBGNpxXg/pYhh",
      "include_colab_link": true
    },
    "kernelspec": {
      "name": "ir",
      "display_name": "R"
    },
    "language_info": {
      "name": "R"
    },
    "accelerator": "GPU",
    "gpuClass": "standard"
  },
  "cells": [
    {
      "cell_type": "markdown",
      "metadata": {
        "id": "view-in-github",
        "colab_type": "text"
      },
      "source": [
        "<a href=\"https://colab.research.google.com/github/min02yam/wether/blob/main/%EA%B8%B0%EC%83%81%EC%9E%90%EB%A3%8C%EA%B0%9C%EB%B0%A9%ED%8F%AC%ED%84%B8_ASOS.ipynb\" target=\"_parent\"><img src=\"https://colab.research.google.com/assets/colab-badge.svg\" alt=\"Open In Colab\"/></a>"
      ]
    },
    {
      "cell_type": "markdown",
      "source": [
        "기상자료개방포털> 종관기상관측(ASOS)\n",
        "\n"
      ],
      "metadata": {
        "id": "Yd0NBlOIfGKL"
      }
    },
    {
      "cell_type": "code",
      "source": [
        "suppressPackageStartupMessages({\n",
        "  require(dplyr)\n",
        "  require(magrittr)\n",
        "  require(stringr)\n",
        "  require(data.table)\n",
        "})"
      ],
      "metadata": {
        "id": "8kawSb3tpE0g"
      },
      "execution_count": 1,
      "outputs": []
    },
    {
      "cell_type": "code",
      "source": [
        "system(\"gdown --id 1syUqctL7k4SZZyzLTk6PSho8Ex6mJlvF\") "
      ],
      "metadata": {
        "id": "qCbHk68NpVOL"
      },
      "execution_count": 12,
      "outputs": []
    },
    {
      "cell_type": "code",
      "source": [
        "asos=fread(\"OBS_ASOS_DD_20220729200439.csv\", encoding= \"UTF-8\")"
      ],
      "metadata": {
        "id": "zvLSAcD9pziY"
      },
      "execution_count": 20,
      "outputs": []
    },
    {
      "cell_type": "code",
      "source": [
        "fileEncoding = \"euc-kr\""
      ],
      "metadata": {
        "id": "3p9CZmjd5kFE"
      },
      "execution_count": null,
      "outputs": []
    },
    {
      "cell_type": "code",
      "source": [
        "?read.csv"
      ],
      "metadata": {
        "id": "CqY3IW4n5rVI"
      },
      "execution_count": null,
      "outputs": []
    },
    {
      "cell_type": "code",
      "source": [
        "asos=read.csv(\"OBS_ASOS_DD_20220729200439.csv\")"
      ],
      "metadata": {
        "colab": {
          "base_uri": "https://localhost:8080/",
          "height": 194
        },
        "id": "M_IvYV83q0uW",
        "outputId": "c20eaa37-103d-412e-983f-22e098d7b92e"
      },
      "execution_count": 19,
      "outputs": [
        {
          "output_type": "error",
          "ename": "ERROR",
          "evalue": "ignored",
          "traceback": [
            "Error in make.names(col.names, unique = TRUE): invalid multibyte string at '<c1><f6><c1><a1>'\nTraceback:\n",
            "1. read.csv(\"OBS_ASOS_DD_20220729200439.csv\")",
            "2. read.table(file = file, header = header, sep = sep, quote = quote, \n .     dec = dec, fill = fill, comment.char = comment.char, ...)",
            "3. make.names(col.names, unique = TRUE)"
          ]
        }
      ]
    },
    {
      "cell_type": "code",
      "source": [
        "#install.packages(\"DataExplorer\")\n",
        "library(DataExplorer)"
      ],
      "metadata": {
        "id": "pQV1m_k3pzcI"
      },
      "execution_count": 8,
      "outputs": []
    },
    {
      "cell_type": "code",
      "source": [
        "?fread"
      ],
      "metadata": {
        "id": "D7ky8qt25Jfy"
      },
      "execution_count": 16,
      "outputs": []
    },
    {
      "cell_type": "code",
      "source": [
        "asos %>% head"
      ],
      "metadata": {
        "colab": {
          "base_uri": "https://localhost:8080/"
        },
        "id": "8IHCC3cAqxgT",
        "outputId": "b3fb0396-0f71-462b-a049-50e98e5d12c3"
      },
      "execution_count": null,
      "outputs": [
        {
          "output_type": "stream",
          "name": "stderr",
          "text": [
            "Warning message in FUN(X[[i]], ...):\n",
            "“input string 1 is invalid UTF-8”\n",
            "Warning message in FUN(X[[i]], ...):\n",
            "“input string 2 is invalid UTF-8”\n",
            "Warning message in FUN(X[[i]], ...):\n",
            "“input string 3 is invalid UTF-8”\n",
            "Warning message in FUN(X[[i]], ...):\n",
            "“input string 4 is invalid UTF-8”\n",
            "Warning message in FUN(X[[i]], ...):\n",
            "“input string 5 is invalid UTF-8”\n",
            "Warning message in FUN(X[[i]], ...):\n",
            "“input string 1 is invalid UTF-8”\n",
            "Warning message in FUN(X[[i]], ...):\n",
            "“input string 2 is invalid UTF-8”\n",
            "Warning message in FUN(X[[i]], ...):\n",
            "“input string 3 is invalid UTF-8”\n",
            "Warning message in FUN(X[[i]], ...):\n",
            "“input string 4 is invalid UTF-8”\n",
            "Warning message in FUN(X[[i]], ...):\n",
            "“input string 5 is invalid UTF-8”\n",
            "Warning message in FUN(X[[i]], ...):\n",
            "“input string 1 is invalid UTF-8”\n",
            "Warning message in FUN(X[[i]], ...):\n",
            "“input string 2 is invalid UTF-8”\n",
            "Warning message in FUN(X[[i]], ...):\n",
            "“input string 3 is invalid UTF-8”\n",
            "Warning message in FUN(X[[i]], ...):\n",
            "“input string 4 is invalid UTF-8”\n",
            "Warning message in FUN(X[[i]], ...):\n",
            "“input string 5 is invalid UTF-8”\n",
            "ERROR while rich displaying an object: Error in gsub(chr, html_specials[[chr]], text, fixed = TRUE): input string 1 is invalid UTF-8\n",
            "\n",
            "Traceback:\n",
            "1. tryCatch(withCallingHandlers({\n",
            " .     if (!mime %in% names(repr::mime2repr)) \n",
            " .         stop(\"No repr_* for mimetype \", mime, \" in repr::mime2repr\")\n",
            " .     rpr <- repr::mime2repr[[mime]](obj)\n",
            " .     if (is.null(rpr)) \n",
            " .         return(NULL)\n",
            " .     prepare_content(is.raw(rpr), rpr)\n",
            " . }, error = error_handler), error = outer_handler)\n",
            "2. tryCatchList(expr, classes, parentenv, handlers)\n",
            "3. tryCatchOne(expr, names, parentenv, handlers[[1L]])\n",
            "4. doTryCatch(return(expr), name, parentenv, handler)\n",
            "5. withCallingHandlers({\n",
            " .     if (!mime %in% names(repr::mime2repr)) \n",
            " .         stop(\"No repr_* for mimetype \", mime, \" in repr::mime2repr\")\n",
            " .     rpr <- repr::mime2repr[[mime]](obj)\n",
            " .     if (is.null(rpr)) \n",
            " .         return(NULL)\n",
            " .     prepare_content(is.raw(rpr), rpr)\n",
            " . }, error = error_handler)\n",
            "6. repr::mime2repr[[mime]](obj)\n",
            "7. repr_markdown.data.frame(obj)\n",
            "8. repr_matrix_generic(obj, \"\\n%s\\n\\n%s%s\\n\", sprintf(\"|%%s\\n|%s|\\n\", \n",
            " .     underline), NULL, \" <!--/--> |\", \" %s |\", \"%s\", \"|%s\\n\", \n",
            " .     \" %s |\", \" %s |\", escape_fun = markdown_escape, rows = rows, \n",
            " .     cols = cols, ...)\n",
            "9. escape_fun(colnames(x))\n",
            "10. html_escape(values, do_spaces = FALSE)\n",
            "11. gsub(chr, html_specials[[chr]], text, fixed = TRUE)\n",
            "Warning message in FUN(X[[i]], ...):\n",
            "“input string 1 is invalid UTF-8”\n",
            "Warning message in FUN(X[[i]], ...):\n",
            "“input string 2 is invalid UTF-8”\n",
            "Warning message in FUN(X[[i]], ...):\n",
            "“input string 3 is invalid UTF-8”\n",
            "Warning message in FUN(X[[i]], ...):\n",
            "“input string 4 is invalid UTF-8”\n",
            "Warning message in FUN(X[[i]], ...):\n",
            "“input string 5 is invalid UTF-8”\n",
            "Warning message in FUN(X[[i]], ...):\n",
            "“input string 1 is invalid UTF-8”\n",
            "Warning message in FUN(X[[i]], ...):\n",
            "“input string 2 is invalid UTF-8”\n",
            "Warning message in FUN(X[[i]], ...):\n",
            "“input string 3 is invalid UTF-8”\n",
            "Warning message in FUN(X[[i]], ...):\n",
            "“input string 4 is invalid UTF-8”\n",
            "Warning message in FUN(X[[i]], ...):\n",
            "“input string 5 is invalid UTF-8”\n",
            "Warning message in FUN(X[[i]], ...):\n",
            "“input string 1 is invalid UTF-8”\n",
            "Warning message in FUN(X[[i]], ...):\n",
            "“input string 2 is invalid UTF-8”\n",
            "Warning message in FUN(X[[i]], ...):\n",
            "“input string 3 is invalid UTF-8”\n",
            "Warning message in FUN(X[[i]], ...):\n",
            "“input string 4 is invalid UTF-8”\n",
            "Warning message in FUN(X[[i]], ...):\n",
            "“input string 5 is invalid UTF-8”\n",
            "Warning message in FUN(X[[i]], ...):\n",
            "“input string 1 is invalid UTF-8”\n",
            "Warning message in FUN(X[[i]], ...):\n",
            "“input string 2 is invalid UTF-8”\n",
            "Warning message in FUN(X[[i]], ...):\n",
            "“input string 3 is invalid UTF-8”\n",
            "Warning message in FUN(X[[i]], ...):\n",
            "“input string 4 is invalid UTF-8”\n",
            "Warning message in FUN(X[[i]], ...):\n",
            "“input string 5 is invalid UTF-8”\n",
            "Warning message in FUN(X[[i]], ...):\n",
            "“input string 1 is invalid UTF-8”\n",
            "Warning message in FUN(X[[i]], ...):\n",
            "“input string 2 is invalid UTF-8”\n",
            "Warning message in FUN(X[[i]], ...):\n",
            "“input string 3 is invalid UTF-8”\n",
            "Warning message in FUN(X[[i]], ...):\n",
            "“input string 4 is invalid UTF-8”\n",
            "Warning message in FUN(X[[i]], ...):\n",
            "“input string 5 is invalid UTF-8”\n",
            "Warning message in FUN(X[[i]], ...):\n",
            "“input string 1 is invalid UTF-8”\n",
            "Warning message in FUN(X[[i]], ...):\n",
            "“input string 2 is invalid UTF-8”\n",
            "Warning message in FUN(X[[i]], ...):\n",
            "“input string 3 is invalid UTF-8”\n",
            "Warning message in FUN(X[[i]], ...):\n",
            "“input string 4 is invalid UTF-8”\n",
            "Warning message in FUN(X[[i]], ...):\n",
            "“input string 5 is invalid UTF-8”\n",
            "Warning message in FUN(X[[i]], ...):\n",
            "“input string 1 is invalid UTF-8”\n",
            "Warning message in FUN(X[[i]], ...):\n",
            "“input string 2 is invalid UTF-8”\n",
            "Warning message in FUN(X[[i]], ...):\n",
            "“input string 3 is invalid UTF-8”\n",
            "Warning message in FUN(X[[i]], ...):\n",
            "“input string 4 is invalid UTF-8”\n",
            "Warning message in FUN(X[[i]], ...):\n",
            "“input string 5 is invalid UTF-8”\n",
            "Warning message in FUN(X[[i]], ...):\n",
            "“input string 1 is invalid UTF-8”\n",
            "Warning message in FUN(X[[i]], ...):\n",
            "“input string 2 is invalid UTF-8”\n",
            "Warning message in FUN(X[[i]], ...):\n",
            "“input string 3 is invalid UTF-8”\n",
            "Warning message in FUN(X[[i]], ...):\n",
            "“input string 4 is invalid UTF-8”\n",
            "Warning message in FUN(X[[i]], ...):\n",
            "“input string 5 is invalid UTF-8”\n",
            "Warning message in FUN(X[[i]], ...):\n",
            "“input string 1 is invalid UTF-8”\n",
            "Warning message in FUN(X[[i]], ...):\n",
            "“input string 2 is invalid UTF-8”\n",
            "Warning message in FUN(X[[i]], ...):\n",
            "“input string 3 is invalid UTF-8”\n",
            "Warning message in FUN(X[[i]], ...):\n",
            "“input string 4 is invalid UTF-8”\n",
            "Warning message in FUN(X[[i]], ...):\n",
            "“input string 5 is invalid UTF-8”\n",
            "Warning message in FUN(X[[i]], ...):\n",
            "“input string 1 is invalid UTF-8”\n",
            "Warning message in FUN(X[[i]], ...):\n",
            "“input string 2 is invalid UTF-8”\n",
            "Warning message in FUN(X[[i]], ...):\n",
            "“input string 3 is invalid UTF-8”\n",
            "Warning message in FUN(X[[i]], ...):\n",
            "“input string 4 is invalid UTF-8”\n",
            "Warning message in FUN(X[[i]], ...):\n",
            "“input string 5 is invalid UTF-8”\n",
            "Warning message in FUN(X[[i]], ...):\n",
            "“input string 1 is invalid UTF-8”\n",
            "Warning message in FUN(X[[i]], ...):\n",
            "“input string 2 is invalid UTF-8”\n",
            "Warning message in FUN(X[[i]], ...):\n",
            "“input string 3 is invalid UTF-8”\n",
            "Warning message in FUN(X[[i]], ...):\n",
            "“input string 4 is invalid UTF-8”\n",
            "Warning message in FUN(X[[i]], ...):\n",
            "“input string 5 is invalid UTF-8”\n",
            "Warning message in FUN(X[[i]], ...):\n",
            "“input string 1 is invalid UTF-8”\n",
            "Warning message in FUN(X[[i]], ...):\n",
            "“input string 2 is invalid UTF-8”\n",
            "Warning message in FUN(X[[i]], ...):\n",
            "“input string 3 is invalid UTF-8”\n",
            "Warning message in FUN(X[[i]], ...):\n",
            "“input string 4 is invalid UTF-8”\n",
            "Warning message in FUN(X[[i]], ...):\n",
            "“input string 5 is invalid UTF-8”\n",
            "Warning message in FUN(X[[i]], ...):\n",
            "“input string 1 is invalid UTF-8”\n",
            "Warning message in FUN(X[[i]], ...):\n",
            "“input string 2 is invalid UTF-8”\n",
            "Warning message in FUN(X[[i]], ...):\n",
            "“input string 3 is invalid UTF-8”\n",
            "Warning message in FUN(X[[i]], ...):\n",
            "“input string 4 is invalid UTF-8”\n",
            "Warning message in FUN(X[[i]], ...):\n",
            "“input string 5 is invalid UTF-8”\n",
            "ERROR while rich displaying an object: Error in gsub(\" &\\\\\", \"\\\\\", r, fixed = TRUE): input string 1 is invalid UTF-8\n",
            "\n",
            "Traceback:\n",
            "1. tryCatch(withCallingHandlers({\n",
            " .     if (!mime %in% names(repr::mime2repr)) \n",
            " .         stop(\"No repr_* for mimetype \", mime, \" in repr::mime2repr\")\n",
            " .     rpr <- repr::mime2repr[[mime]](obj)\n",
            " .     if (is.null(rpr)) \n",
            " .         return(NULL)\n",
            " .     prepare_content(is.raw(rpr), rpr)\n",
            " . }, error = error_handler), error = outer_handler)\n",
            "2. tryCatchList(expr, classes, parentenv, handlers)\n",
            "3. tryCatchOne(expr, names, parentenv, handlers[[1L]])\n",
            "4. doTryCatch(return(expr), name, parentenv, handler)\n",
            "5. withCallingHandlers({\n",
            " .     if (!mime %in% names(repr::mime2repr)) \n",
            " .         stop(\"No repr_* for mimetype \", mime, \" in repr::mime2repr\")\n",
            " .     rpr <- repr::mime2repr[[mime]](obj)\n",
            " .     if (is.null(rpr)) \n",
            " .         return(NULL)\n",
            " .     prepare_content(is.raw(rpr), rpr)\n",
            " . }, error = error_handler)\n",
            "6. repr::mime2repr[[mime]](obj)\n",
            "7. repr_latex.data.table(obj)\n",
            "8. NextMethod()\n",
            "9. repr_latex.data.frame(obj)\n",
            "10. gsub(\" &\\\\\", \"\\\\\", r, fixed = TRUE)\n"
          ]
        }
      ]
    },
    {
      "cell_type": "code",
      "source": [
        "plot_intro(asos)"
      ],
      "metadata": {
        "colab": {
          "base_uri": "https://localhost:8080/",
          "height": 213
        },
        "id": "1SMPaAZ3qAh9",
        "outputId": "67278299-bbca-47b7-87e3-a75b272c3ce2"
      },
      "execution_count": 9,
      "outputs": [
        {
          "output_type": "error",
          "ename": "ERROR",
          "evalue": "ignored",
          "traceback": [
            "Error in make.names(names(continuous)): invalid multibyte string at '<c1><f6><c1><a1>'\nTraceback:\n",
            "1. plot_intro(asos)",
            "2. introduce(data)",
            "3. split_columns(data)",
            "4. setnames(continuous, make.names(names(continuous)))",
            "5. make.names(names(continuous))"
          ]
        }
      ]
    },
    {
      "cell_type": "code",
      "source": [
        "plot_missing(asos)"
      ],
      "metadata": {
        "id": "3BKJ3vomqDj_"
      },
      "execution_count": null,
      "outputs": []
    }
  ]
}