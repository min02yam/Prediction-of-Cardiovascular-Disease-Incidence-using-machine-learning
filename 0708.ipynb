{
  "nbformat": 4,
  "nbformat_minor": 0,
  "metadata": {
    "colab": {
      "name": "Untitled24.ipynb",
      "provenance": [],
      "authorship_tag": "ABX9TyMY482CSL4IWUkxPzTcAEdt",
      "include_colab_link": true
    },
    "kernelspec": {
      "name": "ir",
      "display_name": "R"
    },
    "language_info": {
      "name": "R"
    }
  },
  "cells": [
    {
      "cell_type": "markdown",
      "metadata": {
        "id": "view-in-github",
        "colab_type": "text"
      },
      "source": [
        "<a href=\"https://colab.research.google.com/github/min02yam/wether/blob/main/0708.ipynb\" target=\"_parent\"><img src=\"https://colab.research.google.com/assets/colab-badge.svg\" alt=\"Open In Colab\"/></a>"
      ]
    },
    {
      "cell_type": "markdown",
      "source": [
        "2022.07.08\n"
      ],
      "metadata": {
        "id": "py0vNQ1OB3Xr"
      }
    },
    {
      "cell_type": "code",
      "execution_count": 9,
      "metadata": {
        "id": "L-J-SHHyBw_x"
      },
      "outputs": [],
      "source": [
        "#system(\"gdown --id 1MzxDAchGbobTc5-oZeYEhBBpCTXFCnKn\")\n",
        "system(\"gdown --id 1_EKMoo979-lVyrjE_yN9C4ZEi2MRfiHl\")"
      ]
    },
    {
      "cell_type": "code",
      "source": [
        "heart=read_csv(\"heart.csv\")"
      ],
      "metadata": {
        "colab": {
          "base_uri": "https://localhost:8080/"
        },
        "id": "PIpvS7U-I1Qx",
        "outputId": "77194dfc-e85a-4e91-8e54-682ad4f01be1"
      },
      "execution_count": 10,
      "outputs": [
        {
          "output_type": "stream",
          "name": "stderr",
          "text": [
            "\u001b[1mRows: \u001b[22m\u001b[34m303\u001b[39m \u001b[1mColumns: \u001b[22m\u001b[34m14\u001b[39m\n",
            "\u001b[36m──\u001b[39m \u001b[1mColumn specification\u001b[22m \u001b[36m────────────────────────────────────────────────────────\u001b[39m\n",
            "\u001b[1mDelimiter:\u001b[22m \",\"\n",
            "\u001b[32mdbl\u001b[39m (14): age, sex, cp, trtbps, chol, fbs, restecg, thalachh, exng, oldpeak,...\n",
            "\n",
            "\u001b[36mℹ\u001b[39m Use `spec()` to retrieve the full column specification for this data.\n",
            "\u001b[36mℹ\u001b[39m Specify the column types or set `show_col_types = FALSE` to quiet this message.\n"
          ]
        }
      ]
    },
    {
      "cell_type": "code",
      "source": [
        "spec(heart)"
      ],
      "metadata": {
        "colab": {
          "base_uri": "https://localhost:8080/",
          "height": 309
        },
        "id": "l5HcbEtuJCEu",
        "outputId": "74a48dfb-16b5-4352-91e0-89597a38947c"
      },
      "execution_count": 11,
      "outputs": [
        {
          "output_type": "display_data",
          "data": {
            "text/plain": [
              "cols(\n",
              "  age = \u001b[32mcol_double()\u001b[39m,\n",
              "  sex = \u001b[32mcol_double()\u001b[39m,\n",
              "  cp = \u001b[32mcol_double()\u001b[39m,\n",
              "  trtbps = \u001b[32mcol_double()\u001b[39m,\n",
              "  chol = \u001b[32mcol_double()\u001b[39m,\n",
              "  fbs = \u001b[32mcol_double()\u001b[39m,\n",
              "  restecg = \u001b[32mcol_double()\u001b[39m,\n",
              "  thalachh = \u001b[32mcol_double()\u001b[39m,\n",
              "  exng = \u001b[32mcol_double()\u001b[39m,\n",
              "  oldpeak = \u001b[32mcol_double()\u001b[39m,\n",
              "  slp = \u001b[32mcol_double()\u001b[39m,\n",
              "  caa = \u001b[32mcol_double()\u001b[39m,\n",
              "  thall = \u001b[32mcol_double()\u001b[39m,\n",
              "  output = \u001b[32mcol_double()\u001b[39m\n",
              ")"
            ]
          },
          "metadata": {}
        }
      ]
    },
    {
      "cell_type": "code",
      "source": [
        "install.packages(\"readr\")\n",
        "library(readr)"
      ],
      "metadata": {
        "colab": {
          "base_uri": "https://localhost:8080/"
        },
        "id": "DmKzdHj9G9_F",
        "outputId": "b8654704-d699-455f-ad73-7a3e9f89a2c6"
      },
      "execution_count": 4,
      "outputs": [
        {
          "output_type": "stream",
          "name": "stderr",
          "text": [
            "Installing package into ‘/usr/local/lib/R/site-library’\n",
            "(as ‘lib’ is unspecified)\n",
            "\n"
          ]
        }
      ]
    },
    {
      "cell_type": "code",
      "source": [
        "health=read_csv(\"health.csv\")"
      ],
      "metadata": {
        "colab": {
          "base_uri": "https://localhost:8080/"
        },
        "id": "zC5fBsrsHWd9",
        "outputId": "9ecb017c-e3a6-4f82-fd7a-66c45b8406c7"
      },
      "execution_count": 5,
      "outputs": [
        {
          "output_type": "stream",
          "name": "stderr",
          "text": [
            "\u001b[1mRows: \u001b[22m\u001b[34m319795\u001b[39m \u001b[1mColumns: \u001b[22m\u001b[34m18\u001b[39m\n",
            "\u001b[36m──\u001b[39m \u001b[1mColumn specification\u001b[22m \u001b[36m────────────────────────────────────────────────────────\u001b[39m\n",
            "\u001b[1mDelimiter:\u001b[22m \",\"\n",
            "\u001b[31mchr\u001b[39m (14): HeartDisease, Smoking, AlcoholDrinking, Stroke, DiffWalking, Sex, ...\n",
            "\u001b[32mdbl\u001b[39m  (4): BMI, PhysicalHealth, MentalHealth, SleepTime\n",
            "\n",
            "\u001b[36mℹ\u001b[39m Use `spec()` to retrieve the full column specification for this data.\n",
            "\u001b[36mℹ\u001b[39m Specify the column types or set `show_col_types = FALSE` to quiet this message.\n"
          ]
        }
      ]
    },
    {
      "cell_type": "code",
      "source": [
        "spec(health)"
      ],
      "metadata": {
        "colab": {
          "base_uri": "https://localhost:8080/",
          "height": 382
        },
        "id": "6ARFvGOlHmWs",
        "outputId": "fbcaed34-b36b-45e6-b786-940c8fd9e4d8"
      },
      "execution_count": 6,
      "outputs": [
        {
          "output_type": "display_data",
          "data": {
            "text/plain": [
              "cols(\n",
              "  HeartDisease = \u001b[31mcol_character()\u001b[39m,\n",
              "  BMI = \u001b[32mcol_double()\u001b[39m,\n",
              "  Smoking = \u001b[31mcol_character()\u001b[39m,\n",
              "  AlcoholDrinking = \u001b[31mcol_character()\u001b[39m,\n",
              "  Stroke = \u001b[31mcol_character()\u001b[39m,\n",
              "  PhysicalHealth = \u001b[32mcol_double()\u001b[39m,\n",
              "  MentalHealth = \u001b[32mcol_double()\u001b[39m,\n",
              "  DiffWalking = \u001b[31mcol_character()\u001b[39m,\n",
              "  Sex = \u001b[31mcol_character()\u001b[39m,\n",
              "  AgeCategory = \u001b[31mcol_character()\u001b[39m,\n",
              "  Race = \u001b[31mcol_character()\u001b[39m,\n",
              "  Diabetic = \u001b[31mcol_character()\u001b[39m,\n",
              "  PhysicalActivity = \u001b[31mcol_character()\u001b[39m,\n",
              "  GenHealth = \u001b[31mcol_character()\u001b[39m,\n",
              "  SleepTime = \u001b[32mcol_double()\u001b[39m,\n",
              "  Asthma = \u001b[31mcol_character()\u001b[39m,\n",
              "  KidneyDisease = \u001b[31mcol_character()\u001b[39m,\n",
              "  SkinCancer = \u001b[31mcol_character()\u001b[39m\n",
              ")"
            ]
          },
          "metadata": {}
        }
      ]
    },
    {
      "cell_type": "code",
      "source": [
        "colnames(health)"
      ],
      "metadata": {
        "colab": {
          "base_uri": "https://localhost:8080/",
          "height": 52
        },
        "id": "438zF1N9H684",
        "outputId": "27064b17-d999-4a22-ac0c-6f83261f83b4"
      },
      "execution_count": 8,
      "outputs": [
        {
          "output_type": "display_data",
          "data": {
            "text/html": [
              "<style>\n",
              ".list-inline {list-style: none; margin:0; padding: 0}\n",
              ".list-inline>li {display: inline-block}\n",
              ".list-inline>li:not(:last-child)::after {content: \"\\00b7\"; padding: 0 .5ex}\n",
              "</style>\n",
              "<ol class=list-inline><li>'HeartDisease'</li><li>'BMI'</li><li>'Smoking'</li><li>'AlcoholDrinking'</li><li>'Stroke'</li><li>'PhysicalHealth'</li><li>'MentalHealth'</li><li>'DiffWalking'</li><li>'Sex'</li><li>'AgeCategory'</li><li>'Race'</li><li>'Diabetic'</li><li>'PhysicalActivity'</li><li>'GenHealth'</li><li>'SleepTime'</li><li>'Asthma'</li><li>'KidneyDisease'</li><li>'SkinCancer'</li></ol>\n"
            ],
            "text/markdown": "1. 'HeartDisease'\n2. 'BMI'\n3. 'Smoking'\n4. 'AlcoholDrinking'\n5. 'Stroke'\n6. 'PhysicalHealth'\n7. 'MentalHealth'\n8. 'DiffWalking'\n9. 'Sex'\n10. 'AgeCategory'\n11. 'Race'\n12. 'Diabetic'\n13. 'PhysicalActivity'\n14. 'GenHealth'\n15. 'SleepTime'\n16. 'Asthma'\n17. 'KidneyDisease'\n18. 'SkinCancer'\n\n\n",
            "text/latex": "\\begin{enumerate*}\n\\item 'HeartDisease'\n\\item 'BMI'\n\\item 'Smoking'\n\\item 'AlcoholDrinking'\n\\item 'Stroke'\n\\item 'PhysicalHealth'\n\\item 'MentalHealth'\n\\item 'DiffWalking'\n\\item 'Sex'\n\\item 'AgeCategory'\n\\item 'Race'\n\\item 'Diabetic'\n\\item 'PhysicalActivity'\n\\item 'GenHealth'\n\\item 'SleepTime'\n\\item 'Asthma'\n\\item 'KidneyDisease'\n\\item 'SkinCancer'\n\\end{enumerate*}\n",
            "text/plain": [
              " [1] \"HeartDisease\"     \"BMI\"              \"Smoking\"          \"AlcoholDrinking\" \n",
              " [5] \"Stroke\"           \"PhysicalHealth\"   \"MentalHealth\"     \"DiffWalking\"     \n",
              " [9] \"Sex\"              \"AgeCategory\"      \"Race\"             \"Diabetic\"        \n",
              "[13] \"PhysicalActivity\" \"GenHealth\"        \"SleepTime\"        \"Asthma\"          \n",
              "[17] \"KidneyDisease\"    \"SkinCancer\"      "
            ]
          },
          "metadata": {}
        }
      ]
    },
    {
      "cell_type": "code",
      "source": [
        "head(health)"
      ],
      "metadata": {
        "colab": {
          "base_uri": "https://localhost:8080/",
          "height": 306
        },
        "id": "ALswUWMxHp_b",
        "outputId": "bb3e283b-0ad3-45b4-e801-f96b6fbb0ba5"
      },
      "execution_count": 7,
      "outputs": [
        {
          "output_type": "display_data",
          "data": {
            "text/html": [
              "<table class=\"dataframe\">\n",
              "<caption>A tibble: 6 × 18</caption>\n",
              "<thead>\n",
              "\t<tr><th scope=col>HeartDisease</th><th scope=col>BMI</th><th scope=col>Smoking</th><th scope=col>AlcoholDrinking</th><th scope=col>Stroke</th><th scope=col>PhysicalHealth</th><th scope=col>MentalHealth</th><th scope=col>DiffWalking</th><th scope=col>Sex</th><th scope=col>AgeCategory</th><th scope=col>Race</th><th scope=col>Diabetic</th><th scope=col>PhysicalActivity</th><th scope=col>GenHealth</th><th scope=col>SleepTime</th><th scope=col>Asthma</th><th scope=col>KidneyDisease</th><th scope=col>SkinCancer</th></tr>\n",
              "\t<tr><th scope=col>&lt;chr&gt;</th><th scope=col>&lt;dbl&gt;</th><th scope=col>&lt;chr&gt;</th><th scope=col>&lt;chr&gt;</th><th scope=col>&lt;chr&gt;</th><th scope=col>&lt;dbl&gt;</th><th scope=col>&lt;dbl&gt;</th><th scope=col>&lt;chr&gt;</th><th scope=col>&lt;chr&gt;</th><th scope=col>&lt;chr&gt;</th><th scope=col>&lt;chr&gt;</th><th scope=col>&lt;chr&gt;</th><th scope=col>&lt;chr&gt;</th><th scope=col>&lt;chr&gt;</th><th scope=col>&lt;dbl&gt;</th><th scope=col>&lt;chr&gt;</th><th scope=col>&lt;chr&gt;</th><th scope=col>&lt;chr&gt;</th></tr>\n",
              "</thead>\n",
              "<tbody>\n",
              "\t<tr><td>No </td><td>16.60</td><td>Yes</td><td>No</td><td>No </td><td> 3</td><td>30</td><td>No </td><td>Female</td><td>55-59      </td><td>White</td><td>Yes</td><td>Yes</td><td>Very good</td><td> 5</td><td>Yes</td><td>No</td><td>Yes</td></tr>\n",
              "\t<tr><td>No </td><td>20.34</td><td>No </td><td>No</td><td>Yes</td><td> 0</td><td> 0</td><td>No </td><td>Female</td><td>80 or older</td><td>White</td><td>No </td><td>Yes</td><td>Very good</td><td> 7</td><td>No </td><td>No</td><td>No </td></tr>\n",
              "\t<tr><td>No </td><td>26.58</td><td>Yes</td><td>No</td><td>No </td><td>20</td><td>30</td><td>No </td><td>Male  </td><td>65-69      </td><td>White</td><td>Yes</td><td>Yes</td><td>Fair     </td><td> 8</td><td>Yes</td><td>No</td><td>No </td></tr>\n",
              "\t<tr><td>No </td><td>24.21</td><td>No </td><td>No</td><td>No </td><td> 0</td><td> 0</td><td>No </td><td>Female</td><td>75-79      </td><td>White</td><td>No </td><td>No </td><td>Good     </td><td> 6</td><td>No </td><td>No</td><td>Yes</td></tr>\n",
              "\t<tr><td>No </td><td>23.71</td><td>No </td><td>No</td><td>No </td><td>28</td><td> 0</td><td>Yes</td><td>Female</td><td>40-44      </td><td>White</td><td>No </td><td>Yes</td><td>Very good</td><td> 8</td><td>No </td><td>No</td><td>No </td></tr>\n",
              "\t<tr><td>Yes</td><td>28.87</td><td>Yes</td><td>No</td><td>No </td><td> 6</td><td> 0</td><td>Yes</td><td>Female</td><td>75-79      </td><td>Black</td><td>No </td><td>No </td><td>Fair     </td><td>12</td><td>No </td><td>No</td><td>No </td></tr>\n",
              "</tbody>\n",
              "</table>\n"
            ],
            "text/markdown": "\nA tibble: 6 × 18\n\n| HeartDisease &lt;chr&gt; | BMI &lt;dbl&gt; | Smoking &lt;chr&gt; | AlcoholDrinking &lt;chr&gt; | Stroke &lt;chr&gt; | PhysicalHealth &lt;dbl&gt; | MentalHealth &lt;dbl&gt; | DiffWalking &lt;chr&gt; | Sex &lt;chr&gt; | AgeCategory &lt;chr&gt; | Race &lt;chr&gt; | Diabetic &lt;chr&gt; | PhysicalActivity &lt;chr&gt; | GenHealth &lt;chr&gt; | SleepTime &lt;dbl&gt; | Asthma &lt;chr&gt; | KidneyDisease &lt;chr&gt; | SkinCancer &lt;chr&gt; |\n|---|---|---|---|---|---|---|---|---|---|---|---|---|---|---|---|---|---|\n| No  | 16.60 | Yes | No | No  |  3 | 30 | No  | Female | 55-59       | White | Yes | Yes | Very good |  5 | Yes | No | Yes |\n| No  | 20.34 | No  | No | Yes |  0 |  0 | No  | Female | 80 or older | White | No  | Yes | Very good |  7 | No  | No | No  |\n| No  | 26.58 | Yes | No | No  | 20 | 30 | No  | Male   | 65-69       | White | Yes | Yes | Fair      |  8 | Yes | No | No  |\n| No  | 24.21 | No  | No | No  |  0 |  0 | No  | Female | 75-79       | White | No  | No  | Good      |  6 | No  | No | Yes |\n| No  | 23.71 | No  | No | No  | 28 |  0 | Yes | Female | 40-44       | White | No  | Yes | Very good |  8 | No  | No | No  |\n| Yes | 28.87 | Yes | No | No  |  6 |  0 | Yes | Female | 75-79       | Black | No  | No  | Fair      | 12 | No  | No | No  |\n\n",
            "text/latex": "A tibble: 6 × 18\n\\begin{tabular}{llllllllllllllllll}\n HeartDisease & BMI & Smoking & AlcoholDrinking & Stroke & PhysicalHealth & MentalHealth & DiffWalking & Sex & AgeCategory & Race & Diabetic & PhysicalActivity & GenHealth & SleepTime & Asthma & KidneyDisease & SkinCancer\\\\\n <chr> & <dbl> & <chr> & <chr> & <chr> & <dbl> & <dbl> & <chr> & <chr> & <chr> & <chr> & <chr> & <chr> & <chr> & <dbl> & <chr> & <chr> & <chr>\\\\\n\\hline\n\t No  & 16.60 & Yes & No & No  &  3 & 30 & No  & Female & 55-59       & White & Yes & Yes & Very good &  5 & Yes & No & Yes\\\\\n\t No  & 20.34 & No  & No & Yes &  0 &  0 & No  & Female & 80 or older & White & No  & Yes & Very good &  7 & No  & No & No \\\\\n\t No  & 26.58 & Yes & No & No  & 20 & 30 & No  & Male   & 65-69       & White & Yes & Yes & Fair      &  8 & Yes & No & No \\\\\n\t No  & 24.21 & No  & No & No  &  0 &  0 & No  & Female & 75-79       & White & No  & No  & Good      &  6 & No  & No & Yes\\\\\n\t No  & 23.71 & No  & No & No  & 28 &  0 & Yes & Female & 40-44       & White & No  & Yes & Very good &  8 & No  & No & No \\\\\n\t Yes & 28.87 & Yes & No & No  &  6 &  0 & Yes & Female & 75-79       & Black & No  & No  & Fair      & 12 & No  & No & No \\\\\n\\end{tabular}\n",
            "text/plain": [
              "  HeartDisease BMI   Smoking AlcoholDrinking Stroke PhysicalHealth MentalHealth\n",
              "1 No           16.60 Yes     No              No      3             30          \n",
              "2 No           20.34 No      No              Yes     0              0          \n",
              "3 No           26.58 Yes     No              No     20             30          \n",
              "4 No           24.21 No      No              No      0              0          \n",
              "5 No           23.71 No      No              No     28              0          \n",
              "6 Yes          28.87 Yes     No              No      6              0          \n",
              "  DiffWalking Sex    AgeCategory Race  Diabetic PhysicalActivity GenHealth\n",
              "1 No          Female 55-59       White Yes      Yes              Very good\n",
              "2 No          Female 80 or older White No       Yes              Very good\n",
              "3 No          Male   65-69       White Yes      Yes              Fair     \n",
              "4 No          Female 75-79       White No       No               Good     \n",
              "5 Yes         Female 40-44       White No       Yes              Very good\n",
              "6 Yes         Female 75-79       Black No       No               Fair     \n",
              "  SleepTime Asthma KidneyDisease SkinCancer\n",
              "1  5        Yes    No            Yes       \n",
              "2  7        No     No            No        \n",
              "3  8        Yes    No            No        \n",
              "4  6        No     No            Yes       \n",
              "5  8        No     No            No        \n",
              "6 12        No     No            No        "
            ]
          },
          "metadata": {}
        }
      ]
    },
    {
      "cell_type": "code",
      "source": [
        "https://drive.google.com/file/d/1_EKMoo979-lVyrjE_yN9C4ZEi2MRfiHl/view?usp=sharing"
      ],
      "metadata": {
        "id": "pyHNEvcRIylu"
      },
      "execution_count": null,
      "outputs": []
    },
    {
      "cell_type": "markdown",
      "source": [
        "http://topepo.github.io/caret/pre-processing.html"
      ],
      "metadata": {
        "id": "9_tHtH_7Gi6B"
      }
    }
  ]
}