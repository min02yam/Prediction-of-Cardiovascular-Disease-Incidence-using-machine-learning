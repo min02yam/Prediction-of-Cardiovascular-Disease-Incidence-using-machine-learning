{
  "nbformat": 4,
  "nbformat_minor": 0,
  "metadata": {
    "colab": {
      "name": "7.의료자원.ipynb",
      "provenance": [],
      "authorship_tag": "ABX9TyN2zw4hMc2sI49szLxmctha",
      "include_colab_link": true
    },
    "kernelspec": {
      "name": "ir",
      "display_name": "R"
    },
    "language_info": {
      "name": "R"
    },
    "accelerator": "GPU",
    "gpuClass": "standard"
  },
  "cells": [
    {
      "cell_type": "markdown",
      "metadata": {
        "id": "view-in-github",
        "colab_type": "text"
      },
      "source": [
        "<a href=\"https://colab.research.google.com/github/min02yam/wether/blob/main/%EC%98%88%EB%B3%B4_2012%3A2016.ipynb\" target=\"_parent\"><img src=\"https://colab.research.google.com/assets/colab-badge.svg\" alt=\"Open In Colab\"/></a>"
      ]
    },
    {
      "cell_type": "markdown",
      "source": [
        "예보데이터(2012~2016) <br>\n",
        "(전처리2)\n"
      ],
      "metadata": {
        "id": "3jhHomlwhuzG"
      }
    },
    {
      "cell_type": "markdown",
      "source": [
        "# 0.라이브러리 및 데이터 로드"
      ],
      "metadata": {
        "id": "BIERRJM7c3QW"
      }
    },
    {
      "cell_type": "code",
      "source": [
        "install.packages(\"DataExplorer\")\n",
        "library(DataExplorer)"
      ],
      "metadata": {
        "colab": {
          "base_uri": "https://localhost:8080/"
        },
        "id": "5rfV91HnzAlO",
        "outputId": "0f44e6bf-0dd5-4a10-a3b7-ebfb134c8dfd"
      },
      "execution_count": null,
      "outputs": [
        {
          "output_type": "stream",
          "name": "stderr",
          "text": [
            "Installing package into ‘/usr/local/lib/R/site-library’\n",
            "(as ‘lib’ is unspecified)\n",
            "\n",
            "also installing the dependencies ‘plyr’, ‘Rcpp’, ‘htmlwidgets’, ‘igraph’, ‘reshape2’, ‘gridExtra’, ‘networkD3’\n",
            "\n",
            "\n"
          ]
        }
      ]
    },
    {
      "cell_type": "code",
      "source": [
        "suppressPackageStartupMessages({\n",
        "  require(tidyverse)\n",
        "  require(magrittr)\n",
        "  require(data.table)\n",
        "})"
      ],
      "metadata": {
        "id": "nA40pLmzHmCc"
      },
      "execution_count": null,
      "outputs": []
    },
    {
      "cell_type": "code",
      "source": [
        "system(\"gdown --id 1OuRMVc06ZkWhxjM9qPTCF7llWtL-Om2m\") # 미충족의료율(병의원)\n",
        "system(\"gdown --id 1qnBjcNZn9BR08uzYRP9ep9Tky-Tz9GQc\") # 시도별 의료인력 현황(의사,간호사,한의사) \n",
        "system(\"gdown --id 1MYBdKWu3iI1u83xrwUq7cXnhrzzU1AaX\") # 인구 천명당 의료기관 종사 의사수 "
      ],
      "metadata": {
        "id": "WebdMMyrfI8Q"
      },
      "execution_count": null,
      "outputs": []
    },
    {
      "cell_type": "code",
      "source": [
        "미충족의료율 =  read.csv(\"시·군·구별_연간_미충족의료율_병의원__20220731010415.csv\" , fileEncoding = \"euc-kr\")\n",
        "의료인력 =  read.csv(\"시도별_의료인력_현황_20220730203542.csv\" , fileEncoding = \"euc-kr\")\n",
        "천명당의사수 =  read.csv(\"인구_천명당_의료기관_종사_의사수_시도_시_군_구__20220731004610.csv\" , fileEncoding = \"euc-kr\")"
      ],
      "metadata": {
        "id": "eoxKl3X4Y_yI"
      },
      "execution_count": null,
      "outputs": []
    }
  ]
}