{
  "nbformat": 4,
  "nbformat_minor": 0,
  "metadata": {
    "colab": {
      "name": "3.인구.ipynb",
      "provenance": [],
      "authorship_tag": "ABX9TyMDGvAQDeguWp2vL2saBjh/",
      "include_colab_link": true
    },
    "kernelspec": {
      "name": "ir",
      "display_name": "R"
    },
    "language_info": {
      "name": "R"
    },
    "accelerator": "GPU",
    "gpuClass": "standard"
  },
  "cells": [
    {
      "cell_type": "markdown",
      "metadata": {
        "id": "view-in-github",
        "colab_type": "text"
      },
      "source": [
        "<a href=\"https://colab.research.google.com/github/min02yam/wether/blob/main/3_%EC%9D%B8%EA%B5%AC.ipynb\" target=\"_parent\"><img src=\"https://colab.research.google.com/assets/colab-badge.svg\" alt=\"Open In Colab\"/></a>"
      ]
    },
    {
      "cell_type": "markdown",
      "source": [
        "3. 인구\n",
        "- 고령인구비율\n",
        "- 성별 인구수"
      ],
      "metadata": {
        "id": "3jhHomlwhuzG"
      }
    },
    {
      "cell_type": "markdown",
      "source": [
        "# 0.라이브러리 및 데이터 로드"
      ],
      "metadata": {
        "id": "BIERRJM7c3QW"
      }
    },
    {
      "cell_type": "code",
      "source": [
        "install.packages(\"DataExplorer\")\n",
        "library(DataExplorer)"
      ],
      "metadata": {
        "colab": {
          "base_uri": "https://localhost:8080/"
        },
        "id": "5rfV91HnzAlO",
        "outputId": "0f44e6bf-0dd5-4a10-a3b7-ebfb134c8dfd"
      },
      "execution_count": null,
      "outputs": [
        {
          "output_type": "stream",
          "name": "stderr",
          "text": [
            "Installing package into ‘/usr/local/lib/R/site-library’\n",
            "(as ‘lib’ is unspecified)\n",
            "\n",
            "also installing the dependencies ‘plyr’, ‘Rcpp’, ‘htmlwidgets’, ‘igraph’, ‘reshape2’, ‘gridExtra’, ‘networkD3’\n",
            "\n",
            "\n"
          ]
        }
      ]
    },
    {
      "cell_type": "code",
      "source": [
        "suppressPackageStartupMessages({\n",
        "  require(tidyverse)\n",
        "  require(magrittr)\n",
        "  require(data.table)\n",
        "})"
      ],
      "metadata": {
        "id": "nA40pLmzHmCc"
      },
      "execution_count": null,
      "outputs": []
    },
    {
      "cell_type": "code",
      "source": [
        "system(\"gdown --id 17HhSPmyE8ja0MOJjOPcOmzZZ0fBB4py8\") # 고령인구비율_시군구\n",
        "system(\"gdown --id 1n895y___azhkbPAtanK1LU-pGalB1BRt\") # 행정구역시군구별 성별 인구수"
      ],
      "metadata": {
        "id": "WebdMMyrfI8Q"
      },
      "execution_count": null,
      "outputs": []
    },
    {
      "cell_type": "code",
      "source": [
        "#rm(list=ls())\n",
        "고령인구비율= read.csv (\"고령인구비율_시도_시_군_구__20220730191254.csv\", fileEncoding = \"euc-kr\")\n",
        "성별인구수= read.csv (\"행정구역_시군구_별__성별_인구수_20220730183620.csv\", fileEncoding = \"euc-kr\")"
      ],
      "metadata": {
        "id": "e5NozZJXfYTN"
      },
      "execution_count": 205,
      "outputs": []
    },
    {
      "cell_type": "code",
      "source": [
        "고령인구비율 %>% head\n",
        "성별인구수 %>% head"
      ],
      "metadata": {
        "id": "wYh-COTIxyHA",
        "colab": {
          "base_uri": "https://localhost:8080/",
          "height": 555
        },
        "outputId": "a900b8dd-b6ca-4b58-f99f-d8d66b742988"
      },
      "execution_count": 172,
      "outputs": [
        {
          "output_type": "display_data",
          "data": {
            "text/html": [
              "<table class=\"dataframe\">\n",
              "<caption>A data.frame: 6 × 5</caption>\n",
              "<thead>\n",
              "\t<tr><th></th><th scope=col>행정구역별.1.</th><th scope=col>시점</th><th scope=col>고령인구비율.br..A.B.100.....</th><th scope=col>X65세이상인구.br..A...명.</th><th scope=col>전체인구.br..B...명.</th></tr>\n",
              "\t<tr><th></th><th scope=col>&lt;chr&gt;</th><th scope=col>&lt;dbl&gt;</th><th scope=col>&lt;dbl&gt;</th><th scope=col>&lt;int&gt;</th><th scope=col>&lt;int&gt;</th></tr>\n",
              "</thead>\n",
              "<tbody>\n",
              "\t<tr><th scope=row>1</th><td>전국</td><td>2012.01</td><td>11.3</td><td>5728780</td><td>50750837</td></tr>\n",
              "\t<tr><th scope=row>2</th><td>전국</td><td>2012.02</td><td>11.4</td><td>5765156</td><td>50767313</td></tr>\n",
              "\t<tr><th scope=row>3</th><td>전국</td><td>2012.03</td><td>11.4</td><td>5791981</td><td>50783029</td></tr>\n",
              "\t<tr><th scope=row>4</th><td>전국</td><td>2012.04</td><td>11.4</td><td>5812430</td><td>50801531</td></tr>\n",
              "\t<tr><th scope=row>5</th><td>전국</td><td>2012.05</td><td>11.5</td><td>5834042</td><td>50819380</td></tr>\n",
              "\t<tr><th scope=row>6</th><td>전국</td><td>2012.06</td><td>11.5</td><td>5851800</td><td>50832898</td></tr>\n",
              "</tbody>\n",
              "</table>\n"
            ],
            "text/markdown": "\nA data.frame: 6 × 5\n\n| <!--/--> | 행정구역별.1. &lt;chr&gt; | 시점 &lt;dbl&gt; | 고령인구비율.br..A.B.100..... &lt;dbl&gt; | X65세이상인구.br..A...명. &lt;int&gt; | 전체인구.br..B...명. &lt;int&gt; |\n|---|---|---|---|---|---|\n| 1 | 전국 | 2012.01 | 11.3 | 5728780 | 50750837 |\n| 2 | 전국 | 2012.02 | 11.4 | 5765156 | 50767313 |\n| 3 | 전국 | 2012.03 | 11.4 | 5791981 | 50783029 |\n| 4 | 전국 | 2012.04 | 11.4 | 5812430 | 50801531 |\n| 5 | 전국 | 2012.05 | 11.5 | 5834042 | 50819380 |\n| 6 | 전국 | 2012.06 | 11.5 | 5851800 | 50832898 |\n\n",
            "text/latex": "A data.frame: 6 × 5\n\\begin{tabular}{r|lllll}\n  & 행정구역별.1. & 시점 & 고령인구비율.br..A.B.100..... & X65세이상인구.br..A...명. & 전체인구.br..B...명.\\\\\n  & <chr> & <dbl> & <dbl> & <int> & <int>\\\\\n\\hline\n\t1 & 전국 & 2012.01 & 11.3 & 5728780 & 50750837\\\\\n\t2 & 전국 & 2012.02 & 11.4 & 5765156 & 50767313\\\\\n\t3 & 전국 & 2012.03 & 11.4 & 5791981 & 50783029\\\\\n\t4 & 전국 & 2012.04 & 11.4 & 5812430 & 50801531\\\\\n\t5 & 전국 & 2012.05 & 11.5 & 5834042 & 50819380\\\\\n\t6 & 전국 & 2012.06 & 11.5 & 5851800 & 50832898\\\\\n\\end{tabular}\n",
            "text/plain": [
              "  행정구역별.1. 시점    고령인구비율.br..A.B.100..... X65세이상인구.br..A...명.\n",
              "1 전국          2012.01 11.3                          5728780                  \n",
              "2 전국          2012.02 11.4                          5765156                  \n",
              "3 전국          2012.03 11.4                          5791981                  \n",
              "4 전국          2012.04 11.4                          5812430                  \n",
              "5 전국          2012.05 11.5                          5834042                  \n",
              "6 전국          2012.06 11.5                          5851800                  \n",
              "  전체인구.br..B...명.\n",
              "1 50750837            \n",
              "2 50767313            \n",
              "3 50783029            \n",
              "4 50801531            \n",
              "5 50819380            \n",
              "6 50832898            "
            ]
          },
          "metadata": {}
        },
        {
          "output_type": "display_data",
          "data": {
            "text/html": [
              "<table class=\"dataframe\">\n",
              "<caption>A data.frame: 6 × 5</caption>\n",
              "<thead>\n",
              "\t<tr><th></th><th scope=col>행정구역.시군구.별</th><th scope=col>시점</th><th scope=col>총인구수..명.</th><th scope=col>남자인구수..명.</th><th scope=col>여자인구수..명.</th></tr>\n",
              "\t<tr><th></th><th scope=col>&lt;chr&gt;</th><th scope=col>&lt;dbl&gt;</th><th scope=col>&lt;chr&gt;</th><th scope=col>&lt;chr&gt;</th><th scope=col>&lt;chr&gt;</th></tr>\n",
              "</thead>\n",
              "<tbody>\n",
              "\t<tr><th scope=row>1</th><td>전국</td><td>2012.01</td><td>50750837</td><td>25414026</td><td>25336811</td></tr>\n",
              "\t<tr><th scope=row>2</th><td>전국</td><td>2012.02</td><td>50767313</td><td>25421655</td><td>25345658</td></tr>\n",
              "\t<tr><th scope=row>3</th><td>전국</td><td>2012.03</td><td>50783029</td><td>25429184</td><td>25353845</td></tr>\n",
              "\t<tr><th scope=row>4</th><td>전국</td><td>2012.04</td><td>50801531</td><td>25437643</td><td>25363888</td></tr>\n",
              "\t<tr><th scope=row>5</th><td>전국</td><td>2012.05</td><td>50819380</td><td>25445721</td><td>25373659</td></tr>\n",
              "\t<tr><th scope=row>6</th><td>전국</td><td>2012.06</td><td>50832898</td><td>25452027</td><td>25380871</td></tr>\n",
              "</tbody>\n",
              "</table>\n"
            ],
            "text/markdown": "\nA data.frame: 6 × 5\n\n| <!--/--> | 행정구역.시군구.별 &lt;chr&gt; | 시점 &lt;dbl&gt; | 총인구수..명. &lt;chr&gt; | 남자인구수..명. &lt;chr&gt; | 여자인구수..명. &lt;chr&gt; |\n|---|---|---|---|---|---|\n| 1 | 전국 | 2012.01 | 50750837 | 25414026 | 25336811 |\n| 2 | 전국 | 2012.02 | 50767313 | 25421655 | 25345658 |\n| 3 | 전국 | 2012.03 | 50783029 | 25429184 | 25353845 |\n| 4 | 전국 | 2012.04 | 50801531 | 25437643 | 25363888 |\n| 5 | 전국 | 2012.05 | 50819380 | 25445721 | 25373659 |\n| 6 | 전국 | 2012.06 | 50832898 | 25452027 | 25380871 |\n\n",
            "text/latex": "A data.frame: 6 × 5\n\\begin{tabular}{r|lllll}\n  & 행정구역.시군구.별 & 시점 & 총인구수..명. & 남자인구수..명. & 여자인구수..명.\\\\\n  & <chr> & <dbl> & <chr> & <chr> & <chr>\\\\\n\\hline\n\t1 & 전국 & 2012.01 & 50750837 & 25414026 & 25336811\\\\\n\t2 & 전국 & 2012.02 & 50767313 & 25421655 & 25345658\\\\\n\t3 & 전국 & 2012.03 & 50783029 & 25429184 & 25353845\\\\\n\t4 & 전국 & 2012.04 & 50801531 & 25437643 & 25363888\\\\\n\t5 & 전국 & 2012.05 & 50819380 & 25445721 & 25373659\\\\\n\t6 & 전국 & 2012.06 & 50832898 & 25452027 & 25380871\\\\\n\\end{tabular}\n",
            "text/plain": [
              "  행정구역.시군구.별 시점    총인구수..명. 남자인구수..명. 여자인구수..명.\n",
              "1 전국               2012.01 50750837      25414026        25336811       \n",
              "2 전국               2012.02 50767313      25421655        25345658       \n",
              "3 전국               2012.03 50783029      25429184        25353845       \n",
              "4 전국               2012.04 50801531      25437643        25363888       \n",
              "5 전국               2012.05 50819380      25445721        25373659       \n",
              "6 전국               2012.06 50832898      25452027        25380871       "
            ]
          },
          "metadata": {}
        }
      ]
    },
    {
      "cell_type": "markdown",
      "source": [
        "# 변수명 변경"
      ],
      "metadata": {
        "id": "bdMzG707FQen"
      }
    },
    {
      "cell_type": "code",
      "source": [
        "names(고령인구비율)= c(\"area\", \"yyyymm\",\"고령인구비율\",\"65세이상인구\",\"전체인구\")\n",
        "names(성별인구수) = c(\"area\", \"yyyymm\",\"총인구수\",\"남자인구수\",\"여자인구수\")"
      ],
      "metadata": {
        "id": "S1pj8_S4E0sO"
      },
      "execution_count": 206,
      "outputs": []
    },
    {
      "cell_type": "code",
      "source": [
        "고령인구비율 %>% summary\n",
        "성별인구수 %>% summary"
      ],
      "metadata": {
        "colab": {
          "base_uri": "https://localhost:8080/",
          "height": 540
        },
        "id": "bquZrzHkFf3R",
        "outputId": "5ade28c9-2e09-4e63-fae9-d12c63e54f83"
      },
      "execution_count": 175,
      "outputs": [
        {
          "output_type": "display_data",
          "data": {
            "text/plain": [
              "     area               yyyymm      고령인구비율    65세이상인구    \n",
              " Length:642         Min.   :2012   Min.   : 7.10   Min.   :  16755  \n",
              " Class :character   1st Qu.:2012   1st Qu.:10.20   1st Qu.: 155203  \n",
              " Mode  :character   Median :2013   Median :12.70   Median : 299980  \n",
              "                    Mean   :2013   Mean   :12.91   Mean   : 687840  \n",
              "                    3rd Qu.:2014   3rd Qu.:15.50   3rd Qu.: 441825  \n",
              "                    Max.   :2014   Max.   :20.10   Max.   :6520607  \n",
              "    전체인구       \n",
              " Min.   :  103127  \n",
              " 1st Qu.: 1532545  \n",
              " Median : 2024404  \n",
              " Mean   : 5725124  \n",
              " 3rd Qu.: 3325094  \n",
              " Max.   :51327916  "
            ]
          },
          "metadata": {}
        },
        {
          "output_type": "display_data",
          "data": {
            "text/plain": [
              "     area               yyyymm       총인구수          남자인구수       \n",
              " Length:1080        Min.   :2012   Length:1080        Length:1080       \n",
              " Class :character   1st Qu.:2013   Class :character   Class :character  \n",
              " Mode  :character   Median :2014   Mode  :character   Mode  :character  \n",
              "                    Mean   :2014                                        \n",
              "                    3rd Qu.:2015                                        \n",
              "                    Max.   :2016                                        \n",
              "  여자인구수       \n",
              " Length:1080       \n",
              " Class :character  \n",
              " Mode  :character  \n",
              "                   \n",
              "                   \n",
              "                   "
            ]
          },
          "metadata": {}
        }
      ]
    },
    {
      "cell_type": "markdown",
      "source": [
        "# 성별인구수 파생변수 생성"
      ],
      "metadata": {
        "id": "pjzEJQhHGsak"
      }
    },
    {
      "cell_type": "code",
      "source": [
        "성별인구수 %<>% as.data.table"
      ],
      "metadata": {
        "id": "BFtegeV3NSRT"
      },
      "execution_count": 207,
      "outputs": []
    },
    {
      "cell_type": "code",
      "source": [
        "#char -> int 형으로 변경\n",
        "성별인구수[, 총인구수 := as.integer(총인구수)]\n",
        "성별인구수[, 남자인구수 := as.integer(남자인구수)]\n",
        "성별인구수[, 여자인구수 := as.integer(여자인구수)]"
      ],
      "metadata": {
        "colab": {
          "base_uri": "https://localhost:8080/"
        },
        "id": "70Rzh3tPNWw9",
        "outputId": "f1a63d6b-782b-4407-ad2c-104e1f13cc62"
      },
      "execution_count": 208,
      "outputs": [
        {
          "output_type": "stream",
          "name": "stderr",
          "text": [
            "Warning message in eval(jsub, SDenv, parent.frame()):\n",
            "“NAs introduced by coercion”\n",
            "Warning message in eval(jsub, SDenv, parent.frame()):\n",
            "“NAs introduced by coercion”\n",
            "Warning message in eval(jsub, SDenv, parent.frame()):\n",
            "“NAs introduced by coercion”\n"
          ]
        }
      ]
    },
    {
      "cell_type": "code",
      "source": [
        "성별인구수 %>% filter( is.na(총인구수) | is.na(남자인구수) | is.na(여자인구수))"
      ],
      "metadata": {
        "colab": {
          "base_uri": "https://localhost:8080/",
          "height": 286
        },
        "id": "vPW0hxgmIsX4",
        "outputId": "5ba786b5-81e1-4993-ba2e-10a565dc0cd8"
      },
      "execution_count": 209,
      "outputs": [
        {
          "output_type": "display_data",
          "data": {
            "text/html": [
              "<table class=\"dataframe\">\n",
              "<caption>A data.table: 6 × 5</caption>\n",
              "<thead>\n",
              "\t<tr><th scope=col>area</th><th scope=col>yyyymm</th><th scope=col>총인구수</th><th scope=col>남자인구수</th><th scope=col>여자인구수</th></tr>\n",
              "\t<tr><th scope=col>&lt;chr&gt;</th><th scope=col>&lt;dbl&gt;</th><th scope=col>&lt;int&gt;</th><th scope=col>&lt;int&gt;</th><th scope=col>&lt;int&gt;</th></tr>\n",
              "</thead>\n",
              "<tbody>\n",
              "\t<tr><td>세종특별자치시</td><td>2012.01</td><td>NA</td><td>NA</td><td>NA</td></tr>\n",
              "\t<tr><td>세종특별자치시</td><td>2012.02</td><td>NA</td><td>NA</td><td>NA</td></tr>\n",
              "\t<tr><td>세종특별자치시</td><td>2012.03</td><td>NA</td><td>NA</td><td>NA</td></tr>\n",
              "\t<tr><td>세종특별자치시</td><td>2012.04</td><td>NA</td><td>NA</td><td>NA</td></tr>\n",
              "\t<tr><td>세종특별자치시</td><td>2012.05</td><td>NA</td><td>NA</td><td>NA</td></tr>\n",
              "\t<tr><td>세종특별자치시</td><td>2012.06</td><td>NA</td><td>NA</td><td>NA</td></tr>\n",
              "</tbody>\n",
              "</table>\n"
            ],
            "text/markdown": "\nA data.table: 6 × 5\n\n| area &lt;chr&gt; | yyyymm &lt;dbl&gt; | 총인구수 &lt;int&gt; | 남자인구수 &lt;int&gt; | 여자인구수 &lt;int&gt; |\n|---|---|---|---|---|\n| 세종특별자치시 | 2012.01 | NA | NA | NA |\n| 세종특별자치시 | 2012.02 | NA | NA | NA |\n| 세종특별자치시 | 2012.03 | NA | NA | NA |\n| 세종특별자치시 | 2012.04 | NA | NA | NA |\n| 세종특별자치시 | 2012.05 | NA | NA | NA |\n| 세종특별자치시 | 2012.06 | NA | NA | NA |\n\n",
            "text/latex": "A data.table: 6 × 5\n\\begin{tabular}{lllll}\n area & yyyymm & 총인구수 & 남자인구수 & 여자인구수\\\\\n <chr> & <dbl> & <int> & <int> & <int>\\\\\n\\hline\n\t 세종특별자치시 & 2012.01 & NA & NA & NA\\\\\n\t 세종특별자치시 & 2012.02 & NA & NA & NA\\\\\n\t 세종특별자치시 & 2012.03 & NA & NA & NA\\\\\n\t 세종특별자치시 & 2012.04 & NA & NA & NA\\\\\n\t 세종특별자치시 & 2012.05 & NA & NA & NA\\\\\n\t 세종특별자치시 & 2012.06 & NA & NA & NA\\\\\n\\end{tabular}\n",
            "text/plain": [
              "  area           yyyymm  총인구수 남자인구수 여자인구수\n",
              "1 세종특별자치시 2012.01 NA       NA         NA        \n",
              "2 세종특별자치시 2012.02 NA       NA         NA        \n",
              "3 세종특별자치시 2012.03 NA       NA         NA        \n",
              "4 세종특별자치시 2012.04 NA       NA         NA        \n",
              "5 세종특별자치시 2012.05 NA       NA         NA        \n",
              "6 세종특별자치시 2012.06 NA       NA         NA        "
            ]
          },
          "metadata": {}
        }
      ]
    },
    {
      "cell_type": "code",
      "source": [
        "system(\"gdown --id 1NkDEXFpNjYq0emwyuf4NgD-W6kXjhSA0\")\n",
        "hs=fread(\"df_date_month.csv\")\n",
        "hs %>% head\n",
        "#hs %>% filter(area=='세종')\n",
        "hs$area %>% table"
      ],
      "metadata": {
        "colab": {
          "base_uri": "https://localhost:8080/",
          "height": 380
        },
        "id": "OE77CYTYLuJg",
        "outputId": "7ebb1afa-684d-4c2b-c844-3ca5ddcbb670"
      },
      "execution_count": 237,
      "outputs": [
        {
          "output_type": "display_data",
          "data": {
            "text/html": [
              "<table class=\"dataframe\">\n",
              "<caption>A data.table: 6 × 10</caption>\n",
              "<thead>\n",
              "\t<tr><th scope=col>yyyymmdd</th><th scope=col>area</th><th scope=col>sex</th><th scope=col>frequency</th><th scope=col>event</th><th scope=col>year</th><th scope=col>month</th><th scope=col>day</th><th scope=col>yday</th><th scope=col>wday</th></tr>\n",
              "\t<tr><th scope=col>&lt;date&gt;</th><th scope=col>&lt;chr&gt;</th><th scope=col>&lt;int&gt;</th><th scope=col>&lt;int&gt;</th><th scope=col>&lt;int&gt;</th><th scope=col>&lt;int&gt;</th><th scope=col>&lt;chr&gt;</th><th scope=col>&lt;int&gt;</th><th scope=col>&lt;int&gt;</th><th scope=col>&lt;chr&gt;</th></tr>\n",
              "</thead>\n",
              "<tbody>\n",
              "\t<tr><td>2012-01-01</td><td>강원</td><td>1</td><td>3</td><td>1</td><td>2012</td><td>Jan</td><td>1</td><td>1</td><td>Sun</td></tr>\n",
              "\t<tr><td>2012-01-01</td><td>강원</td><td>2</td><td>3</td><td>1</td><td>2012</td><td>Jan</td><td>1</td><td>1</td><td>Sun</td></tr>\n",
              "\t<tr><td>2012-01-01</td><td>경기</td><td>1</td><td>4</td><td>1</td><td>2012</td><td>Jan</td><td>1</td><td>1</td><td>Sun</td></tr>\n",
              "\t<tr><td>2012-01-01</td><td>경기</td><td>2</td><td>5</td><td>1</td><td>2012</td><td>Jan</td><td>1</td><td>1</td><td>Sun</td></tr>\n",
              "\t<tr><td>2012-01-01</td><td>경남</td><td>1</td><td>2</td><td>1</td><td>2012</td><td>Jan</td><td>1</td><td>1</td><td>Sun</td></tr>\n",
              "\t<tr><td>2012-01-01</td><td>경남</td><td>2</td><td>1</td><td>1</td><td>2012</td><td>Jan</td><td>1</td><td>1</td><td>Sun</td></tr>\n",
              "</tbody>\n",
              "</table>\n"
            ],
            "text/markdown": "\nA data.table: 6 × 10\n\n| yyyymmdd &lt;date&gt; | area &lt;chr&gt; | sex &lt;int&gt; | frequency &lt;int&gt; | event &lt;int&gt; | year &lt;int&gt; | month &lt;chr&gt; | day &lt;int&gt; | yday &lt;int&gt; | wday &lt;chr&gt; |\n|---|---|---|---|---|---|---|---|---|---|\n| 2012-01-01 | 강원 | 1 | 3 | 1 | 2012 | Jan | 1 | 1 | Sun |\n| 2012-01-01 | 강원 | 2 | 3 | 1 | 2012 | Jan | 1 | 1 | Sun |\n| 2012-01-01 | 경기 | 1 | 4 | 1 | 2012 | Jan | 1 | 1 | Sun |\n| 2012-01-01 | 경기 | 2 | 5 | 1 | 2012 | Jan | 1 | 1 | Sun |\n| 2012-01-01 | 경남 | 1 | 2 | 1 | 2012 | Jan | 1 | 1 | Sun |\n| 2012-01-01 | 경남 | 2 | 1 | 1 | 2012 | Jan | 1 | 1 | Sun |\n\n",
            "text/latex": "A data.table: 6 × 10\n\\begin{tabular}{llllllllll}\n yyyymmdd & area & sex & frequency & event & year & month & day & yday & wday\\\\\n <date> & <chr> & <int> & <int> & <int> & <int> & <chr> & <int> & <int> & <chr>\\\\\n\\hline\n\t 2012-01-01 & 강원 & 1 & 3 & 1 & 2012 & Jan & 1 & 1 & Sun\\\\\n\t 2012-01-01 & 강원 & 2 & 3 & 1 & 2012 & Jan & 1 & 1 & Sun\\\\\n\t 2012-01-01 & 경기 & 1 & 4 & 1 & 2012 & Jan & 1 & 1 & Sun\\\\\n\t 2012-01-01 & 경기 & 2 & 5 & 1 & 2012 & Jan & 1 & 1 & Sun\\\\\n\t 2012-01-01 & 경남 & 1 & 2 & 1 & 2012 & Jan & 1 & 1 & Sun\\\\\n\t 2012-01-01 & 경남 & 2 & 1 & 1 & 2012 & Jan & 1 & 1 & Sun\\\\\n\\end{tabular}\n",
            "text/plain": [
              "  yyyymmdd   area sex frequency event year month day yday wday\n",
              "1 2012-01-01 강원 1   3         1     2012 Jan   1   1    Sun \n",
              "2 2012-01-01 강원 2   3         1     2012 Jan   1   1    Sun \n",
              "3 2012-01-01 경기 1   4         1     2012 Jan   1   1    Sun \n",
              "4 2012-01-01 경기 2   5         1     2012 Jan   1   1    Sun \n",
              "5 2012-01-01 경남 1   2         1     2012 Jan   1   1    Sun \n",
              "6 2012-01-01 경남 2   1         1     2012 Jan   1   1    Sun "
            ]
          },
          "metadata": {}
        },
        {
          "output_type": "display_data",
          "data": {
            "text/plain": [
              ".\n",
              "강원 경기 경남 경북 광주 대구 대전 부산 서울 세종 울산 인천 전남 전북 제주 충남 \n",
              "2922 2922 2922 2922 2922 2922 2922 2922 2922 2922 2922 2922 2922 2922 2922 2922 \n",
              "충북 \n",
              "2922 "
            ]
          },
          "metadata": {}
        }
      ]
    },
    {
      "cell_type": "code",
      "source": [
        "성별인구수 %>% filter(area=='세종특별자치시', yyyymm\t=='2012.07')"
      ],
      "metadata": {
        "colab": {
          "base_uri": "https://localhost:8080/",
          "height": 129
        },
        "id": "VqynxxOEKS84",
        "outputId": "0140cac4-4beb-4205-8383-6880281f3593"
      },
      "execution_count": 210,
      "outputs": [
        {
          "output_type": "display_data",
          "data": {
            "text/html": [
              "<table class=\"dataframe\">\n",
              "<caption>A data.table: 1 × 5</caption>\n",
              "<thead>\n",
              "\t<tr><th scope=col>area</th><th scope=col>yyyymm</th><th scope=col>총인구수</th><th scope=col>남자인구수</th><th scope=col>여자인구수</th></tr>\n",
              "\t<tr><th scope=col>&lt;chr&gt;</th><th scope=col>&lt;dbl&gt;</th><th scope=col>&lt;int&gt;</th><th scope=col>&lt;int&gt;</th><th scope=col>&lt;int&gt;</th></tr>\n",
              "</thead>\n",
              "<tbody>\n",
              "\t<tr><td>세종특별자치시</td><td>2012.07</td><td>103127</td><td>52624</td><td>50503</td></tr>\n",
              "</tbody>\n",
              "</table>\n"
            ],
            "text/markdown": "\nA data.table: 1 × 5\n\n| area &lt;chr&gt; | yyyymm &lt;dbl&gt; | 총인구수 &lt;int&gt; | 남자인구수 &lt;int&gt; | 여자인구수 &lt;int&gt; |\n|---|---|---|---|---|\n| 세종특별자치시 | 2012.07 | 103127 | 52624 | 50503 |\n\n",
            "text/latex": "A data.table: 1 × 5\n\\begin{tabular}{lllll}\n area & yyyymm & 총인구수 & 남자인구수 & 여자인구수\\\\\n <chr> & <dbl> & <int> & <int> & <int>\\\\\n\\hline\n\t 세종특별자치시 & 2012.07 & 103127 & 52624 & 50503\\\\\n\\end{tabular}\n",
            "text/plain": [
              "  area           yyyymm  총인구수 남자인구수 여자인구수\n",
              "1 세종특별자치시 2012.07 103127   52624      50503     "
            ]
          },
          "metadata": {}
        }
      ]
    },
    {
      "cell_type": "code",
      "source": [
        "성별인구수[is.na(총인구수), 총인구수 :=103127]\n",
        "성별인구수[is.na(남자인구수), 남자인구수 :=52624]\n",
        "성별인구수[is.na(여자인구수), 여자인구수 :=50503]\n",
        "# is.na(성별인구수) %>% sum # 확인"
      ],
      "metadata": {
        "id": "VYsOuBerMseG"
      },
      "execution_count": 211,
      "outputs": []
    },
    {
      "cell_type": "code",
      "source": [
        "성별인구수[, 남자인구비율 := 남자인구수/총인구수*100]\n",
        "성별인구수[, 여자인구비율 := 여자인구수/총인구수*100]"
      ],
      "metadata": {
        "id": "xhoZ09E8NIsR"
      },
      "execution_count": 212,
      "outputs": []
    },
    {
      "cell_type": "code",
      "source": [
        "#지역 인구비율 변수 생성\n",
        "성별인구수 %>% filter(area=='전국') %>%\n",
        "  select(yyyymm, 총인구수) -> 전국"
      ],
      "metadata": {
        "id": "11Trqu8rPGQX"
      },
      "execution_count": 213,
      "outputs": []
    },
    {
      "cell_type": "code",
      "source": [
        "성별인구수 %<>% filter(! area=='전국') "
      ],
      "metadata": {
        "id": "ulVQs-iqQcYu"
      },
      "execution_count": 214,
      "outputs": []
    },
    {
      "cell_type": "code",
      "source": [
        "성별인구수 = merge(성별인구수,전국, by='yyyymm')"
      ],
      "metadata": {
        "id": "VZyg6VyHQph1"
      },
      "execution_count": 215,
      "outputs": []
    },
    {
      "cell_type": "code",
      "source": [
        "head(성별인구수)"
      ],
      "metadata": {
        "colab": {
          "base_uri": "https://localhost:8080/",
          "height": 286
        },
        "id": "LJSNeHfORjT0",
        "outputId": "cc862f16-9b53-4048-d8fe-98d743d09467"
      },
      "execution_count": 216,
      "outputs": [
        {
          "output_type": "display_data",
          "data": {
            "text/html": [
              "<table class=\"dataframe\">\n",
              "<caption>A data.table: 6 × 8</caption>\n",
              "<thead>\n",
              "\t<tr><th scope=col>yyyymm</th><th scope=col>area</th><th scope=col>총인구수.x</th><th scope=col>남자인구수</th><th scope=col>여자인구수</th><th scope=col>남자인구비율</th><th scope=col>여자인구비율</th><th scope=col>총인구수.y</th></tr>\n",
              "\t<tr><th scope=col>&lt;dbl&gt;</th><th scope=col>&lt;chr&gt;</th><th scope=col>&lt;int&gt;</th><th scope=col>&lt;int&gt;</th><th scope=col>&lt;int&gt;</th><th scope=col>&lt;dbl&gt;</th><th scope=col>&lt;dbl&gt;</th><th scope=col>&lt;int&gt;</th></tr>\n",
              "</thead>\n",
              "<tbody>\n",
              "\t<tr><td>2012.01</td><td>서울특별시</td><td>10250134</td><td>5073567</td><td>5176567</td><td>49.49757</td><td>50.50243</td><td>50750837</td></tr>\n",
              "\t<tr><td>2012.01</td><td>부산광역시</td><td> 3549501</td><td>1762043</td><td>1787458</td><td>49.64199</td><td>50.35801</td><td>50750837</td></tr>\n",
              "\t<tr><td>2012.01</td><td>대구광역시</td><td> 2508370</td><td>1251881</td><td>1256489</td><td>49.90815</td><td>50.09185</td><td>50750837</td></tr>\n",
              "\t<tr><td>2012.01</td><td>인천광역시</td><td> 2804287</td><td>1412355</td><td>1391932</td><td>50.36414</td><td>49.63586</td><td>50750837</td></tr>\n",
              "\t<tr><td>2012.01</td><td>광주광역시</td><td> 1465313</td><td> 726529</td><td> 738784</td><td>49.58183</td><td>50.41817</td><td>50750837</td></tr>\n",
              "\t<tr><td>2012.01</td><td>대전광역시</td><td> 1517299</td><td> 759905</td><td> 757394</td><td>50.08275</td><td>49.91725</td><td>50750837</td></tr>\n",
              "</tbody>\n",
              "</table>\n"
            ],
            "text/markdown": "\nA data.table: 6 × 8\n\n| yyyymm &lt;dbl&gt; | area &lt;chr&gt; | 총인구수.x &lt;int&gt; | 남자인구수 &lt;int&gt; | 여자인구수 &lt;int&gt; | 남자인구비율 &lt;dbl&gt; | 여자인구비율 &lt;dbl&gt; | 총인구수.y &lt;int&gt; |\n|---|---|---|---|---|---|---|---|\n| 2012.01 | 서울특별시 | 10250134 | 5073567 | 5176567 | 49.49757 | 50.50243 | 50750837 |\n| 2012.01 | 부산광역시 |  3549501 | 1762043 | 1787458 | 49.64199 | 50.35801 | 50750837 |\n| 2012.01 | 대구광역시 |  2508370 | 1251881 | 1256489 | 49.90815 | 50.09185 | 50750837 |\n| 2012.01 | 인천광역시 |  2804287 | 1412355 | 1391932 | 50.36414 | 49.63586 | 50750837 |\n| 2012.01 | 광주광역시 |  1465313 |  726529 |  738784 | 49.58183 | 50.41817 | 50750837 |\n| 2012.01 | 대전광역시 |  1517299 |  759905 |  757394 | 50.08275 | 49.91725 | 50750837 |\n\n",
            "text/latex": "A data.table: 6 × 8\n\\begin{tabular}{llllllll}\n yyyymm & area & 총인구수.x & 남자인구수 & 여자인구수 & 남자인구비율 & 여자인구비율 & 총인구수.y\\\\\n <dbl> & <chr> & <int> & <int> & <int> & <dbl> & <dbl> & <int>\\\\\n\\hline\n\t 2012.01 & 서울특별시 & 10250134 & 5073567 & 5176567 & 49.49757 & 50.50243 & 50750837\\\\\n\t 2012.01 & 부산광역시 &  3549501 & 1762043 & 1787458 & 49.64199 & 50.35801 & 50750837\\\\\n\t 2012.01 & 대구광역시 &  2508370 & 1251881 & 1256489 & 49.90815 & 50.09185 & 50750837\\\\\n\t 2012.01 & 인천광역시 &  2804287 & 1412355 & 1391932 & 50.36414 & 49.63586 & 50750837\\\\\n\t 2012.01 & 광주광역시 &  1465313 &  726529 &  738784 & 49.58183 & 50.41817 & 50750837\\\\\n\t 2012.01 & 대전광역시 &  1517299 &  759905 &  757394 & 50.08275 & 49.91725 & 50750837\\\\\n\\end{tabular}\n",
            "text/plain": [
              "  yyyymm  area       총인구수.x 남자인구수 여자인구수 남자인구비율 여자인구비율\n",
              "1 2012.01 서울특별시 10250134   5073567    5176567    49.49757     50.50243    \n",
              "2 2012.01 부산광역시  3549501   1762043    1787458    49.64199     50.35801    \n",
              "3 2012.01 대구광역시  2508370   1251881    1256489    49.90815     50.09185    \n",
              "4 2012.01 인천광역시  2804287   1412355    1391932    50.36414     49.63586    \n",
              "5 2012.01 광주광역시  1465313    726529     738784    49.58183     50.41817    \n",
              "6 2012.01 대전광역시  1517299    759905     757394    50.08275     49.91725    \n",
              "  총인구수.y\n",
              "1 50750837  \n",
              "2 50750837  \n",
              "3 50750837  \n",
              "4 50750837  \n",
              "5 50750837  \n",
              "6 50750837  "
            ]
          },
          "metadata": {}
        }
      ]
    },
    {
      "cell_type": "code",
      "source": [
        "성별인구수[, 월별인구비율 := 총인구수.x/총인구수.y*100]"
      ],
      "metadata": {
        "id": "XWQAyL2kRIQ3"
      },
      "execution_count": 219,
      "outputs": []
    },
    {
      "cell_type": "code",
      "source": [
        "성별인구수 %>%head"
      ],
      "metadata": {
        "colab": {
          "base_uri": "https://localhost:8080/",
          "height": 286
        },
        "id": "Rv02eL4iRru9",
        "outputId": "faf69499-517e-4852-d62c-8e2f01215799"
      },
      "execution_count": 220,
      "outputs": [
        {
          "output_type": "display_data",
          "data": {
            "text/html": [
              "<table class=\"dataframe\">\n",
              "<caption>A data.table: 6 × 10</caption>\n",
              "<thead>\n",
              "\t<tr><th scope=col>yyyymm</th><th scope=col>area</th><th scope=col>총인구수.x</th><th scope=col>남자인구수</th><th scope=col>여자인구수</th><th scope=col>남자인구비율</th><th scope=col>여자인구비율</th><th scope=col>총인구수.y</th><th scope=col>인구비율</th><th scope=col>월별인구비율</th></tr>\n",
              "\t<tr><th scope=col>&lt;dbl&gt;</th><th scope=col>&lt;chr&gt;</th><th scope=col>&lt;int&gt;</th><th scope=col>&lt;int&gt;</th><th scope=col>&lt;int&gt;</th><th scope=col>&lt;dbl&gt;</th><th scope=col>&lt;dbl&gt;</th><th scope=col>&lt;int&gt;</th><th scope=col>&lt;dbl&gt;</th><th scope=col>&lt;dbl&gt;</th></tr>\n",
              "</thead>\n",
              "<tbody>\n",
              "\t<tr><td>2012.01</td><td>서울특별시</td><td>10250134</td><td>5073567</td><td>5176567</td><td>49.49757</td><td>50.50243</td><td>50750837</td><td>20.196975</td><td>20.196975</td></tr>\n",
              "\t<tr><td>2012.01</td><td>부산광역시</td><td> 3549501</td><td>1762043</td><td>1787458</td><td>49.64199</td><td>50.35801</td><td>50750837</td><td> 6.993975</td><td> 6.993975</td></tr>\n",
              "\t<tr><td>2012.01</td><td>대구광역시</td><td> 2508370</td><td>1251881</td><td>1256489</td><td>49.90815</td><td>50.09185</td><td>50750837</td><td> 4.942519</td><td> 4.942519</td></tr>\n",
              "\t<tr><td>2012.01</td><td>인천광역시</td><td> 2804287</td><td>1412355</td><td>1391932</td><td>50.36414</td><td>49.63586</td><td>50750837</td><td> 5.525598</td><td> 5.525598</td></tr>\n",
              "\t<tr><td>2012.01</td><td>광주광역시</td><td> 1465313</td><td> 726529</td><td> 738784</td><td>49.58183</td><td>50.41817</td><td>50750837</td><td> 2.887269</td><td> 2.887269</td></tr>\n",
              "\t<tr><td>2012.01</td><td>대전광역시</td><td> 1517299</td><td> 759905</td><td> 757394</td><td>50.08275</td><td>49.91725</td><td>50750837</td><td> 2.989702</td><td> 2.989702</td></tr>\n",
              "</tbody>\n",
              "</table>\n"
            ],
            "text/markdown": "\nA data.table: 6 × 10\n\n| yyyymm &lt;dbl&gt; | area &lt;chr&gt; | 총인구수.x &lt;int&gt; | 남자인구수 &lt;int&gt; | 여자인구수 &lt;int&gt; | 남자인구비율 &lt;dbl&gt; | 여자인구비율 &lt;dbl&gt; | 총인구수.y &lt;int&gt; | 인구비율 &lt;dbl&gt; | 월별인구비율 &lt;dbl&gt; |\n|---|---|---|---|---|---|---|---|---|---|\n| 2012.01 | 서울특별시 | 10250134 | 5073567 | 5176567 | 49.49757 | 50.50243 | 50750837 | 20.196975 | 20.196975 |\n| 2012.01 | 부산광역시 |  3549501 | 1762043 | 1787458 | 49.64199 | 50.35801 | 50750837 |  6.993975 |  6.993975 |\n| 2012.01 | 대구광역시 |  2508370 | 1251881 | 1256489 | 49.90815 | 50.09185 | 50750837 |  4.942519 |  4.942519 |\n| 2012.01 | 인천광역시 |  2804287 | 1412355 | 1391932 | 50.36414 | 49.63586 | 50750837 |  5.525598 |  5.525598 |\n| 2012.01 | 광주광역시 |  1465313 |  726529 |  738784 | 49.58183 | 50.41817 | 50750837 |  2.887269 |  2.887269 |\n| 2012.01 | 대전광역시 |  1517299 |  759905 |  757394 | 50.08275 | 49.91725 | 50750837 |  2.989702 |  2.989702 |\n\n",
            "text/latex": "A data.table: 6 × 10\n\\begin{tabular}{llllllllll}\n yyyymm & area & 총인구수.x & 남자인구수 & 여자인구수 & 남자인구비율 & 여자인구비율 & 총인구수.y & 인구비율 & 월별인구비율\\\\\n <dbl> & <chr> & <int> & <int> & <int> & <dbl> & <dbl> & <int> & <dbl> & <dbl>\\\\\n\\hline\n\t 2012.01 & 서울특별시 & 10250134 & 5073567 & 5176567 & 49.49757 & 50.50243 & 50750837 & 20.196975 & 20.196975\\\\\n\t 2012.01 & 부산광역시 &  3549501 & 1762043 & 1787458 & 49.64199 & 50.35801 & 50750837 &  6.993975 &  6.993975\\\\\n\t 2012.01 & 대구광역시 &  2508370 & 1251881 & 1256489 & 49.90815 & 50.09185 & 50750837 &  4.942519 &  4.942519\\\\\n\t 2012.01 & 인천광역시 &  2804287 & 1412355 & 1391932 & 50.36414 & 49.63586 & 50750837 &  5.525598 &  5.525598\\\\\n\t 2012.01 & 광주광역시 &  1465313 &  726529 &  738784 & 49.58183 & 50.41817 & 50750837 &  2.887269 &  2.887269\\\\\n\t 2012.01 & 대전광역시 &  1517299 &  759905 &  757394 & 50.08275 & 49.91725 & 50750837 &  2.989702 &  2.989702\\\\\n\\end{tabular}\n",
            "text/plain": [
              "  yyyymm  area       총인구수.x 남자인구수 여자인구수 남자인구비율 여자인구비율\n",
              "1 2012.01 서울특별시 10250134   5073567    5176567    49.49757     50.50243    \n",
              "2 2012.01 부산광역시  3549501   1762043    1787458    49.64199     50.35801    \n",
              "3 2012.01 대구광역시  2508370   1251881    1256489    49.90815     50.09185    \n",
              "4 2012.01 인천광역시  2804287   1412355    1391932    50.36414     49.63586    \n",
              "5 2012.01 광주광역시  1465313    726529     738784    49.58183     50.41817    \n",
              "6 2012.01 대전광역시  1517299    759905     757394    50.08275     49.91725    \n",
              "  총인구수.y 인구비율  월별인구비율\n",
              "1 50750837   20.196975 20.196975   \n",
              "2 50750837    6.993975  6.993975   \n",
              "3 50750837    4.942519  4.942519   \n",
              "4 50750837    5.525598  5.525598   \n",
              "5 50750837    2.887269  2.887269   \n",
              "6 50750837    2.989702  2.989702   "
            ]
          },
          "metadata": {}
        }
      ]
    },
    {
      "cell_type": "markdown",
      "source": [
        "# 최종 변수 선택 "
      ],
      "metadata": {
        "id": "ozQTHJ-APN8H"
      }
    },
    {
      "cell_type": "code",
      "source": [
        ""
      ],
      "metadata": {
        "colab": {
          "base_uri": "https://localhost:8080/"
        },
        "id": "Y2sLaO3gSUxt",
        "outputId": "cf3544ae-ad02-4d80-aa2f-822facceaab4"
      },
      "execution_count": 224,
      "outputs": [
        {
          "output_type": "stream",
          "name": "stderr",
          "text": [
            "Loading required package: lubridate\n",
            "\n",
            "\n",
            "Attaching package: ‘lubridate’\n",
            "\n",
            "\n",
            "The following objects are masked from ‘package:data.table’:\n",
            "\n",
            "    hour, isoweek, mday, minute, month, quarter, second, wday, week,\n",
            "    yday, year\n",
            "\n",
            "\n",
            "The following objects are masked from ‘package:base’:\n",
            "\n",
            "    date, intersect, setdiff, union\n",
            "\n",
            "\n"
          ]
        }
      ]
    },
    {
      "cell_type": "code",
      "source": [
        "성별인구수 %>% select(area, yyyymm, 월별인구비율, 남자인구비율,여자인구비율)"
      ],
      "metadata": {
        "colab": {
          "base_uri": "https://localhost:8080/",
          "height": 1000
        },
        "id": "yoGNzFPBPJbp",
        "outputId": "b442b990-8dc0-46be-83f6-24550125f74f"
      },
      "execution_count": 235,
      "outputs": [
        {
          "output_type": "display_data",
          "data": {
            "text/html": [
              "<table class=\"dataframe\">\n",
              "<caption>A data.table: 1020 × 5</caption>\n",
              "<thead>\n",
              "\t<tr><th scope=col>area</th><th scope=col>yyyymm</th><th scope=col>월별인구비율</th><th scope=col>남자인구비율</th><th scope=col>여자인구비율</th></tr>\n",
              "\t<tr><th scope=col>&lt;chr&gt;</th><th scope=col>&lt;dbl&gt;</th><th scope=col>&lt;dbl&gt;</th><th scope=col>&lt;dbl&gt;</th><th scope=col>&lt;dbl&gt;</th></tr>\n",
              "</thead>\n",
              "<tbody>\n",
              "\t<tr><td>서울특별시    </td><td>2012.01</td><td>20.1969753</td><td>49.49757</td><td>50.50243</td></tr>\n",
              "\t<tr><td>부산광역시    </td><td>2012.01</td><td> 6.9939753</td><td>49.64199</td><td>50.35801</td></tr>\n",
              "\t<tr><td>대구광역시    </td><td>2012.01</td><td> 4.9425195</td><td>49.90815</td><td>50.09185</td></tr>\n",
              "\t<tr><td>인천광역시    </td><td>2012.01</td><td> 5.5255975</td><td>50.36414</td><td>49.63586</td></tr>\n",
              "\t<tr><td>광주광역시    </td><td>2012.01</td><td> 2.8872686</td><td>49.58183</td><td>50.41817</td></tr>\n",
              "\t<tr><td>대전광역시    </td><td>2012.01</td><td> 2.9897024</td><td>50.08275</td><td>49.91725</td></tr>\n",
              "\t<tr><td>울산광역시    </td><td>2012.01</td><td> 2.2393010</td><td>51.41465</td><td>48.58535</td></tr>\n",
              "\t<tr><td>세종특별자치시</td><td>2012.01</td><td> 0.2032026</td><td>51.02834</td><td>48.97166</td></tr>\n",
              "\t<tr><td>경기도        </td><td>2012.01</td><td>23.5436432</td><td>50.38622</td><td>49.61378</td></tr>\n",
              "\t<tr><td>강원도        </td><td>2012.01</td><td> 3.0252407</td><td>50.32895</td><td>49.67105</td></tr>\n",
              "\t<tr><td>충청북도      </td><td>2012.01</td><td> 3.0797975</td><td>50.42325</td><td>49.57675</td></tr>\n",
              "\t<tr><td>충청남도      </td><td>2012.01</td><td> 4.1440282</td><td>50.59186</td><td>49.40814</td></tr>\n",
              "\t<tr><td>전라북도      </td><td>2012.01</td><td> 3.6915470</td><td>49.84145</td><td>50.15855</td></tr>\n",
              "\t<tr><td>전라남도      </td><td>2012.01</td><td> 3.7688541</td><td>49.98230</td><td>50.01770</td></tr>\n",
              "\t<tr><td>경상북도      </td><td>2012.01</td><td> 5.3144030</td><td>50.22606</td><td>49.77394</td></tr>\n",
              "\t<tr><td>경상남도      </td><td>2012.01</td><td> 6.5211910</td><td>50.31812</td><td>49.68188</td></tr>\n",
              "\t<tr><td>제주특별자치도</td><td>2012.01</td><td> 1.1359556</td><td>50.02160</td><td>49.97840</td></tr>\n",
              "\t<tr><td>서울특별시    </td><td>2012.02</td><td>20.1927114</td><td>49.49234</td><td>50.50766</td></tr>\n",
              "\t<tr><td>부산광역시    </td><td>2012.02</td><td> 6.9900095</td><td>49.63772</td><td>50.36228</td></tr>\n",
              "\t<tr><td>대구광역시    </td><td>2012.02</td><td> 4.9412956</td><td>49.90168</td><td>50.09832</td></tr>\n",
              "\t<tr><td>인천광역시    </td><td>2012.02</td><td> 5.5316814</td><td>50.36371</td><td>49.63629</td></tr>\n",
              "\t<tr><td>광주광역시    </td><td>2012.02</td><td> 2.8887012</td><td>49.57955</td><td>50.42045</td></tr>\n",
              "\t<tr><td>대전광역시    </td><td>2012.02</td><td> 2.9913953</td><td>50.08024</td><td>49.91976</td></tr>\n",
              "\t<tr><td>울산광역시    </td><td>2012.02</td><td> 2.2395276</td><td>51.42680</td><td>48.57320</td></tr>\n",
              "\t<tr><td>세종특별자치시</td><td>2012.02</td><td> 0.2031366</td><td>51.02834</td><td>48.97166</td></tr>\n",
              "\t<tr><td>경기도        </td><td>2012.02</td><td>23.5613829</td><td>50.38528</td><td>49.61472</td></tr>\n",
              "\t<tr><td>강원도        </td><td>2012.02</td><td> 3.0222399</td><td>50.32588</td><td>49.67412</td></tr>\n",
              "\t<tr><td>충청북도      </td><td>2012.02</td><td> 3.0789319</td><td>50.42118</td><td>49.57882</td></tr>\n",
              "\t<tr><td>충청남도      </td><td>2012.02</td><td> 4.1487778</td><td>50.59735</td><td>49.40265</td></tr>\n",
              "\t<tr><td>전라북도      </td><td>2012.02</td><td> 3.6892498</td><td>49.84679</td><td>50.15321</td></tr>\n",
              "\t<tr><td>⋮</td><td>⋮</td><td>⋮</td><td>⋮</td><td>⋮</td></tr>\n",
              "\t<tr><td>광주광역시    </td><td>2016.11</td><td> 2.8466821</td><td>49.56245</td><td>50.43755</td></tr>\n",
              "\t<tr><td>대전광역시    </td><td>2016.11</td><td> 2.9318281</td><td>50.01353</td><td>49.98647</td></tr>\n",
              "\t<tr><td>울산광역시    </td><td>2016.11</td><td> 2.2691886</td><td>51.50683</td><td>48.49317</td></tr>\n",
              "\t<tr><td>세종특별자치시</td><td>2016.11</td><td> 0.4654107</td><td>50.02619</td><td>49.97381</td></tr>\n",
              "\t<tr><td>경기도        </td><td>2016.11</td><td>24.5704963</td><td>50.29479</td><td>49.70521</td></tr>\n",
              "\t<tr><td>강원도        </td><td>2016.11</td><td> 2.9991846</td><td>50.37540</td><td>49.62460</td></tr>\n",
              "\t<tr><td>충청북도      </td><td>2016.11</td><td> 3.0772071</td><td>50.46572</td><td>49.53428</td></tr>\n",
              "\t<tr><td>충청남도      </td><td>2016.11</td><td> 4.0509420</td><td>50.77575</td><td>49.22425</td></tr>\n",
              "\t<tr><td>전라북도      </td><td>2016.11</td><td> 3.6071941</td><td>49.74376</td><td>50.25624</td></tr>\n",
              "\t<tr><td>전라남도      </td><td>2016.11</td><td> 3.6802966</td><td>49.98391</td><td>50.01609</td></tr>\n",
              "\t<tr><td>경상북도      </td><td>2016.11</td><td> 5.2253127</td><td>50.24105</td><td>49.75895</td></tr>\n",
              "\t<tr><td>경상남도      </td><td>2016.11</td><td> 6.5232776</td><td>50.36523</td><td>49.63477</td></tr>\n",
              "\t<tr><td>제주특별자치도</td><td>2016.11</td><td> 1.2391502</td><td>50.27198</td><td>49.72802</td></tr>\n",
              "\t<tr><td>서울특별시    </td><td>2016.12</td><td>19.2095607</td><td>49.10863</td><td>50.89137</td></tr>\n",
              "\t<tr><td>부산광역시    </td><td>2016.12</td><td> 6.7674760</td><td>49.32379</td><td>50.67621</td></tr>\n",
              "\t<tr><td>대구광역시    </td><td>2016.12</td><td> 4.8060713</td><td>49.67360</td><td>50.32640</td></tr>\n",
              "\t<tr><td>인천광역시    </td><td>2016.12</td><td> 5.6930066</td><td>50.20851</td><td>49.79149</td></tr>\n",
              "\t<tr><td>광주광역시    </td><td>2016.12</td><td> 2.8420146</td><td>49.55963</td><td>50.44037</td></tr>\n",
              "\t<tr><td>대전광역시    </td><td>2016.12</td><td> 2.9293633</td><td>50.00687</td><td>49.99313</td></tr>\n",
              "\t<tr><td>울산광역시    </td><td>2016.12</td><td> 2.2676785</td><td>51.50516</td><td>48.49484</td></tr>\n",
              "\t<tr><td>세종특별자치시</td><td>2016.12</td><td> 0.4701466</td><td>49.99218</td><td>50.00782</td></tr>\n",
              "\t<tr><td>경기도        </td><td>2016.12</td><td>24.5990538</td><td>50.29145</td><td>49.70855</td></tr>\n",
              "\t<tr><td>강원도        </td><td>2016.12</td><td> 2.9998443</td><td>50.37032</td><td>49.62968</td></tr>\n",
              "\t<tr><td>충청북도      </td><td>2016.12</td><td> 3.0788037</td><td>50.46666</td><td>49.53334</td></tr>\n",
              "\t<tr><td>충청남도      </td><td>2016.12</td><td> 4.0558617</td><td>50.78224</td><td>49.21776</td></tr>\n",
              "\t<tr><td>전라북도      </td><td>2016.12</td><td> 3.6072099</td><td>49.73775</td><td>50.26225</td></tr>\n",
              "\t<tr><td>전라남도      </td><td>2016.12</td><td> 3.6828885</td><td>49.99643</td><td>50.00357</td></tr>\n",
              "\t<tr><td>경상북도      </td><td>2016.12</td><td> 5.2235893</td><td>50.24696</td><td>49.75304</td></tr>\n",
              "\t<tr><td>경상남도      </td><td>2016.12</td><td> 6.5263403</td><td>50.36408</td><td>49.63592</td></tr>\n",
              "\t<tr><td>제주특별자치도</td><td>2016.12</td><td> 1.2410908</td><td>50.27221</td><td>49.72779</td></tr>\n",
              "</tbody>\n",
              "</table>\n"
            ],
            "text/markdown": "\nA data.table: 1020 × 5\n\n| area &lt;chr&gt; | yyyymm &lt;dbl&gt; | 월별인구비율 &lt;dbl&gt; | 남자인구비율 &lt;dbl&gt; | 여자인구비율 &lt;dbl&gt; |\n|---|---|---|---|---|\n| 서울특별시     | 2012.01 | 20.1969753 | 49.49757 | 50.50243 |\n| 부산광역시     | 2012.01 |  6.9939753 | 49.64199 | 50.35801 |\n| 대구광역시     | 2012.01 |  4.9425195 | 49.90815 | 50.09185 |\n| 인천광역시     | 2012.01 |  5.5255975 | 50.36414 | 49.63586 |\n| 광주광역시     | 2012.01 |  2.8872686 | 49.58183 | 50.41817 |\n| 대전광역시     | 2012.01 |  2.9897024 | 50.08275 | 49.91725 |\n| 울산광역시     | 2012.01 |  2.2393010 | 51.41465 | 48.58535 |\n| 세종특별자치시 | 2012.01 |  0.2032026 | 51.02834 | 48.97166 |\n| 경기도         | 2012.01 | 23.5436432 | 50.38622 | 49.61378 |\n| 강원도         | 2012.01 |  3.0252407 | 50.32895 | 49.67105 |\n| 충청북도       | 2012.01 |  3.0797975 | 50.42325 | 49.57675 |\n| 충청남도       | 2012.01 |  4.1440282 | 50.59186 | 49.40814 |\n| 전라북도       | 2012.01 |  3.6915470 | 49.84145 | 50.15855 |\n| 전라남도       | 2012.01 |  3.7688541 | 49.98230 | 50.01770 |\n| 경상북도       | 2012.01 |  5.3144030 | 50.22606 | 49.77394 |\n| 경상남도       | 2012.01 |  6.5211910 | 50.31812 | 49.68188 |\n| 제주특별자치도 | 2012.01 |  1.1359556 | 50.02160 | 49.97840 |\n| 서울특별시     | 2012.02 | 20.1927114 | 49.49234 | 50.50766 |\n| 부산광역시     | 2012.02 |  6.9900095 | 49.63772 | 50.36228 |\n| 대구광역시     | 2012.02 |  4.9412956 | 49.90168 | 50.09832 |\n| 인천광역시     | 2012.02 |  5.5316814 | 50.36371 | 49.63629 |\n| 광주광역시     | 2012.02 |  2.8887012 | 49.57955 | 50.42045 |\n| 대전광역시     | 2012.02 |  2.9913953 | 50.08024 | 49.91976 |\n| 울산광역시     | 2012.02 |  2.2395276 | 51.42680 | 48.57320 |\n| 세종특별자치시 | 2012.02 |  0.2031366 | 51.02834 | 48.97166 |\n| 경기도         | 2012.02 | 23.5613829 | 50.38528 | 49.61472 |\n| 강원도         | 2012.02 |  3.0222399 | 50.32588 | 49.67412 |\n| 충청북도       | 2012.02 |  3.0789319 | 50.42118 | 49.57882 |\n| 충청남도       | 2012.02 |  4.1487778 | 50.59735 | 49.40265 |\n| 전라북도       | 2012.02 |  3.6892498 | 49.84679 | 50.15321 |\n| ⋮ | ⋮ | ⋮ | ⋮ | ⋮ |\n| 광주광역시     | 2016.11 |  2.8466821 | 49.56245 | 50.43755 |\n| 대전광역시     | 2016.11 |  2.9318281 | 50.01353 | 49.98647 |\n| 울산광역시     | 2016.11 |  2.2691886 | 51.50683 | 48.49317 |\n| 세종특별자치시 | 2016.11 |  0.4654107 | 50.02619 | 49.97381 |\n| 경기도         | 2016.11 | 24.5704963 | 50.29479 | 49.70521 |\n| 강원도         | 2016.11 |  2.9991846 | 50.37540 | 49.62460 |\n| 충청북도       | 2016.11 |  3.0772071 | 50.46572 | 49.53428 |\n| 충청남도       | 2016.11 |  4.0509420 | 50.77575 | 49.22425 |\n| 전라북도       | 2016.11 |  3.6071941 | 49.74376 | 50.25624 |\n| 전라남도       | 2016.11 |  3.6802966 | 49.98391 | 50.01609 |\n| 경상북도       | 2016.11 |  5.2253127 | 50.24105 | 49.75895 |\n| 경상남도       | 2016.11 |  6.5232776 | 50.36523 | 49.63477 |\n| 제주특별자치도 | 2016.11 |  1.2391502 | 50.27198 | 49.72802 |\n| 서울특별시     | 2016.12 | 19.2095607 | 49.10863 | 50.89137 |\n| 부산광역시     | 2016.12 |  6.7674760 | 49.32379 | 50.67621 |\n| 대구광역시     | 2016.12 |  4.8060713 | 49.67360 | 50.32640 |\n| 인천광역시     | 2016.12 |  5.6930066 | 50.20851 | 49.79149 |\n| 광주광역시     | 2016.12 |  2.8420146 | 49.55963 | 50.44037 |\n| 대전광역시     | 2016.12 |  2.9293633 | 50.00687 | 49.99313 |\n| 울산광역시     | 2016.12 |  2.2676785 | 51.50516 | 48.49484 |\n| 세종특별자치시 | 2016.12 |  0.4701466 | 49.99218 | 50.00782 |\n| 경기도         | 2016.12 | 24.5990538 | 50.29145 | 49.70855 |\n| 강원도         | 2016.12 |  2.9998443 | 50.37032 | 49.62968 |\n| 충청북도       | 2016.12 |  3.0788037 | 50.46666 | 49.53334 |\n| 충청남도       | 2016.12 |  4.0558617 | 50.78224 | 49.21776 |\n| 전라북도       | 2016.12 |  3.6072099 | 49.73775 | 50.26225 |\n| 전라남도       | 2016.12 |  3.6828885 | 49.99643 | 50.00357 |\n| 경상북도       | 2016.12 |  5.2235893 | 50.24696 | 49.75304 |\n| 경상남도       | 2016.12 |  6.5263403 | 50.36408 | 49.63592 |\n| 제주특별자치도 | 2016.12 |  1.2410908 | 50.27221 | 49.72779 |\n\n",
            "text/latex": "A data.table: 1020 × 5\n\\begin{tabular}{lllll}\n area & yyyymm & 월별인구비율 & 남자인구비율 & 여자인구비율\\\\\n <chr> & <dbl> & <dbl> & <dbl> & <dbl>\\\\\n\\hline\n\t 서울특별시     & 2012.01 & 20.1969753 & 49.49757 & 50.50243\\\\\n\t 부산광역시     & 2012.01 &  6.9939753 & 49.64199 & 50.35801\\\\\n\t 대구광역시     & 2012.01 &  4.9425195 & 49.90815 & 50.09185\\\\\n\t 인천광역시     & 2012.01 &  5.5255975 & 50.36414 & 49.63586\\\\\n\t 광주광역시     & 2012.01 &  2.8872686 & 49.58183 & 50.41817\\\\\n\t 대전광역시     & 2012.01 &  2.9897024 & 50.08275 & 49.91725\\\\\n\t 울산광역시     & 2012.01 &  2.2393010 & 51.41465 & 48.58535\\\\\n\t 세종특별자치시 & 2012.01 &  0.2032026 & 51.02834 & 48.97166\\\\\n\t 경기도         & 2012.01 & 23.5436432 & 50.38622 & 49.61378\\\\\n\t 강원도         & 2012.01 &  3.0252407 & 50.32895 & 49.67105\\\\\n\t 충청북도       & 2012.01 &  3.0797975 & 50.42325 & 49.57675\\\\\n\t 충청남도       & 2012.01 &  4.1440282 & 50.59186 & 49.40814\\\\\n\t 전라북도       & 2012.01 &  3.6915470 & 49.84145 & 50.15855\\\\\n\t 전라남도       & 2012.01 &  3.7688541 & 49.98230 & 50.01770\\\\\n\t 경상북도       & 2012.01 &  5.3144030 & 50.22606 & 49.77394\\\\\n\t 경상남도       & 2012.01 &  6.5211910 & 50.31812 & 49.68188\\\\\n\t 제주특별자치도 & 2012.01 &  1.1359556 & 50.02160 & 49.97840\\\\\n\t 서울특별시     & 2012.02 & 20.1927114 & 49.49234 & 50.50766\\\\\n\t 부산광역시     & 2012.02 &  6.9900095 & 49.63772 & 50.36228\\\\\n\t 대구광역시     & 2012.02 &  4.9412956 & 49.90168 & 50.09832\\\\\n\t 인천광역시     & 2012.02 &  5.5316814 & 50.36371 & 49.63629\\\\\n\t 광주광역시     & 2012.02 &  2.8887012 & 49.57955 & 50.42045\\\\\n\t 대전광역시     & 2012.02 &  2.9913953 & 50.08024 & 49.91976\\\\\n\t 울산광역시     & 2012.02 &  2.2395276 & 51.42680 & 48.57320\\\\\n\t 세종특별자치시 & 2012.02 &  0.2031366 & 51.02834 & 48.97166\\\\\n\t 경기도         & 2012.02 & 23.5613829 & 50.38528 & 49.61472\\\\\n\t 강원도         & 2012.02 &  3.0222399 & 50.32588 & 49.67412\\\\\n\t 충청북도       & 2012.02 &  3.0789319 & 50.42118 & 49.57882\\\\\n\t 충청남도       & 2012.02 &  4.1487778 & 50.59735 & 49.40265\\\\\n\t 전라북도       & 2012.02 &  3.6892498 & 49.84679 & 50.15321\\\\\n\t ⋮ & ⋮ & ⋮ & ⋮ & ⋮\\\\\n\t 광주광역시     & 2016.11 &  2.8466821 & 49.56245 & 50.43755\\\\\n\t 대전광역시     & 2016.11 &  2.9318281 & 50.01353 & 49.98647\\\\\n\t 울산광역시     & 2016.11 &  2.2691886 & 51.50683 & 48.49317\\\\\n\t 세종특별자치시 & 2016.11 &  0.4654107 & 50.02619 & 49.97381\\\\\n\t 경기도         & 2016.11 & 24.5704963 & 50.29479 & 49.70521\\\\\n\t 강원도         & 2016.11 &  2.9991846 & 50.37540 & 49.62460\\\\\n\t 충청북도       & 2016.11 &  3.0772071 & 50.46572 & 49.53428\\\\\n\t 충청남도       & 2016.11 &  4.0509420 & 50.77575 & 49.22425\\\\\n\t 전라북도       & 2016.11 &  3.6071941 & 49.74376 & 50.25624\\\\\n\t 전라남도       & 2016.11 &  3.6802966 & 49.98391 & 50.01609\\\\\n\t 경상북도       & 2016.11 &  5.2253127 & 50.24105 & 49.75895\\\\\n\t 경상남도       & 2016.11 &  6.5232776 & 50.36523 & 49.63477\\\\\n\t 제주특별자치도 & 2016.11 &  1.2391502 & 50.27198 & 49.72802\\\\\n\t 서울특별시     & 2016.12 & 19.2095607 & 49.10863 & 50.89137\\\\\n\t 부산광역시     & 2016.12 &  6.7674760 & 49.32379 & 50.67621\\\\\n\t 대구광역시     & 2016.12 &  4.8060713 & 49.67360 & 50.32640\\\\\n\t 인천광역시     & 2016.12 &  5.6930066 & 50.20851 & 49.79149\\\\\n\t 광주광역시     & 2016.12 &  2.8420146 & 49.55963 & 50.44037\\\\\n\t 대전광역시     & 2016.12 &  2.9293633 & 50.00687 & 49.99313\\\\\n\t 울산광역시     & 2016.12 &  2.2676785 & 51.50516 & 48.49484\\\\\n\t 세종특별자치시 & 2016.12 &  0.4701466 & 49.99218 & 50.00782\\\\\n\t 경기도         & 2016.12 & 24.5990538 & 50.29145 & 49.70855\\\\\n\t 강원도         & 2016.12 &  2.9998443 & 50.37032 & 49.62968\\\\\n\t 충청북도       & 2016.12 &  3.0788037 & 50.46666 & 49.53334\\\\\n\t 충청남도       & 2016.12 &  4.0558617 & 50.78224 & 49.21776\\\\\n\t 전라북도       & 2016.12 &  3.6072099 & 49.73775 & 50.26225\\\\\n\t 전라남도       & 2016.12 &  3.6828885 & 49.99643 & 50.00357\\\\\n\t 경상북도       & 2016.12 &  5.2235893 & 50.24696 & 49.75304\\\\\n\t 경상남도       & 2016.12 &  6.5263403 & 50.36408 & 49.63592\\\\\n\t 제주특별자치도 & 2016.12 &  1.2410908 & 50.27221 & 49.72779\\\\\n\\end{tabular}\n",
            "text/plain": [
              "     area           yyyymm  월별인구비율 남자인구비율 여자인구비율\n",
              "1    서울특별시     2012.01 20.1969753   49.49757     50.50243    \n",
              "2    부산광역시     2012.01  6.9939753   49.64199     50.35801    \n",
              "3    대구광역시     2012.01  4.9425195   49.90815     50.09185    \n",
              "4    인천광역시     2012.01  5.5255975   50.36414     49.63586    \n",
              "5    광주광역시     2012.01  2.8872686   49.58183     50.41817    \n",
              "6    대전광역시     2012.01  2.9897024   50.08275     49.91725    \n",
              "7    울산광역시     2012.01  2.2393010   51.41465     48.58535    \n",
              "8    세종특별자치시 2012.01  0.2032026   51.02834     48.97166    \n",
              "9    경기도         2012.01 23.5436432   50.38622     49.61378    \n",
              "10   강원도         2012.01  3.0252407   50.32895     49.67105    \n",
              "11   충청북도       2012.01  3.0797975   50.42325     49.57675    \n",
              "12   충청남도       2012.01  4.1440282   50.59186     49.40814    \n",
              "13   전라북도       2012.01  3.6915470   49.84145     50.15855    \n",
              "14   전라남도       2012.01  3.7688541   49.98230     50.01770    \n",
              "15   경상북도       2012.01  5.3144030   50.22606     49.77394    \n",
              "16   경상남도       2012.01  6.5211910   50.31812     49.68188    \n",
              "17   제주특별자치도 2012.01  1.1359556   50.02160     49.97840    \n",
              "18   서울특별시     2012.02 20.1927114   49.49234     50.50766    \n",
              "19   부산광역시     2012.02  6.9900095   49.63772     50.36228    \n",
              "20   대구광역시     2012.02  4.9412956   49.90168     50.09832    \n",
              "21   인천광역시     2012.02  5.5316814   50.36371     49.63629    \n",
              "22   광주광역시     2012.02  2.8887012   49.57955     50.42045    \n",
              "23   대전광역시     2012.02  2.9913953   50.08024     49.91976    \n",
              "24   울산광역시     2012.02  2.2395276   51.42680     48.57320    \n",
              "25   세종특별자치시 2012.02  0.2031366   51.02834     48.97166    \n",
              "26   경기도         2012.02 23.5613829   50.38528     49.61472    \n",
              "27   강원도         2012.02  3.0222399   50.32588     49.67412    \n",
              "28   충청북도       2012.02  3.0789319   50.42118     49.57882    \n",
              "29   충청남도       2012.02  4.1487778   50.59735     49.40265    \n",
              "30   전라북도       2012.02  3.6892498   49.84679     50.15321    \n",
              "⋮    ⋮              ⋮       ⋮            ⋮            ⋮           \n",
              "991  광주광역시     2016.11  2.8466821   49.56245     50.43755    \n",
              "992  대전광역시     2016.11  2.9318281   50.01353     49.98647    \n",
              "993  울산광역시     2016.11  2.2691886   51.50683     48.49317    \n",
              "994  세종특별자치시 2016.11  0.4654107   50.02619     49.97381    \n",
              "995  경기도         2016.11 24.5704963   50.29479     49.70521    \n",
              "996  강원도         2016.11  2.9991846   50.37540     49.62460    \n",
              "997  충청북도       2016.11  3.0772071   50.46572     49.53428    \n",
              "998  충청남도       2016.11  4.0509420   50.77575     49.22425    \n",
              "999  전라북도       2016.11  3.6071941   49.74376     50.25624    \n",
              "1000 전라남도       2016.11  3.6802966   49.98391     50.01609    \n",
              "1001 경상북도       2016.11  5.2253127   50.24105     49.75895    \n",
              "1002 경상남도       2016.11  6.5232776   50.36523     49.63477    \n",
              "1003 제주특별자치도 2016.11  1.2391502   50.27198     49.72802    \n",
              "1004 서울특별시     2016.12 19.2095607   49.10863     50.89137    \n",
              "1005 부산광역시     2016.12  6.7674760   49.32379     50.67621    \n",
              "1006 대구광역시     2016.12  4.8060713   49.67360     50.32640    \n",
              "1007 인천광역시     2016.12  5.6930066   50.20851     49.79149    \n",
              "1008 광주광역시     2016.12  2.8420146   49.55963     50.44037    \n",
              "1009 대전광역시     2016.12  2.9293633   50.00687     49.99313    \n",
              "1010 울산광역시     2016.12  2.2676785   51.50516     48.49484    \n",
              "1011 세종특별자치시 2016.12  0.4701466   49.99218     50.00782    \n",
              "1012 경기도         2016.12 24.5990538   50.29145     49.70855    \n",
              "1013 강원도         2016.12  2.9998443   50.37032     49.62968    \n",
              "1014 충청북도       2016.12  3.0788037   50.46666     49.53334    \n",
              "1015 충청남도       2016.12  4.0558617   50.78224     49.21776    \n",
              "1016 전라북도       2016.12  3.6072099   49.73775     50.26225    \n",
              "1017 전라남도       2016.12  3.6828885   49.99643     50.00357    \n",
              "1018 경상북도       2016.12  5.2235893   50.24696     49.75304    \n",
              "1019 경상남도       2016.12  6.5263403   50.36408     49.63592    \n",
              "1020 제주특별자치도 2016.12  1.2410908   50.27221     49.72779    "
            ]
          },
          "metadata": {}
        }
      ]
    },
    {
      "cell_type": "code",
      "source": [
        "# area 변수 맞추기\n",
        "#1. 앞에 세글자 파싱해서\n",
        "#2. ex. 경상북 -> 경북\n",
        "#3. 앞에 두글자 파싱\n"
      ],
      "metadata": {
        "id": "bRHp5oFmTQNV"
      },
      "execution_count": null,
      "outputs": []
    },
    {
      "cell_type": "code",
      "source": [
        "# year, month 변수 만들기\n"
      ],
      "metadata": {
        "id": "ObbD5bH_Tw2e"
      },
      "execution_count": null,
      "outputs": []
    }
  ]
}