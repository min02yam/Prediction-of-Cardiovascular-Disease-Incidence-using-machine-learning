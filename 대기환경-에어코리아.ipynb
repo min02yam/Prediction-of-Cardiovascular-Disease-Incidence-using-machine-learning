{
  "nbformat": 4,
  "nbformat_minor": 0,
  "metadata": {
    "colab": {
      "name": "Untitled24.ipynb",
      "provenance": [],
      "authorship_tag": "ABX9TyOvvXzIK8fK9ZdmlCBVXXbh",
      "include_colab_link": true
    },
    "kernelspec": {
      "name": "ir",
      "display_name": "R"
    },
    "language_info": {
      "name": "R"
    },
    "accelerator": "GPU",
    "gpuClass": "standard"
  },
  "cells": [
    {
      "cell_type": "markdown",
      "metadata": {
        "id": "view-in-github",
        "colab_type": "text"
      },
      "source": [
        "<a href=\"https://colab.research.google.com/github/min02yam/wether/blob/main/%EB%8C%80%EA%B8%B0%ED%99%98%EA%B2%BD-%EC%97%90%EC%96%B4%EC%BD%94%EB%A6%AC%EC%95%84.ipynb\" target=\"_parent\"><img src=\"https://colab.research.google.com/assets/colab-badge.svg\" alt=\"Open In Colab\"/></a>"
      ]
    },
    {
      "cell_type": "markdown",
      "source": [
        "대기환경-에어코리아"
      ],
      "metadata": {
        "id": "3jhHomlwhuzG"
      }
    },
    {
      "cell_type": "code",
      "source": [
        ""
      ],
      "metadata": {
        "id": "YdsRFytoh8PC"
      },
      "execution_count": null,
      "outputs": []
    },
    {
      "cell_type": "code",
      "source": [
        ""
      ],
      "metadata": {
        "id": "ky_Dj_YAhuK2"
      },
      "execution_count": null,
      "outputs": []
    },
    {
      "cell_type": "markdown",
      "source": [
        "# 0.라이브러리 로드"
      ],
      "metadata": {
        "id": "BIERRJM7c3QW"
      }
    },
    {
      "cell_type": "code",
      "source": [
        "suppressPackageStartupMessages({\n",
        "  require(tidyverse)\n",
        "  require(magrittr)\n",
        "  require(readxl)\n",
        "  require(data.table)\n",
        "})"
      ],
      "metadata": {
        "id": "nA40pLmzHmCc"
      },
      "execution_count": null,
      "outputs": []
    },
    {
      "cell_type": "code",
      "source": [
        "system(\"gdown --id 1khiBYDV5FzHSKvPWB4hvfq3lN_EjHhG2\") # 2012-1\n",
        "system(\"gdown --id 1mrRLvBhz7rgGEPNioyKW1gxGypiKSKat\") # 2012-2\n",
        "system(\"gdown --id 1LpvGp08DMzDtRJHJUJruFgUxtDWFOWeK\") # 2012-3\n",
        "system(\"gdown --id 10yG9YEiXw0DgI8jzoaJOFnZ7Du5El5Ci\") # 2012-4\n",
        "\n",
        "system(\"gdown --id 1hKeGg9W1OXS4d-gOcw-pht9Rb6K6Acve\") # 2013-1\n",
        "system(\"gdown --id 1D4-r4vbfVIh9DkhpUVw8Ski9v0AHZhUC\") # 2013-2\n",
        "system(\"gdown --id 163uVcfJV8pa3qfF1mJN7pPHbo1OBngAl\") # 2013-3\n",
        "system(\"gdown --id 1k-V39nw5B72rF--FAZZp3fE815diNBqF\") # 2013-4\n",
        "\n",
        "\n",
        "\n"
      ],
      "metadata": {
        "id": "WebdMMyrfI8Q"
      },
      "execution_count": null,
      "outputs": []
    },
    {
      "cell_type": "code",
      "source": [
        "dt201201= read_excel(\"2012년01분기.xlsx\")"
      ],
      "metadata": {
        "id": "e5NozZJXfYTN"
      },
      "execution_count": null,
      "outputs": []
    },
    {
      "cell_type": "code",
      "source": [
        "install.packages(\"readxl\")\n",
        "library(readxl)"
      ],
      "metadata": {
        "colab": {
          "base_uri": "https://localhost:8080/"
        },
        "id": "DhqBe9f3ffMA",
        "outputId": "946e52d0-ef21-47cd-c3d3-e8876a6bde73"
      },
      "execution_count": null,
      "outputs": [
        {
          "output_type": "stream",
          "name": "stderr",
          "text": [
            "Installing package into ‘/usr/local/lib/R/site-library’\n",
            "(as ‘lib’ is unspecified)\n",
            "\n"
          ]
        }
      ]
    },
    {
      "cell_type": "code",
      "source": [
        "dt201201 %>% head"
      ],
      "metadata": {
        "id": "vzhbOorNfrKN",
        "colab": {
          "base_uri": "https://localhost:8080/",
          "height": 286
        },
        "outputId": "2c29e660-b0eb-4a31-adf1-9043c8ec6702"
      },
      "execution_count": null,
      "outputs": [
        {
          "output_type": "display_data",
          "data": {
            "text/html": [
              "<table class=\"dataframe\">\n",
              "<caption>A tibble: 6 × 10</caption>\n",
              "<thead>\n",
              "\t<tr><th scope=col>지역</th><th scope=col>측정소명</th><th scope=col>측정소코드</th><th scope=col>측정일시</th><th scope=col>SO2</th><th scope=col>CO</th><th scope=col>O3</th><th scope=col>NO2</th><th scope=col>PM10</th><th scope=col>주소</th></tr>\n",
              "\t<tr><th scope=col>&lt;chr&gt;</th><th scope=col>&lt;chr&gt;</th><th scope=col>&lt;chr&gt;</th><th scope=col>&lt;chr&gt;</th><th scope=col>&lt;chr&gt;</th><th scope=col>&lt;chr&gt;</th><th scope=col>&lt;chr&gt;</th><th scope=col>&lt;chr&gt;</th><th scope=col>&lt;chr&gt;</th><th scope=col>&lt;chr&gt;</th></tr>\n",
              "</thead>\n",
              "<tbody>\n",
              "\t<tr><td>서울</td><td>중구</td><td>111121</td><td>2012010101</td><td>0.011</td><td>0.7</td><td>0.003</td><td>0.043</td><td>72</td><td>서울 중구 서소문동</td></tr>\n",
              "\t<tr><td>서울</td><td>중구</td><td>111121</td><td>2012010102</td><td>0.009</td><td>0.6</td><td>0.004</td><td>0.043</td><td>71</td><td>서울 중구 서소문동</td></tr>\n",
              "\t<tr><td>서울</td><td>중구</td><td>111121</td><td>2012010103</td><td>0.01 </td><td>0.8</td><td>0.004</td><td>0.046</td><td>74</td><td>서울 중구 서소문동</td></tr>\n",
              "\t<tr><td>서울</td><td>중구</td><td>111121</td><td>2012010104</td><td>0.011</td><td>0.7</td><td>0.004</td><td>0.043</td><td>78</td><td>서울 중구 서소문동</td></tr>\n",
              "\t<tr><td>서울</td><td>중구</td><td>111121</td><td>2012010105</td><td>0.011</td><td>0.7</td><td>0.003</td><td>0.041</td><td>61</td><td>서울 중구 서소문동</td></tr>\n",
              "\t<tr><td>서울</td><td>중구</td><td>111121</td><td>2012010106</td><td>0.011</td><td>0.8</td><td>0.004</td><td>0.044</td><td>69</td><td>서울 중구 서소문동</td></tr>\n",
              "</tbody>\n",
              "</table>\n"
            ],
            "text/markdown": "\nA tibble: 6 × 10\n\n| 지역 &lt;chr&gt; | 측정소명 &lt;chr&gt; | 측정소코드 &lt;chr&gt; | 측정일시 &lt;chr&gt; | SO2 &lt;chr&gt; | CO &lt;chr&gt; | O3 &lt;chr&gt; | NO2 &lt;chr&gt; | PM10 &lt;chr&gt; | 주소 &lt;chr&gt; |\n|---|---|---|---|---|---|---|---|---|---|\n| 서울 | 중구 | 111121 | 2012010101 | 0.011 | 0.7 | 0.003 | 0.043 | 72 | 서울 중구 서소문동 |\n| 서울 | 중구 | 111121 | 2012010102 | 0.009 | 0.6 | 0.004 | 0.043 | 71 | 서울 중구 서소문동 |\n| 서울 | 중구 | 111121 | 2012010103 | 0.01  | 0.8 | 0.004 | 0.046 | 74 | 서울 중구 서소문동 |\n| 서울 | 중구 | 111121 | 2012010104 | 0.011 | 0.7 | 0.004 | 0.043 | 78 | 서울 중구 서소문동 |\n| 서울 | 중구 | 111121 | 2012010105 | 0.011 | 0.7 | 0.003 | 0.041 | 61 | 서울 중구 서소문동 |\n| 서울 | 중구 | 111121 | 2012010106 | 0.011 | 0.8 | 0.004 | 0.044 | 69 | 서울 중구 서소문동 |\n\n",
            "text/latex": "A tibble: 6 × 10\n\\begin{tabular}{llllllllll}\n 지역 & 측정소명 & 측정소코드 & 측정일시 & SO2 & CO & O3 & NO2 & PM10 & 주소\\\\\n <chr> & <chr> & <chr> & <chr> & <chr> & <chr> & <chr> & <chr> & <chr> & <chr>\\\\\n\\hline\n\t 서울 & 중구 & 111121 & 2012010101 & 0.011 & 0.7 & 0.003 & 0.043 & 72 & 서울 중구 서소문동\\\\\n\t 서울 & 중구 & 111121 & 2012010102 & 0.009 & 0.6 & 0.004 & 0.043 & 71 & 서울 중구 서소문동\\\\\n\t 서울 & 중구 & 111121 & 2012010103 & 0.01  & 0.8 & 0.004 & 0.046 & 74 & 서울 중구 서소문동\\\\\n\t 서울 & 중구 & 111121 & 2012010104 & 0.011 & 0.7 & 0.004 & 0.043 & 78 & 서울 중구 서소문동\\\\\n\t 서울 & 중구 & 111121 & 2012010105 & 0.011 & 0.7 & 0.003 & 0.041 & 61 & 서울 중구 서소문동\\\\\n\t 서울 & 중구 & 111121 & 2012010106 & 0.011 & 0.8 & 0.004 & 0.044 & 69 & 서울 중구 서소문동\\\\\n\\end{tabular}\n",
            "text/plain": [
              "  지역 측정소명 측정소코드 측정일시   SO2   CO  O3    NO2   PM10\n",
              "1 서울 중구     111121     2012010101 0.011 0.7 0.003 0.043 72  \n",
              "2 서울 중구     111121     2012010102 0.009 0.6 0.004 0.043 71  \n",
              "3 서울 중구     111121     2012010103 0.01  0.8 0.004 0.046 74  \n",
              "4 서울 중구     111121     2012010104 0.011 0.7 0.004 0.043 78  \n",
              "5 서울 중구     111121     2012010105 0.011 0.7 0.003 0.041 61  \n",
              "6 서울 중구     111121     2012010106 0.011 0.8 0.004 0.044 69  \n",
              "  주소              \n",
              "1 서울 중구 서소문동\n",
              "2 서울 중구 서소문동\n",
              "3 서울 중구 서소문동\n",
              "4 서울 중구 서소문동\n",
              "5 서울 중구 서소문동\n",
              "6 서울 중구 서소문동"
            ]
          },
          "metadata": {}
        }
      ]
    }
  ]
}