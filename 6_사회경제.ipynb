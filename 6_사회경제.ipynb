{
  "nbformat": 4,
  "nbformat_minor": 0,
  "metadata": {
    "colab": {
      "name": "6.사회경제.ipynb",
      "provenance": [],
      "authorship_tag": "ABX9TyMpQpBSAgKcRNWYJXyVvmOE",
      "include_colab_link": true
    },
    "kernelspec": {
      "name": "ir",
      "display_name": "R"
    },
    "language_info": {
      "name": "R"
    },
    "accelerator": "GPU",
    "gpuClass": "standard"
  },
  "cells": [
    {
      "cell_type": "markdown",
      "metadata": {
        "id": "view-in-github",
        "colab_type": "text"
      },
      "source": [
        "<a href=\"https://colab.research.google.com/github/min02yam/wether/blob/main/6_%EC%82%AC%ED%9A%8C%EA%B2%BD%EC%A0%9C.ipynb\" target=\"_parent\"><img src=\"https://colab.research.google.com/assets/colab-badge.svg\" alt=\"Open In Colab\"/></a>"
      ]
    },
    {
      "cell_type": "markdown",
      "source": [
        "[6] 사회경제\n"
      ],
      "metadata": {
        "id": "3jhHomlwhuzG"
      }
    },
    {
      "cell_type": "markdown",
      "source": [
        "# 0.라이브러리 및 데이터 로드"
      ],
      "metadata": {
        "id": "BIERRJM7c3QW"
      }
    },
    {
      "cell_type": "code",
      "source": [
        "install.packages(\"DataExplorer\")\n",
        "library(DataExplorer)"
      ],
      "metadata": {
        "colab": {
          "base_uri": "https://localhost:8080/"
        },
        "id": "5rfV91HnzAlO",
        "outputId": "0f44e6bf-0dd5-4a10-a3b7-ebfb134c8dfd"
      },
      "execution_count": null,
      "outputs": [
        {
          "output_type": "stream",
          "name": "stderr",
          "text": [
            "Installing package into ‘/usr/local/lib/R/site-library’\n",
            "(as ‘lib’ is unspecified)\n",
            "\n",
            "also installing the dependencies ‘plyr’, ‘Rcpp’, ‘htmlwidgets’, ‘igraph’, ‘reshape2’, ‘gridExtra’, ‘networkD3’\n",
            "\n",
            "\n"
          ]
        }
      ]
    },
    {
      "cell_type": "code",
      "source": [
        "suppressPackageStartupMessages({\n",
        "  require(tidyverse)\n",
        "  require(magrittr)\n",
        "  require(data.table)\n",
        "})"
      ],
      "metadata": {
        "id": "nA40pLmzHmCc"
      },
      "execution_count": null,
      "outputs": []
    },
    {
      "cell_type": "code",
      "source": [
        "system(\"gdown --id 1oZxKBkqtd6m1n_r4pDpn1ARQD8JBhe13\") #자체사업비중 2012\n",
        "system(\"gdown --id 1f1BTOPurUWvwLAFx_sxDWBIGRpUSBLDO\") #자체사업비중 2013\n",
        "system(\"gdown --id 1haAdjniLa0-tibI6Me0G3qDxje79YGOM\") #자체사업비중 2014\n",
        "system(\"gdown --id 1_4T2_O0nko9ZyYgw2trgmVD0wbrPX6v9\") #자체사업비중 2015\n",
        "system(\"gdown --id 1i15OW_CxM8WZ-wX-mszWYsSTWm0cJ-Y2\") #자체사업비중 2016\n",
        "system(\"gdown --id 1zF49K3sC7_UsUCTfkw83TALrq-cahLCf\") #재정자립도\n",
        "system(\"gdown --id 1yLZUwDke0LI72BCNAB8tMtsm_klj7bLX\") #재정자주도"
      ],
      "metadata": {
        "id": "WebdMMyrfI8Q"
      },
      "execution_count": 1,
      "outputs": []
    },
    {
      "cell_type": "code",
      "source": [
        "자체사업비중_2012 = fread(\"자체사업비중 (1).csv\" )\n",
        "자체사업비중_2013 = fread(\"자체사업비중 (2).csv\" )\n",
        "자체사업비중_2014 = fread(\"자체사업비중 (3).csv\" )\n",
        "자체사업비중_2015 = fread(\"자체사업비중 (4).csv\" )\n",
        "자체사업비중_2016 = fread(\"자체사업비중 (5).csv\" )\n",
        "재정자립도 =  read.csv(\"재정자립도_시도_시_군_구__20220730210409.csv\" , fileEncoding = \"euc-kr\")\n",
        "재정자주도 =  read.csv(\"재정자주도_시도_시_군_구__20220730210523.csv\" , fileEncoding = \"euc-kr\")"
      ],
      "metadata": {
        "colab": {
          "base_uri": "https://localhost:8080/"
        },
        "id": "eoxKl3X4Y_yI",
        "outputId": "10209180-1035-4adc-808a-71b9110c4ae2"
      },
      "execution_count": 2,
      "outputs": [
        {
          "output_type": "stream",
          "name": "stderr",
          "text": [
            "Warning message in read.table(file = file, header = header, sep = sep, quote = quote, :\n",
            "“invalid input found on input connection '자체사업비중 (1).csv'”\n",
            "Warning message in read.table(file = file, header = header, sep = sep, quote = quote, :\n",
            "“incomplete final line found by readTableHeader on '자체사업비중 (1).csv'”\n",
            "Warning message in read.table(file = file, header = header, sep = sep, quote = quote, :\n",
            "“invalid input found on input connection '자체사업비중 (2).csv'”\n",
            "Warning message in read.table(file = file, header = header, sep = sep, quote = quote, :\n",
            "“incomplete final line found by readTableHeader on '자체사업비중 (2).csv'”\n",
            "Warning message in read.table(file = file, header = header, sep = sep, quote = quote, :\n",
            "“invalid input found on input connection '자체사업비중 (3).csv'”\n",
            "Warning message in read.table(file = file, header = header, sep = sep, quote = quote, :\n",
            "“incomplete final line found by readTableHeader on '자체사업비중 (3).csv'”\n",
            "Warning message in read.table(file = file, header = header, sep = sep, quote = quote, :\n",
            "“invalid input found on input connection '자체사업비중 (4).csv'”\n",
            "Warning message in read.table(file = file, header = header, sep = sep, quote = quote, :\n",
            "“incomplete final line found by readTableHeader on '자체사업비중 (4).csv'”\n",
            "Warning message in read.table(file = file, header = header, sep = sep, quote = quote, :\n",
            "“invalid input found on input connection '자체사업비중 (5).csv'”\n",
            "Warning message in read.table(file = file, header = header, sep = sep, quote = quote, :\n",
            "“incomplete final line found by readTableHeader on '자체사업비중 (5).csv'”\n"
          ]
        }
      ]
    },
    {
      "cell_type": "code",
      "source": [
        "require(data.table)\n",
        "require(dplyr)"
      ],
      "metadata": {
        "colab": {
          "base_uri": "https://localhost:8080/"
        },
        "id": "I7TPLoGQassj",
        "outputId": "b1b48280-bf09-48ff-acc1-b533968b9db3"
      },
      "execution_count": 7,
      "outputs": [
        {
          "output_type": "stream",
          "name": "stderr",
          "text": [
            "Loading required package: dplyr\n",
            "\n",
            "\n",
            "Attaching package: ‘dplyr’\n",
            "\n",
            "\n",
            "The following objects are masked from ‘package:data.table’:\n",
            "\n",
            "    between, first, last\n",
            "\n",
            "\n",
            "The following objects are masked from ‘package:stats’:\n",
            "\n",
            "    filter, lag\n",
            "\n",
            "\n",
            "The following objects are masked from ‘package:base’:\n",
            "\n",
            "    intersect, setdiff, setequal, union\n",
            "\n",
            "\n"
          ]
        }
      ]
    },
    {
      "cell_type": "code",
      "source": [
        "자체사업비중_2012  %>% head"
      ],
      "metadata": {
        "colab": {
          "base_uri": "https://localhost:8080/",
          "height": 286
        },
        "id": "kAAphkWHau_Z",
        "outputId": "a38aa06c-7dc6-4a54-8cd8-47cc0ec339f8"
      },
      "execution_count": 8,
      "outputs": [
        {
          "output_type": "display_data",
          "data": {
            "text/html": [
              "<table class=\"dataframe\">\n",
              "<caption>A data.table: 6 × 7</caption>\n",
              "<thead>\n",
              "\t<tr><th scope=col>회계연도</th><th scope=col>지역명</th><th scope=col>자치단체코드</th><th scope=col>자치단체명</th><th scope=col>자체사업예산액</th><th scope=col>일반회계예산액</th><th scope=col>자체사업비중(%)</th></tr>\n",
              "\t<tr><th scope=col>&lt;int&gt;</th><th scope=col>&lt;chr&gt;</th><th scope=col>&lt;int&gt;</th><th scope=col>&lt;chr&gt;</th><th scope=col>&lt;int64&gt;</th><th scope=col>&lt;int64&gt;</th><th scope=col>&lt;dbl&gt;</th></tr>\n",
              "</thead>\n",
              "<tbody>\n",
              "\t<tr><td>2012</td><td>서울</td><td>1100000</td><td>서울본청  </td><td>8990331678000</td><td>15201700000000</td><td>59.1</td></tr>\n",
              "\t<tr><td>2012</td><td>서울</td><td>1111000</td><td>서울종로구</td><td>  52875070000</td><td>  216717289000</td><td>24.4</td></tr>\n",
              "\t<tr><td>2012</td><td>서울</td><td>1112000</td><td>서울중구  </td><td>  71339725000</td><td>  238127577000</td><td>30.0</td></tr>\n",
              "\t<tr><td>2012</td><td>서울</td><td>1113000</td><td>서울용산구</td><td>  66285677000</td><td>  225969588000</td><td>29.3</td></tr>\n",
              "\t<tr><td>2012</td><td>서울</td><td>1114000</td><td>서울성동구</td><td>  77935992000</td><td>  266235735000</td><td>29.3</td></tr>\n",
              "\t<tr><td>2012</td><td>서울</td><td>1115000</td><td>서울광진구</td><td>  53823649000</td><td>  255778000000</td><td>21.0</td></tr>\n",
              "</tbody>\n",
              "</table>\n"
            ],
            "text/markdown": "\nA data.table: 6 × 7\n\n| 회계연도 &lt;int&gt; | 지역명 &lt;chr&gt; | 자치단체코드 &lt;int&gt; | 자치단체명 &lt;chr&gt; | 자체사업예산액 &lt;int64&gt; | 일반회계예산액 &lt;int64&gt; | 자체사업비중(%) &lt;dbl&gt; |\n|---|---|---|---|---|---|---|\n| 2012 | 서울 | 1100000 | 서울본청   | 8990331678000 | 15201700000000 | 59.1 |\n| 2012 | 서울 | 1111000 | 서울종로구 |   52875070000 |   216717289000 | 24.4 |\n| 2012 | 서울 | 1112000 | 서울중구   |   71339725000 |   238127577000 | 30.0 |\n| 2012 | 서울 | 1113000 | 서울용산구 |   66285677000 |   225969588000 | 29.3 |\n| 2012 | 서울 | 1114000 | 서울성동구 |   77935992000 |   266235735000 | 29.3 |\n| 2012 | 서울 | 1115000 | 서울광진구 |   53823649000 |   255778000000 | 21.0 |\n\n",
            "text/latex": "A data.table: 6 × 7\n\\begin{tabular}{lllllll}\n 회계연도 & 지역명 & 자치단체코드 & 자치단체명 & 자체사업예산액 & 일반회계예산액 & 자체사업비중(\\%)\\\\\n <int> & <chr> & <int> & <chr> & <int64> & <int64> & <dbl>\\\\\n\\hline\n\t 2012 & 서울 & 1100000 & 서울본청   & 8990331678000 & 15201700000000 & 59.1\\\\\n\t 2012 & 서울 & 1111000 & 서울종로구 &   52875070000 &   216717289000 & 24.4\\\\\n\t 2012 & 서울 & 1112000 & 서울중구   &   71339725000 &   238127577000 & 30.0\\\\\n\t 2012 & 서울 & 1113000 & 서울용산구 &   66285677000 &   225969588000 & 29.3\\\\\n\t 2012 & 서울 & 1114000 & 서울성동구 &   77935992000 &   266235735000 & 29.3\\\\\n\t 2012 & 서울 & 1115000 & 서울광진구 &   53823649000 &   255778000000 & 21.0\\\\\n\\end{tabular}\n",
            "text/plain": [
              "  회계연도 지역명 자치단체코드 자치단체명 자체사업예산액 일반회계예산액\n",
              "1 2012     서울   1100000      서울본청   8990331678000  15201700000000\n",
              "2 2012     서울   1111000      서울종로구   52875070000    216717289000\n",
              "3 2012     서울   1112000      서울중구     71339725000    238127577000\n",
              "4 2012     서울   1113000      서울용산구   66285677000    225969588000\n",
              "5 2012     서울   1114000      서울성동구   77935992000    266235735000\n",
              "6 2012     서울   1115000      서울광진구   53823649000    255778000000\n",
              "  자체사업비중(%)\n",
              "1 59.1           \n",
              "2 24.4           \n",
              "3 30.0           \n",
              "4 29.3           \n",
              "5 29.3           \n",
              "6 21.0           "
            ]
          },
          "metadata": {}
        }
      ]
    },
    {
      "cell_type": "code",
      "source": [
        "자체사업비중_2012 =fread(\"자체사업비중 (1).csv\")"
      ],
      "metadata": {
        "id": "CPoKhf25WCz7"
      },
      "execution_count": 5,
      "outputs": []
    }
  ]
}