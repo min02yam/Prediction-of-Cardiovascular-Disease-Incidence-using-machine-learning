{
  "nbformat": 4,
  "nbformat_minor": 0,
  "metadata": {
    "colab": {
      "name": "Untitled24.ipynb",
      "provenance": [],
      "authorship_tag": "ABX9TyO4q1QnNL+8oU4gjzUcM6dU",
      "include_colab_link": true
    },
    "kernelspec": {
      "name": "ir",
      "display_name": "R"
    },
    "language_info": {
      "name": "R"
    },
    "accelerator": "GPU",
    "gpuClass": "standard"
  },
  "cells": [
    {
      "cell_type": "markdown",
      "metadata": {
        "id": "view-in-github",
        "colab_type": "text"
      },
      "source": [
        "<a href=\"https://colab.research.google.com/github/min02yam/wether/blob/main/%EB%8C%80%EA%B8%B0%ED%99%98%EA%B2%BD_%EA%B8%B0%EC%83%81%EC%9E%90%EB%A3%8C%EA%B0%9C%EB%B0%A9%ED%8F%AC%ED%84%B8_%EB%B6%80%EC%9C%A0%EB%B6%84%EC%A7%84.ipynb\" target=\"_parent\"><img src=\"https://colab.research.google.com/assets/colab-badge.svg\" alt=\"Open In Colab\"/></a>"
      ]
    },
    {
      "cell_type": "markdown",
      "source": [
        "대기환경-기상자료개방포털"
      ],
      "metadata": {
        "id": "3jhHomlwhuzG"
      }
    },
    {
      "cell_type": "markdown",
      "source": [
        "# 0.라이브러리 및 데이터 로드"
      ],
      "metadata": {
        "id": "BIERRJM7c3QW"
      }
    },
    {
      "cell_type": "code",
      "source": [
        "install.packages(\"DataExplorer\")\n",
        "library(DataExplorer)"
      ],
      "metadata": {
        "colab": {
          "base_uri": "https://localhost:8080/"
        },
        "id": "5rfV91HnzAlO",
        "outputId": "0f44e6bf-0dd5-4a10-a3b7-ebfb134c8dfd"
      },
      "execution_count": null,
      "outputs": [
        {
          "output_type": "stream",
          "name": "stderr",
          "text": [
            "Installing package into ‘/usr/local/lib/R/site-library’\n",
            "(as ‘lib’ is unspecified)\n",
            "\n",
            "also installing the dependencies ‘plyr’, ‘Rcpp’, ‘htmlwidgets’, ‘igraph’, ‘reshape2’, ‘gridExtra’, ‘networkD3’\n",
            "\n",
            "\n"
          ]
        }
      ]
    },
    {
      "cell_type": "code",
      "source": [
        "suppressPackageStartupMessages({\n",
        "  require(tidyverse)\n",
        "  require(magrittr)\n",
        "  require(data.table)\n",
        "})"
      ],
      "metadata": {
        "id": "nA40pLmzHmCc"
      },
      "execution_count": 113,
      "outputs": []
    },
    {
      "cell_type": "code",
      "source": [
        "system(\"gdown --id 1Htro_YGeSiPY_DzwOhP6XbasIB7XyDIz\") # 2012-1"
      ],
      "metadata": {
        "id": "WebdMMyrfI8Q"
      },
      "execution_count": 110,
      "outputs": []
    },
    {
      "cell_type": "code",
      "source": [
        "#rm(list=ls())\n",
        "부유분진= read.csv (\"OBS_부유분진_DD_20220729190636.csv\", fileEncoding = \"euc-kr\")"
      ],
      "metadata": {
        "id": "e5NozZJXfYTN"
      },
      "execution_count": 117,
      "outputs": []
    },
    {
      "cell_type": "code",
      "source": [
        "부유분진 %>% head"
      ],
      "metadata": {
        "id": "wYh-COTIxyHA",
        "colab": {
          "base_uri": "https://localhost:8080/",
          "height": 286
        },
        "outputId": "b4148423-6a56-4ae4-e4a0-1cca6347a138"
      },
      "execution_count": 121,
      "outputs": [
        {
          "output_type": "display_data",
          "data": {
            "text/html": [
              "<table class=\"dataframe\">\n",
              "<caption>A data.frame: 6 × 4</caption>\n",
              "<thead>\n",
              "\t<tr><th></th><th scope=col>지점</th><th scope=col>지점명</th><th scope=col>일시</th><th scope=col>일.미세먼지.농도.....</th></tr>\n",
              "\t<tr><th></th><th scope=col>&lt;int&gt;</th><th scope=col>&lt;chr&gt;</th><th scope=col>&lt;chr&gt;</th><th scope=col>&lt;int&gt;</th></tr>\n",
              "</thead>\n",
              "<tbody>\n",
              "\t<tr><th scope=row>1</th><td>90</td><td>속초</td><td>2012-01-01</td><td>51</td></tr>\n",
              "\t<tr><th scope=row>2</th><td>90</td><td>속초</td><td>2012-01-02</td><td>55</td></tr>\n",
              "\t<tr><th scope=row>3</th><td>90</td><td>속초</td><td>2012-01-03</td><td>58</td></tr>\n",
              "\t<tr><th scope=row>4</th><td>90</td><td>속초</td><td>2012-01-04</td><td>56</td></tr>\n",
              "\t<tr><th scope=row>5</th><td>90</td><td>속초</td><td>2012-01-05</td><td>30</td></tr>\n",
              "\t<tr><th scope=row>6</th><td>90</td><td>속초</td><td>2012-01-06</td><td>33</td></tr>\n",
              "</tbody>\n",
              "</table>\n"
            ],
            "text/markdown": "\nA data.frame: 6 × 4\n\n| <!--/--> | 지점 &lt;int&gt; | 지점명 &lt;chr&gt; | 일시 &lt;chr&gt; | 일.미세먼지.농도..... &lt;int&gt; |\n|---|---|---|---|---|\n| 1 | 90 | 속초 | 2012-01-01 | 51 |\n| 2 | 90 | 속초 | 2012-01-02 | 55 |\n| 3 | 90 | 속초 | 2012-01-03 | 58 |\n| 4 | 90 | 속초 | 2012-01-04 | 56 |\n| 5 | 90 | 속초 | 2012-01-05 | 30 |\n| 6 | 90 | 속초 | 2012-01-06 | 33 |\n\n",
            "text/latex": "A data.frame: 6 × 4\n\\begin{tabular}{r|llll}\n  & 지점 & 지점명 & 일시 & 일.미세먼지.농도.....\\\\\n  & <int> & <chr> & <chr> & <int>\\\\\n\\hline\n\t1 & 90 & 속초 & 2012-01-01 & 51\\\\\n\t2 & 90 & 속초 & 2012-01-02 & 55\\\\\n\t3 & 90 & 속초 & 2012-01-03 & 58\\\\\n\t4 & 90 & 속초 & 2012-01-04 & 56\\\\\n\t5 & 90 & 속초 & 2012-01-05 & 30\\\\\n\t6 & 90 & 속초 & 2012-01-06 & 33\\\\\n\\end{tabular}\n",
            "text/plain": [
              "  지점 지점명 일시       일.미세먼지.농도.....\n",
              "1 90   속초   2012-01-01 51                   \n",
              "2 90   속초   2012-01-02 55                   \n",
              "3 90   속초   2012-01-03 58                   \n",
              "4 90   속초   2012-01-04 56                   \n",
              "5 90   속초   2012-01-05 30                   \n",
              "6 90   속초   2012-01-06 33                   "
            ]
          },
          "metadata": {}
        }
      ]
    }
  ]
}