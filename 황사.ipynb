{
  "nbformat": 4,
  "nbformat_minor": 0,
  "metadata": {
    "colab": {
      "name": "Untitled24.ipynb의 사본",
      "provenance": [],
      "authorship_tag": "ABX9TyMOTZ0X62ZCzq6iUOixVBW6",
      "include_colab_link": true
    },
    "kernelspec": {
      "name": "ir",
      "display_name": "R"
    },
    "language_info": {
      "name": "R"
    },
    "accelerator": "GPU",
    "gpuClass": "standard"
  },
  "cells": [
    {
      "cell_type": "markdown",
      "metadata": {
        "id": "view-in-github",
        "colab_type": "text"
      },
      "source": [
        "<a href=\"https://colab.research.google.com/github/min02yam/wether/blob/main/%ED%99%A9%EC%82%AC.ipynb\" target=\"_parent\"><img src=\"https://colab.research.google.com/assets/colab-badge.svg\" alt=\"Open In Colab\"/></a>"
      ]
    },
    {
      "cell_type": "markdown",
      "source": [
        "황사"
      ],
      "metadata": {
        "id": "Yd0NBlOIfGKL"
      }
    },
    {
      "cell_type": "markdown",
      "source": [
        "# 패키지 및 데이터 로드"
      ],
      "metadata": {
        "id": "xOpViNc45pa-"
      }
    },
    {
      "cell_type": "code",
      "source": [
        "suppressPackageStartupMessages({\n",
        "  require(dplyr)\n",
        "  require(magrittr)\n",
        "  require(stringr)\n",
        "  require(data.table)\n",
        "})"
      ],
      "metadata": {
        "id": "8PKcW3u_5Wq5"
      },
      "execution_count": 3,
      "outputs": []
    },
    {
      "cell_type": "code",
      "source": [
        "system(\"gdown --id 1cN9GXlDJna59plm7toEfouTSKrGPHGU5\")  # 황사 관측 지점\n",
        "#system(\"gdown --id 14RweUYbx4zfEQa1AReoz8sYRz6OGyi0u\")  # 황사_APS_MI10AVG\n",
        "#system(\"gdown --id 1Z-5OtA9ZQKtomFjGhYelgFHSmex8EYK8\") # 황사_PM10_CMA_MI\n",
        "#system(\"gdown --id 1IiaA0rPRM5PFvr_YSHNCZk8Waai8iSqS\") # 황사_PM10_KCCAR_MI\n",
        "#system(\"gdown --id 1kF3CVFGSgu1WF469ssEn8hL7GIjDuB57\")# 황사_PM10_KMA_MI\n",
        "system(\"gdown --id 1txGSfKKMdoZlGE91JFg70yBvRqV3QYH-\") #황사_PM10_KMA_H"
      ],
      "metadata": {
        "id": "ADqyLt6vJeXJ"
      },
      "execution_count": 52,
      "outputs": []
    },
    {
      "cell_type": "code",
      "source": [
        "#황사관측지점=fread(\"황사관측지점.csv\")\n",
        "#황사_APS= fread(\"황사_APS_MI10AVG.csv\")\n",
        "#황사_중국= fread(\"황사_PM10_CMA_MI.csv\")\n",
        "#황사_대기_분 = fread(\"황사_PM10_KCCAR_MI.csv\")\n",
        "#황사_기상청_분= fread(\"황사_PM10_KMA_MI.csv\")\n",
        "황사_기상청_시 = fread(\"황사_PM10_KMA_H.csv\")"
      ],
      "metadata": {
        "id": "6aYLsajWMKIj"
      },
      "execution_count": 53,
      "outputs": []
    },
    {
      "cell_type": "markdown",
      "source": [
        "### 황사관측지점"
      ],
      "metadata": {
        "id": "sJIKPF3IL1Xm"
      }
    },
    {
      "cell_type": "code",
      "source": [
        "#황사관측지점 %>% head\n",
        "#변수명 변경"
      ],
      "metadata": {
        "id": "uX4YexV2N3C7"
      },
      "execution_count": null,
      "outputs": []
    },
    {
      "cell_type": "code",
      "source": [
        "황사관측지점[,1] %>% table"
      ],
      "metadata": {
        "colab": {
          "base_uri": "https://localhost:8080/",
          "height": 110
        },
        "id": "-Csr9fdUL3iq",
        "outputId": "66d04291-d4f5-4713-df07-7d0c7c4b3140"
      },
      "execution_count": 20,
      "outputs": [
        {
          "output_type": "display_data",
          "data": {
            "text/plain": [
              "지점번호\n",
              " 90  94 100 101 102 108 115 116 119 121 130 132 135 136 140 143 144 146 152 156 \n",
              "  1   1   1   1   1   2   1   2   1   1   1   1   1   1   1   1   1   1   1   1 \n",
              "160 169 175 185 192 201 229 232 277 399 501 \n",
              "  1   1   1   1   1   1   1   1   1   1   1 "
            ]
          },
          "metadata": {}
        }
      ]
    },
    {
      "cell_type": "code",
      "source": [
        "#names(황사관측지점) \n",
        "names(황사관측지점) = gsub(\"\\\\(.*?\\\\)\",\"\", names(황사관측지점))"
      ],
      "metadata": {
        "id": "uoJvEOPcNtWx"
      },
      "execution_count": 34,
      "outputs": []
    },
    {
      "cell_type": "code",
      "source": [
        "황사관측지점 %>% select(지점번호,지점명) %>% nrow"
      ],
      "metadata": {
        "colab": {
          "base_uri": "https://localhost:8080/",
          "height": 34
        },
        "id": "qi_F2J4NVW9N",
        "outputId": "d8be4d20-0b94-4f5f-85e5-82520ba57e09"
      },
      "execution_count": 58,
      "outputs": [
        {
          "output_type": "display_data",
          "data": {
            "text/html": [
              "33"
            ],
            "text/markdown": "33",
            "text/latex": "33",
            "text/plain": [
              "[1] 33"
            ]
          },
          "metadata": {}
        }
      ]
    },
    {
      "cell_type": "code",
      "source": [
        "황사관측지점 %>% select(지점번호,지점명)"
      ],
      "metadata": {
        "colab": {
          "base_uri": "https://localhost:8080/",
          "height": 1000
        },
        "id": "gXNhoZs9NiVU",
        "outputId": "624f3817-d970-4b03-a8fc-db6296f9e749"
      },
      "execution_count": 42,
      "outputs": [
        {
          "output_type": "display_data",
          "data": {
            "text/html": [
              "<table class=\"dataframe\">\n",
              "<caption>A data.table: 33 × 2</caption>\n",
              "<thead>\n",
              "\t<tr><th scope=col>지점번호</th><th scope=col>지점명</th></tr>\n",
              "\t<tr><th scope=col>&lt;int&gt;</th><th scope=col>&lt;chr&gt;</th></tr>\n",
              "</thead>\n",
              "<tbody>\n",
              "\t<tr><td> 90</td><td>속초        </td></tr>\n",
              "\t<tr><td> 94</td><td>광덕산      </td></tr>\n",
              "\t<tr><td>100</td><td>대관령      </td></tr>\n",
              "\t<tr><td>101</td><td>춘천        </td></tr>\n",
              "\t<tr><td>102</td><td>백령도      </td></tr>\n",
              "\t<tr><td>108</td><td>서울        </td></tr>\n",
              "\t<tr><td>108</td><td>서울        </td></tr>\n",
              "\t<tr><td>115</td><td>울릉도      </td></tr>\n",
              "\t<tr><td>116</td><td>관악산      </td></tr>\n",
              "\t<tr><td>116</td><td>관악산      </td></tr>\n",
              "\t<tr><td>119</td><td>수원        </td></tr>\n",
              "\t<tr><td>121</td><td>영월        </td></tr>\n",
              "\t<tr><td>130</td><td>울진        </td></tr>\n",
              "\t<tr><td>132</td><td>안면센터    </td></tr>\n",
              "\t<tr><td>135</td><td>추풍령      </td></tr>\n",
              "\t<tr><td>136</td><td>안동        </td></tr>\n",
              "\t<tr><td>140</td><td>군산        </td></tr>\n",
              "\t<tr><td>143</td><td>대구        </td></tr>\n",
              "\t<tr><td>144</td><td>오성산      </td></tr>\n",
              "\t<tr><td>146</td><td>전주        </td></tr>\n",
              "\t<tr><td>152</td><td>울산        </td></tr>\n",
              "\t<tr><td>156</td><td>광주        </td></tr>\n",
              "\t<tr><td>160</td><td>구덕산      </td></tr>\n",
              "\t<tr><td>169</td><td>흑산도      </td></tr>\n",
              "\t<tr><td>175</td><td>진도(첨찰산)</td></tr>\n",
              "\t<tr><td>185</td><td>고산        </td></tr>\n",
              "\t<tr><td>192</td><td>진주        </td></tr>\n",
              "\t<tr><td>201</td><td>강화        </td></tr>\n",
              "\t<tr><td>229</td><td>격렬비도    </td></tr>\n",
              "\t<tr><td>232</td><td>천안        </td></tr>\n",
              "\t<tr><td>277</td><td>영덕        </td></tr>\n",
              "\t<tr><td>399</td><td>청원        </td></tr>\n",
              "\t<tr><td>501</td><td>연평도      </td></tr>\n",
              "</tbody>\n",
              "</table>\n"
            ],
            "text/markdown": "\nA data.table: 33 × 2\n\n| 지점번호 &lt;int&gt; | 지점명 &lt;chr&gt; |\n|---|---|\n|  90 | 속초         |\n|  94 | 광덕산       |\n| 100 | 대관령       |\n| 101 | 춘천         |\n| 102 | 백령도       |\n| 108 | 서울         |\n| 108 | 서울         |\n| 115 | 울릉도       |\n| 116 | 관악산       |\n| 116 | 관악산       |\n| 119 | 수원         |\n| 121 | 영월         |\n| 130 | 울진         |\n| 132 | 안면센터     |\n| 135 | 추풍령       |\n| 136 | 안동         |\n| 140 | 군산         |\n| 143 | 대구         |\n| 144 | 오성산       |\n| 146 | 전주         |\n| 152 | 울산         |\n| 156 | 광주         |\n| 160 | 구덕산       |\n| 169 | 흑산도       |\n| 175 | 진도(첨찰산) |\n| 185 | 고산         |\n| 192 | 진주         |\n| 201 | 강화         |\n| 229 | 격렬비도     |\n| 232 | 천안         |\n| 277 | 영덕         |\n| 399 | 청원         |\n| 501 | 연평도       |\n\n",
            "text/latex": "A data.table: 33 × 2\n\\begin{tabular}{ll}\n 지점번호 & 지점명\\\\\n <int> & <chr>\\\\\n\\hline\n\t  90 & 속초        \\\\\n\t  94 & 광덕산      \\\\\n\t 100 & 대관령      \\\\\n\t 101 & 춘천        \\\\\n\t 102 & 백령도      \\\\\n\t 108 & 서울        \\\\\n\t 108 & 서울        \\\\\n\t 115 & 울릉도      \\\\\n\t 116 & 관악산      \\\\\n\t 116 & 관악산      \\\\\n\t 119 & 수원        \\\\\n\t 121 & 영월        \\\\\n\t 130 & 울진        \\\\\n\t 132 & 안면센터    \\\\\n\t 135 & 추풍령      \\\\\n\t 136 & 안동        \\\\\n\t 140 & 군산        \\\\\n\t 143 & 대구        \\\\\n\t 144 & 오성산      \\\\\n\t 146 & 전주        \\\\\n\t 152 & 울산        \\\\\n\t 156 & 광주        \\\\\n\t 160 & 구덕산      \\\\\n\t 169 & 흑산도      \\\\\n\t 175 & 진도(첨찰산)\\\\\n\t 185 & 고산        \\\\\n\t 192 & 진주        \\\\\n\t 201 & 강화        \\\\\n\t 229 & 격렬비도    \\\\\n\t 232 & 천안        \\\\\n\t 277 & 영덕        \\\\\n\t 399 & 청원        \\\\\n\t 501 & 연평도      \\\\\n\\end{tabular}\n",
            "text/plain": [
              "   지점번호 지점명      \n",
              "1   90      속초        \n",
              "2   94      광덕산      \n",
              "3  100      대관령      \n",
              "4  101      춘천        \n",
              "5  102      백령도      \n",
              "6  108      서울        \n",
              "7  108      서울        \n",
              "8  115      울릉도      \n",
              "9  116      관악산      \n",
              "10 116      관악산      \n",
              "11 119      수원        \n",
              "12 121      영월        \n",
              "13 130      울진        \n",
              "14 132      안면센터    \n",
              "15 135      추풍령      \n",
              "16 136      안동        \n",
              "17 140      군산        \n",
              "18 143      대구        \n",
              "19 144      오성산      \n",
              "20 146      전주        \n",
              "21 152      울산        \n",
              "22 156      광주        \n",
              "23 160      구덕산      \n",
              "24 169      흑산도      \n",
              "25 175      진도(첨찰산)\n",
              "26 185      고산        \n",
              "27 192      진주        \n",
              "28 201      강화        \n",
              "29 229      격렬비도    \n",
              "30 232      천안        \n",
              "31 277      영덕        \n",
              "32 399      청원        \n",
              "33 501      연평도      "
            ]
          },
          "metadata": {}
        }
      ]
    },
    {
      "cell_type": "markdown",
      "source": [
        "### ~~황사_APS~~"
      ],
      "metadata": {
        "id": "CRBCX7R2LSkj"
      }
    },
    {
      "cell_type": "code",
      "source": [
        "황사_APS[,2] %>% table\n",
        "# 13, 108, 132, 185, 884, 1081\n",
        "#관측지점과 안맞음"
      ],
      "metadata": {
        "colab": {
          "base_uri": "https://localhost:8080/",
          "height": 73
        },
        "id": "DcuU-LDHKAYO",
        "outputId": "cea80816-971e-4f9b-c9ee-8e9cdc6e9a03"
      },
      "execution_count": 13,
      "outputs": [
        {
          "output_type": "display_data",
          "data": {
            "text/plain": [
              "db_ydst_aps.stn_id\n",
              "    13    108    132    185    884   1081 \n",
              "   961 533523 865245 848510 232240  18097 "
            ]
          },
          "metadata": {}
        }
      ]
    },
    {
      "cell_type": "markdown",
      "source": [
        "### ~~황사_중국~~"
      ],
      "metadata": {
        "id": "avO0Zd67ME9H"
      }
    },
    {
      "cell_type": "code",
      "source": [
        "황사_중국[,2] %>% table"
      ],
      "metadata": {
        "colab": {
          "base_uri": "https://localhost:8080/",
          "height": 110
        },
        "id": "dZi0yeXFL8NW",
        "outputId": "152ec8aa-746c-4b6d-867e-d339f539dd2f"
      },
      "execution_count": 19,
      "outputs": [
        {
          "output_type": "display_data",
          "data": {
            "text/plain": [
              "db_ydst_pm10_cma_mi.stn_id\n",
              " 52203  52418  53068  53276  53336  53543  53787  53845  54135  54157  54218 \n",
              " 43201  42775  34107 485392  42152  43210 521662  35475 518301  25273  31405 \n",
              " 54497  54662  54725  54857 \n",
              " 31380 508355 505021  33481 "
            ]
          },
          "metadata": {}
        }
      ]
    },
    {
      "cell_type": "markdown",
      "source": [
        "### ~~황사_대기_분~~"
      ],
      "metadata": {
        "id": "D9RW0XpDNQva"
      }
    },
    {
      "cell_type": "code",
      "source": [
        "황사_대기_분 %>% str\n",
        "#399즉 청원거만 있음"
      ],
      "metadata": {
        "colab": {
          "base_uri": "https://localhost:8080/"
        },
        "id": "3H0bdDTWMrGB",
        "outputId": "dd5f0c9d-fb15-48ce-c99a-cdf043d5a65d"
      },
      "execution_count": 26,
      "outputs": [
        {
          "output_type": "stream",
          "name": "stdout",
          "text": [
            "Classes ‘data.table’ and 'data.frame':\t468614 obs. of  12 variables:\n",
            " $ db_ydst_pm10_kccar_mi.tm         : POSIXct, format: \"2012-01-01 00:15:00\" \"2012-01-01 00:20:00\" ...\n",
            " $ db_ydst_pm10_kccar_mi.stn_id     : int  399 399 399 399 399 399 399 399 399 399 ...\n",
            " $ db_ydst_pm10_kccar_mi.vs         : num  NA NA NA 9 3 9 86 57 16 44 ...\n",
            " $ db_ydst_pm10_kccar_mi.tot_pm     : num  52.6 50.8 51.4 76.8 79.2 ...\n",
            " $ db_ydst_pm10_kccar_mi.pm10_pm    : num  49.2 46.8 44.4 72.3 72.8 ...\n",
            " $ db_ydst_pm10_kccar_mi.pm25_pm    : num  31.9 30.2 30.9 49.2 53.8 ...\n",
            " $ db_ydst_pm10_kccar_mi.o3         : num  9.82 10.29 8.78 1.42 1.63 ...\n",
            " $ db_ydst_pm10_kccar_mi.no1        : num  1.83 1.61 1.95 11.28 9.68 ...\n",
            " $ db_ydst_pm10_kccar_mi.no2        : num  28.7 27.9 29.4 32.4 33.6 ...\n",
            " $ db_ydst_pm10_kccar_mi.co         : num  627 624 642 964 935 ...\n",
            " $ db_ydst_pm10_kccar_mi.so2        : num  2.75 2.77 2.52 2.5 2.19 ...\n",
            " $ db_ydst_pm10_kccar_mi.orgn_stn_id: logi  NA NA NA NA NA NA ...\n",
            " - attr(*, \".internal.selfref\")=<externalptr> \n"
          ]
        }
      ]
    },
    {
      "cell_type": "markdown",
      "source": [
        "### ~~황사_기상청_분~~"
      ],
      "metadata": {
        "id": "a8XiSlM-PumL"
      }
    },
    {
      "cell_type": "code",
      "source": [
        "황사_기상청_분[,2] %>% distinct %>% as.data.frame %>% arrange(db_ydst_pm10_kma_mi.stn_id)"
      ],
      "metadata": {
        "colab": {
          "base_uri": "https://localhost:8080/",
          "height": 1000
        },
        "id": "14s2eJkNQIvD",
        "outputId": "0fc4d27d-f6ca-4ab0-f261-e9173e09d519"
      },
      "execution_count": 59,
      "outputs": [
        {
          "output_type": "display_data",
          "data": {
            "text/html": [
              "<table class=\"dataframe\">\n",
              "<caption>A data.frame: 37 × 1</caption>\n",
              "<thead>\n",
              "\t<tr><th scope=col>db_ydst_pm10_kma_mi.stn_id</th></tr>\n",
              "\t<tr><th scope=col>&lt;int&gt;</th></tr>\n",
              "</thead>\n",
              "<tbody>\n",
              "\t<tr><td> 90</td></tr>\n",
              "\t<tr><td> 93</td></tr>\n",
              "\t<tr><td> 94</td></tr>\n",
              "\t<tr><td>100</td></tr>\n",
              "\t<tr><td>101</td></tr>\n",
              "\t<tr><td>102</td></tr>\n",
              "\t<tr><td>108</td></tr>\n",
              "\t<tr><td>111</td></tr>\n",
              "\t<tr><td>115</td></tr>\n",
              "\t<tr><td>116</td></tr>\n",
              "\t<tr><td>119</td></tr>\n",
              "\t<tr><td>121</td></tr>\n",
              "\t<tr><td>130</td></tr>\n",
              "\t<tr><td>132</td></tr>\n",
              "\t<tr><td>135</td></tr>\n",
              "\t<tr><td>136</td></tr>\n",
              "\t<tr><td>140</td></tr>\n",
              "\t<tr><td>143</td></tr>\n",
              "\t<tr><td>146</td></tr>\n",
              "\t<tr><td>152</td></tr>\n",
              "\t<tr><td>156</td></tr>\n",
              "\t<tr><td>160</td></tr>\n",
              "\t<tr><td>169</td></tr>\n",
              "\t<tr><td>175</td></tr>\n",
              "\t<tr><td>185</td></tr>\n",
              "\t<tr><td>192</td></tr>\n",
              "\t<tr><td>201</td></tr>\n",
              "\t<tr><td>229</td></tr>\n",
              "\t<tr><td>232</td></tr>\n",
              "\t<tr><td>268</td></tr>\n",
              "\t<tr><td>273</td></tr>\n",
              "\t<tr><td>286</td></tr>\n",
              "\t<tr><td>399</td></tr>\n",
              "\t<tr><td>430</td></tr>\n",
              "\t<tr><td>432</td></tr>\n",
              "\t<tr><td>456</td></tr>\n",
              "\t<tr><td>501</td></tr>\n",
              "</tbody>\n",
              "</table>\n"
            ],
            "text/markdown": "\nA data.frame: 37 × 1\n\n| db_ydst_pm10_kma_mi.stn_id &lt;int&gt; |\n|---|\n|  90 |\n|  93 |\n|  94 |\n| 100 |\n| 101 |\n| 102 |\n| 108 |\n| 111 |\n| 115 |\n| 116 |\n| 119 |\n| 121 |\n| 130 |\n| 132 |\n| 135 |\n| 136 |\n| 140 |\n| 143 |\n| 146 |\n| 152 |\n| 156 |\n| 160 |\n| 169 |\n| 175 |\n| 185 |\n| 192 |\n| 201 |\n| 229 |\n| 232 |\n| 268 |\n| 273 |\n| 286 |\n| 399 |\n| 430 |\n| 432 |\n| 456 |\n| 501 |\n\n",
            "text/latex": "A data.frame: 37 × 1\n\\begin{tabular}{l}\n db\\_ydst\\_pm10\\_kma\\_mi.stn\\_id\\\\\n <int>\\\\\n\\hline\n\t  90\\\\\n\t  93\\\\\n\t  94\\\\\n\t 100\\\\\n\t 101\\\\\n\t 102\\\\\n\t 108\\\\\n\t 111\\\\\n\t 115\\\\\n\t 116\\\\\n\t 119\\\\\n\t 121\\\\\n\t 130\\\\\n\t 132\\\\\n\t 135\\\\\n\t 136\\\\\n\t 140\\\\\n\t 143\\\\\n\t 146\\\\\n\t 152\\\\\n\t 156\\\\\n\t 160\\\\\n\t 169\\\\\n\t 175\\\\\n\t 185\\\\\n\t 192\\\\\n\t 201\\\\\n\t 229\\\\\n\t 232\\\\\n\t 268\\\\\n\t 273\\\\\n\t 286\\\\\n\t 399\\\\\n\t 430\\\\\n\t 432\\\\\n\t 456\\\\\n\t 501\\\\\n\\end{tabular}\n",
            "text/plain": [
              "   db_ydst_pm10_kma_mi.stn_id\n",
              "1   90                       \n",
              "2   93                       \n",
              "3   94                       \n",
              "4  100                       \n",
              "5  101                       \n",
              "6  102                       \n",
              "7  108                       \n",
              "8  111                       \n",
              "9  115                       \n",
              "10 116                       \n",
              "11 119                       \n",
              "12 121                       \n",
              "13 130                       \n",
              "14 132                       \n",
              "15 135                       \n",
              "16 136                       \n",
              "17 140                       \n",
              "18 143                       \n",
              "19 146                       \n",
              "20 152                       \n",
              "21 156                       \n",
              "22 160                       \n",
              "23 169                       \n",
              "24 175                       \n",
              "25 185                       \n",
              "26 192                       \n",
              "27 201                       \n",
              "28 229                       \n",
              "29 232                       \n",
              "30 268                       \n",
              "31 273                       \n",
              "32 286                       \n",
              "33 399                       \n",
              "34 430                       \n",
              "35 432                       \n",
              "36 456                       \n",
              "37 501                       "
            ]
          },
          "metadata": {}
        }
      ]
    },
    {
      "cell_type": "markdown",
      "source": [
        "### 황사_기상청_시"
      ],
      "metadata": {
        "id": "nQViuMnTR8rt"
      }
    },
    {
      "cell_type": "code",
      "source": [
        "황사_기상청_시[,2] %>% distinct %>% as.data.frame %>% arrange(db_ydst_pm10_kma_tim.stn_id) %>%nrow"
      ],
      "metadata": {
        "colab": {
          "base_uri": "https://localhost:8080/",
          "height": 34
        },
        "id": "_nbsxIdtR1mH",
        "outputId": "a74025ec-779f-466a-d667-e33626f46c42"
      },
      "execution_count": 63,
      "outputs": [
        {
          "output_type": "display_data",
          "data": {
            "text/html": [
              "37"
            ],
            "text/markdown": "37",
            "text/latex": "37",
            "text/plain": [
              "[1] 37"
            ]
          },
          "metadata": {}
        }
      ]
    },
    {
      "cell_type": "code",
      "source": [
        "#변수명 변경\n",
        "names(황사_기상청_시)= gsub(\"db_ydst_pm10_kma_tim.\",\"\", names(황사_기상청_시))"
      ],
      "metadata": {
        "id": "A0oglgxiXwAn"
      },
      "execution_count": 65,
      "outputs": []
    },
    {
      "cell_type": "code",
      "source": [
        "황사_기상청_시 %>% select (tm, stn_id, avg_pm10_pm, tno) -> avg_pm10"
      ],
      "metadata": {
        "id": "d2fB75j5YdNy"
      },
      "execution_count": 68,
      "outputs": []
    },
    {
      "cell_type": "code",
      "source": [
        "write.csv(avg_pm10, \"avg_pm10.csv\", row.names=FALSE)"
      ],
      "metadata": {
        "id": "LSwKbD-oZZm5"
      },
      "execution_count": 69,
      "outputs": []
    },
    {
      "cell_type": "code",
      "source": [
        ""
      ],
      "metadata": {
        "id": "vxp0Bgi_ZlN5"
      },
      "execution_count": null,
      "outputs": []
    },
    {
      "cell_type": "code",
      "source": [
        ""
      ],
      "metadata": {
        "id": "DthKahQLZlFL"
      },
      "execution_count": null,
      "outputs": []
    },
    {
      "cell_type": "code",
      "source": [
        ""
      ],
      "metadata": {
        "id": "mBEvZ5QkZk8v"
      },
      "execution_count": null,
      "outputs": []
    },
    {
      "cell_type": "code",
      "source": [
        ""
      ],
      "metadata": {
        "id": "PZTcnjaIZkyR"
      },
      "execution_count": null,
      "outputs": []
    }
  ]
}