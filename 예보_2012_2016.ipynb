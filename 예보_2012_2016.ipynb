{
  "nbformat": 4,
  "nbformat_minor": 0,
  "metadata": {
    "colab": {
      "name": "예보_2012:2016.ipynb",
      "provenance": [],
      "authorship_tag": "ABX9TyMKo/YMhd/0Lhm50zXI5oc2",
      "include_colab_link": true
    },
    "kernelspec": {
      "name": "ir",
      "display_name": "R"
    },
    "language_info": {
      "name": "R"
    },
    "accelerator": "GPU",
    "gpuClass": "standard"
  },
  "cells": [
    {
      "cell_type": "markdown",
      "metadata": {
        "id": "view-in-github",
        "colab_type": "text"
      },
      "source": [
        "<a href=\"https://colab.research.google.com/github/min02yam/wether/blob/main/%EC%98%88%EB%B3%B4_2012_2016.ipynb\" target=\"_parent\"><img src=\"https://colab.research.google.com/assets/colab-badge.svg\" alt=\"Open In Colab\"/></a>"
      ]
    },
    {
      "cell_type": "markdown",
      "source": [
        "예보데이터(2012~2016) <br>\n"
      ],
      "metadata": {
        "id": "3jhHomlwhuzG"
      }
    },
    {
      "cell_type": "markdown",
      "source": [
        "# 0.라이브러리 및 데이터 로드"
      ],
      "metadata": {
        "id": "BIERRJM7c3QW"
      }
    },
    {
      "cell_type": "code",
      "source": [
        "install.packages(c(\"DataExplorer\",\"imputeTS\", \"lubridate\"))\n",
        "suppressPackageStartupMessages({\n",
        "library(DataExplorer) #EDA\n",
        "library(imputeTS) # imputation\n",
        "library(lubridate) # 날짜\n",
        "})"
      ],
      "metadata": {
        "colab": {
          "base_uri": "https://localhost:8080/"
        },
        "id": "3b7H1hk1o7_J",
        "outputId": "24c68dca-b7fb-492e-ff48-37d2d29df93c"
      },
      "execution_count": 4,
      "outputs": [
        {
          "output_type": "stream",
          "name": "stderr",
          "text": [
            "Installing packages into ‘/usr/local/lib/R/site-library’\n",
            "(as ‘lib’ is unspecified)\n",
            "\n"
          ]
        }
      ]
    },
    {
      "cell_type": "code",
      "source": [
        "suppressPackageStartupMessages({\n",
        "  require(tidyverse)\n",
        "  require(magrittr)\n",
        "  require(data.table)\n",
        "})"
      ],
      "metadata": {
        "id": "nA40pLmzHmCc"
      },
      "execution_count": 5,
      "outputs": []
    },
    {
      "cell_type": "code",
      "source": [
        "system(\"gdown --id 1EkwbK7uSNOCuo5H3frhxsg2ZuAlTu7C0\")  #2012\n",
        "system(\"gdown --id 1L2NIn_hFZww3uGpysoWapSxF_-CIiBbF\")  #2013\n",
        "system(\"gdown --id 1pZ__BBjPH8PygXqU8DAInDHoWPH3SM1J\")  #2014\n",
        "system(\"gdown --id 1Yy7Zv5_cARL0f4qJFN3R2bxOQOQjfif8\")  #2015\n",
        "system(\"gdown --id 1exNYMxNSx6kPyEbEk2rKkaRVNSjGnO4Y\")  #2016"
      ],
      "metadata": {
        "id": "WebdMMyrfI8Q"
      },
      "execution_count": 6,
      "outputs": []
    },
    {
      "cell_type": "code",
      "source": [
        "f2012 =  fread(\"f2012.csv\")\n",
        "f2013 =  fread(\"f2013.csv\")\n",
        "f2014 =  fread(\"f2014.csv\")\n",
        "f2015 =  fread(\"f2015.csv\")\n",
        "f2016 =  fread(\"f2016.csv\")"
      ],
      "metadata": {
        "id": "FOB5x3bSZkky"
      },
      "execution_count": 7,
      "outputs": []
    },
    {
      "cell_type": "markdown",
      "source": [
        "# 1.예보 테이블 병합"
      ],
      "metadata": {
        "id": "J5Ix_x9l_kJ0"
      }
    },
    {
      "cell_type": "markdown",
      "source": [
        "## 1-1.년도 병합"
      ],
      "metadata": {
        "id": "n07qjAILWaN8"
      }
    },
    {
      "cell_type": "code",
      "source": [
        "예보 = bind_rows(f2012, f2013, f2014, f2015, f2016)"
      ],
      "metadata": {
        "id": "eoxKl3X4Y_yI"
      },
      "execution_count": 8,
      "outputs": []
    },
    {
      "cell_type": "code",
      "source": [
        "#예보 %>%  summary # 확인"
      ],
      "metadata": {
        "id": "lhx_CKJ4ZrLr"
      },
      "execution_count": 9,
      "outputs": []
    },
    {
      "cell_type": "markdown",
      "source": [
        "## 1-2. hospital 테이블 형식으로 변환"
      ],
      "metadata": {
        "id": "IiW3uLu3SN_R"
      }
    },
    {
      "cell_type": "code",
      "source": [
        "DT= rbind(예보, 예보)\n",
        "DT %<>% \n",
        "  arrange(date, area)  %>% \n",
        "  mutate(sex = rep(1:2, times=nrow(DT)/2 ))"
      ],
      "metadata": {
        "id": "yj-sUUrJTGnl"
      },
      "execution_count": 10,
      "outputs": []
    },
    {
      "cell_type": "code",
      "source": [
        "#step1. 새로운 date 테이블 만들기 만들기 \n",
        "new_date= seq(as.Date('20120101', '%Y%m%d'), as.Date('20161231', '%Y%m%d'), 1)\n",
        "new_date =rep(new_date , times= 17)\n",
        "new_date= as.data.table(new_date)\n",
        "\n",
        "new_date %<>%  rename( date = new_date )%>% \n",
        "  arrange(date) "
      ],
      "metadata": {
        "id": "bV-oIciLSbCf"
      },
      "execution_count": 11,
      "outputs": []
    },
    {
      "cell_type": "code",
      "source": [
        "#step2. area변수 추가\n",
        "area_list= c(\"강원\", \"경기\", \"경남\", \"경북\",   \"광주\", \"대구\",\n",
        "\"대전\",\"부산\",\"서울\",\"세종\",\"울산\",\"인천\",\"전남\", \"전북\",\"제주\" , \"충남\",\"충북\")\n",
        "new_date$area =  rep(area_list, times=nrow(new_date)/17) "
      ],
      "metadata": {
        "id": "2o7Z1TkzSoqh"
      },
      "execution_count": 12,
      "outputs": []
    },
    {
      "cell_type": "code",
      "source": [
        "#step3. sex변수 추가 \n",
        "new_date_dt = rbind(new_date, new_date) #공간만들기\n",
        "new_date_dt %<>% arrange(date,area) # 순서지정\n",
        "new_date_dt$sex = rep(1:2,   times=nrow(new_date_dt)/2)"
      ],
      "metadata": {
        "id": "0RtvTo5WU3Jz"
      },
      "execution_count": 13,
      "outputs": []
    },
    {
      "cell_type": "code",
      "source": [
        "#step4. merge전 타입 변경\n",
        "new_date_dt[, date := as.character(date)]\n",
        "DT[, date  := as.character(date)]"
      ],
      "metadata": {
        "id": "XdlL03knStxH"
      },
      "execution_count": 14,
      "outputs": []
    },
    {
      "cell_type": "code",
      "source": [
        "new_date_dt %>% left_join(DT, by=c(\"date\", \"area\", \"sex\")) -> 예보_최종"
      ],
      "metadata": {
        "id": "ZkvIwy8_SSUj"
      },
      "execution_count": 15,
      "outputs": []
    },
    {
      "cell_type": "code",
      "source": [
        "new_date %>% nrow() *2"
      ],
      "metadata": {
        "colab": {
          "base_uri": "https://localhost:8080/",
          "height": 34
        },
        "id": "FAtdkJhvTYfe",
        "outputId": "7bfce4ec-b75d-4945-e4c2-dfd26e5b7c93"
      },
      "execution_count": 16,
      "outputs": [
        {
          "output_type": "display_data",
          "data": {
            "text/html": [
              "62118"
            ],
            "text/markdown": "62118",
            "text/latex": "62118",
            "text/plain": [
              "[1] 62118"
            ]
          },
          "metadata": {}
        }
      ]
    },
    {
      "cell_type": "markdown",
      "source": [
        "# 2.결측치 대체\n",
        "- 새로운 날짜도 생겼음! \n",
        "- 그룹별(area)로 칼만 알고리즘 적용 "
      ],
      "metadata": {
        "id": "tgAWpaEAAdj9"
      }
    },
    {
      "cell_type": "code",
      "source": [
        "예보_최종 %>% summary"
      ],
      "metadata": {
        "colab": {
          "base_uri": "https://localhost:8080/",
          "height": 316
        },
        "id": "lZ7K0VmhWvoF",
        "outputId": "818bc272-6e71-4de3-fd12-f378d49f62f9"
      },
      "execution_count": 18,
      "outputs": [
        {
          "output_type": "display_data",
          "data": {
            "text/plain": [
              "     date               area                sex      f평균3시간기온   \n",
              " Length:62118       Length:62118       Min.   :1.0   Min.   :-16.420  \n",
              " Class :character   Class :character   1st Qu.:1.0   1st Qu.:  3.333  \n",
              " Mode  :character   Mode  :character   Median :1.5   Median : 12.700  \n",
              "                                       Mean   :1.5   Mean   : 11.648  \n",
              "                                       3rd Qu.:2.0   3rd Qu.: 20.000  \n",
              "                                       Max.   :2.0   Max.   : 30.800  \n",
              "                                                     NA's   :3996     \n",
              " f평균강수형태     f평균습도      f평균하늘상태  \n",
              " Min.   :0.000   Min.   : 10.00   Min.   :1.000  \n",
              " 1st Qu.:0.000   1st Qu.: 65.69   1st Qu.:2.000  \n",
              " Median :0.000   Median : 77.00   Median :3.000  \n",
              " Mean   :0.125   Mean   : 74.49   Mean   :2.574  \n",
              " 3rd Qu.:0.000   3rd Qu.: 85.00   3rd Qu.:3.000  \n",
              " Max.   :3.000   Max.   :100.00   Max.   :4.000  \n",
              " NA's   :4016    NA's   :4764     NA's   :9938   "
            ]
          },
          "metadata": {}
        }
      ]
    },
    {
      "cell_type": "code",
      "source": [
        "plot_missing(예보_최종)"
      ],
      "metadata": {
        "colab": {
          "base_uri": "https://localhost:8080/",
          "height": 437
        },
        "id": "1YPEvT25Zlrc",
        "outputId": "6dad9433-f01f-40ce-d950-0cb43a093d9d"
      },
      "execution_count": 19,
      "outputs": [
        {
          "output_type": "display_data",
          "data": {
            "text/plain": [
              "plot without title"
            ],
            "image/png": "[encoded data removed]"
          },
          "metadata": {
            "image/png": {
              "width": 420,
              "height": 420
            }
          }
        }
      ]
    },
    {
      "cell_type": "code",
      "source": [
        "예보_최종 %>% str"
      ],
      "metadata": {
        "colab": {
          "base_uri": "https://localhost:8080/"
        },
        "id": "BytgeDUvjakE",
        "outputId": "7420a6bb-c806-4519-85d2-17f00293bfe5"
      },
      "execution_count": 50,
      "outputs": [
        {
          "output_type": "stream",
          "name": "stdout",
          "text": [
            "Classes ‘data.table’ and 'data.frame':\t62118 obs. of  7 variables:\n",
            " $ date          : chr  \"2012-01-01\" \"2012-01-01\" \"2012-01-01\" \"2012-01-01\" ...\n",
            " $ area          : chr  \"강원\" \"강원\" \"경기\" \"경기\" ...\n",
            " $ sex           : int  1 2 1 2 1 2 1 2 1 2 ...\n",
            " $ f평균3시간기온: num  -5.49 -5.49 -5.94 -5.94 -1.22 ...\n",
            " $ f평균강수형태 : int  0 0 0 0 0 0 0 0 0 0 ...\n",
            " $ f평균습도     : num  63.7 63.7 77.2 77.2 63.2 ...\n",
            " $ f평균하늘상태 : int  2 2 2 2 3 3 3 3 3 3 ...\n",
            " - attr(*, \".internal.selfref\")=<externalptr> \n"
          ]
        }
      ]
    },
    {
      "cell_type": "code",
      "source": [
        "# 지역별로 칼만 필터 알고리즘 적용해서 리스트로 반환\n",
        "예보_최종 %>% group_split(area)  %>%\n",
        "  lapply(function(x){na_kalman(x, model = \"StructTS\", smooth = TRUE)}) -> imp_list\n",
        "#data.table로 변경\n",
        "rbindlist(imp_list) -> imp_dt"
      ],
      "metadata": {
        "colab": {
          "base_uri": "https://localhost:8080/"
        },
        "id": "r7MY0svcjw7V",
        "outputId": "deb58b08-c47e-4fcb-b135-2d1c35ea6f0f"
      },
      "execution_count": 52,
      "outputs": [
        {
          "output_type": "stream",
          "name": "stderr",
          "text": [
            "Warning message:\n",
            "“imputeTS: No imputation performed for column 4 because of this Error in na_kalman(data[, i], model, smooth, nit, maxgap, ...): Input data needs at least 3 non-NA data point for applying na_kalman\n",
            "”\n",
            "Warning message:\n",
            "“imputeTS: No imputation performed for column 5 because of this Error in na_kalman(data[, i], model, smooth, nit, maxgap, ...): Input data needs at least 3 non-NA data point for applying na_kalman\n",
            "”\n",
            "Warning message:\n",
            "“imputeTS: No imputation performed for column 6 because of this Error in na_kalman(data[, i], model, smooth, nit, maxgap, ...): Input data needs at least 3 non-NA data point for applying na_kalman\n",
            "”\n",
            "Warning message:\n",
            "“imputeTS: No imputation performed for column 7 because of this Error in na_kalman(data[, i], model, smooth, nit, maxgap, ...): Input data needs at least 3 non-NA data point for applying na_kalman\n",
            "”\n"
          ]
        }
      ]
    },
    {
      "cell_type": "code",
      "source": [
        "imp_dt %>% summary "
      ],
      "metadata": {
        "colab": {
          "base_uri": "https://localhost:8080/",
          "height": 316
        },
        "id": "sNGvqQBkkKSZ",
        "outputId": "03afa17a-a06d-4b1a-82df-fda268e9c55b"
      },
      "execution_count": 55,
      "outputs": [
        {
          "output_type": "display_data",
          "data": {
            "text/plain": [
              "     date               area                sex      f평균3시간기온  \n",
              " Length:62118       Length:62118       Min.   :1.0   Min.   :-16.42  \n",
              " Class :character   Class :character   1st Qu.:1.0   1st Qu.:  3.40  \n",
              " Mode  :character   Mode  :character   Median :1.5   Median : 12.80  \n",
              "                                       Mean   :1.5   Mean   : 11.68  \n",
              "                                       3rd Qu.:2.0   3rd Qu.: 20.00  \n",
              "                                       Max.   :2.0   Max.   : 30.80  \n",
              "                                                     NA's   :3654    \n",
              " f평균강수형태     f평균습도      f평균하늘상태  \n",
              " Min.   :0.000   Min.   : 10.00   Min.   :1.000  \n",
              " 1st Qu.:0.000   1st Qu.: 65.79   1st Qu.:2.000  \n",
              " Median :0.000   Median : 77.00   Median :3.000  \n",
              " Mean   :0.124   Mean   : 74.48   Mean   :2.544  \n",
              " 3rd Qu.:0.000   3rd Qu.: 85.00   3rd Qu.:3.000  \n",
              " Max.   :3.000   Max.   :100.00   Max.   :4.000  \n",
              " NA's   :3654    NA's   :3654     NA's   :3654   "
            ]
          },
          "metadata": {}
        }
      ]
    },
    {
      "cell_type": "code",
      "source": [
        "# 확인\n",
        "plot_missing(imp_dt) "
      ],
      "metadata": {
        "colab": {
          "base_uri": "https://localhost:8080/",
          "height": 437
        },
        "id": "zCf0RnQEBwgm",
        "outputId": "f32782f9-8c44-44a3-9a65-ac43ee731cae"
      },
      "execution_count": 69,
      "outputs": [
        {
          "output_type": "display_data",
          "data": {
            "text/plain": [
              "plot without title"
            ],
            "image/png": "[encoded data removed]"
          },
          "metadata": {
            "image/png": {
              "width": 420,
              "height": 420
            }
          }
        }
      ]
    },
    {
      "cell_type": "code",
      "source": [
        "행만 따로 뽑음 "
      ],
      "metadata": {
        "id": "HMcxMRXClRRv"
      },
      "execution_count": null,
      "outputs": []
    },
    {
      "cell_type": "markdown",
      "source": [
        "# 3.최종 테이블 병합"
      ],
      "metadata": {
        "id": "jM0sakR-BxLT"
      }
    },
    {
      "cell_type": "code",
      "source": [
        "#write.csv(imp_dt, \"예보_최종.csv\", row.names=FALSE)"
      ],
      "metadata": {
        "id": "5efwciUrCxr1"
      },
      "execution_count": null,
      "outputs": []
    },
    {
      "cell_type": "code",
      "source": [
        "#백업\n",
        "#system(\"gdown --id 10KORE_pe157H4jAB8G4uTr_jA6D7x85-\")\n",
        "#dt = fread(\"예보_최종.csv\")"
      ],
      "metadata": {
        "id": "Bw7-a0fcqVKh"
      },
      "execution_count": 10,
      "outputs": []
    },
    {
      "cell_type": "code",
      "source": [
        "#step1. 병합할 데이터 로드\n",
        "system(\"gdown --id 1bZoMqMjFMjTxceAzRqINBnaMqsAT_eQH\")\n",
        "final = fread(\"ASOS_최종합_최종_최종.csv\")\n",
        "final %>% str"
      ],
      "metadata": {
        "colab": {
          "base_uri": "https://localhost:8080/"
        },
        "id": "N0fuvNNlqtGd",
        "outputId": "68105768-928c-4666-8c3e-7416f7613e33"
      },
      "execution_count": 189,
      "outputs": [
        {
          "output_type": "stream",
          "name": "stdout",
          "text": [
            "Classes ‘data.table’ and 'data.frame':\t62118 obs. of  43 variables:\n",
            " $ yyyymmdd      : IDate, format: \"2012-01-01\" \"2012-01-01\" ...\n",
            " $ area          : chr  \"강원\" \"강원\" \"경기\" \"경기\" ...\n",
            " $ sex           : int  1 2 1 2 1 2 1 2 1 2 ...\n",
            " $ frequency     : int  3 3 4 5 2 1 6 1 0 2 ...\n",
            " $ avg_ta        : num  -2.58 -2.58 -3.11 -3.11 1.47 ...\n",
            " $ max_ta        : num  1.55 1.55 1.06 1.06 6.83 ...\n",
            " $ min_ta        : num  -6.61 -6.61 -7.4 -7.4 -2.83 ...\n",
            " $ avg_pa        : num  995 995 1017 1017 1015 ...\n",
            " $ max_pa        : num  997 997 1019 1019 1017 ...\n",
            " $ min_pa        : num  992 992 1015 1015 1012 ...\n",
            " $ avg_ps        : num  1023 1023 1025 1025 1023 ...\n",
            " $ max_ps        : num  1025 1025 1027 1027 1025 ...\n",
            " $ min_ps        : num  1019 1019 1022 1022 1020 ...\n",
            " $ avg_rhm       : num  62.5 62.5 71.8 71.8 59.6 ...\n",
            " $ min_rhm       : num  40.8 40.8 47.1 47.1 42.2 ...\n",
            " $ sum_ss_hr     : num  3.71 3.71 2.39 2.39 2.12 ...\n",
            " $ ssrate        : num  38.6 38.6 24.8 24.8 21.6 ...\n",
            " $ avg_pv        : num  3.07 3.07 3.57 3.57 4.09 ...\n",
            " $ max_pv        : num  4.03 4.03 4.73 4.73 5.64 ...\n",
            " $ min_pv        : num  2.41 2.41 2.5 2.5 2.67 ...\n",
            " $ min_tg        : num  -9.95 -9.95 -9.89 -9.89 -6.15 ...\n",
            " $ avg_min_tg    : num  -9.95 -9.95 -9.89 -9.89 -6.15 ...\n",
            " $ avg_ts        : num  -1.977 -1.977 -1.686 -1.686 0.487 ...\n",
            " $ max_ts        : num  3.42 3.42 5.04 5.04 9.32 ...\n",
            " $ min_ts        : num  -4.92 -4.92 -5.94 -5.94 -3.93 ...\n",
            " $ avg_ws        : num  2.12 2.12 1.77 1.77 2.27 ...\n",
            " $ max_ws        : num  5.29 5.29 6.36 6.36 6.44 ...\n",
            " $ max_ins_ws    : num  9.08 9.08 11.17 11.17 11.25 ...\n",
            " $ sum_rn        : num  0.138 0.138 0.157 0.157 0.04 ...\n",
            " $ sum_rn_dur    : num  1.0777 1.0777 1.5114 1.5114 0.0667 ...\n",
            " $ dd_rn         : num  0.138 0.138 0.157 0.157 0.04 ...\n",
            " $ dd_mes        : num  2.2 2.2 0.0143 0.0143 0 ...\n",
            " $ dd_mefs       : num  0.1538 0.1538 0.0143 0.0143 0 ...\n",
            " $ year          : int  2012 2012 2012 2012 2012 2012 2012 2012 2012 2012 ...\n",
            " $ month         : int  1 1 1 1 1 1 1 1 1 1 ...\n",
            " $ day           : int  1 1 1 1 1 1 1 1 1 1 ...\n",
            " $ season        : int  3 3 3 3 3 3 3 3 3 3 ...\n",
            " $ avg_month_ta  : num  -3.77 -3.77 -3.34 -3.34 1.09 ...\n",
            " $ avg_wind_chill: num  7.32 7.32 7.61 7.61 10.11 ...\n",
            " $ ta_range      : num  8.16 8.16 8.46 8.46 9.65 ...\n",
            " $ wd_8          : int  6 6 6 6 6 6 6 6 0 0 ...\n",
            " $ rn_yn         : int  1 1 1 1 1 1 1 1 1 1 ...\n",
            " $ mes_yn        : int  1 1 1 1 0 0 1 1 0 0 ...\n",
            " - attr(*, \".internal.selfref\")=<externalptr> \n"
          ]
        }
      ]
    },
    {
      "cell_type": "code",
      "source": [
        "list = list.files(pattern = \"3시간기온\") \n",
        "#데이터 로드 & 전처리\n",
        "final <-NULL \n",
        "for (i in 1:length(list)){\n",
        "  file = assign(list[i], read.csv(list [i],col.names = c(\"day\", \"hour\", \"forecast\", \"value\")) )\n",
        "  file$year = substr(file[which(is.na(file$hour))[1],'day'],10,13)\n",
        "  file$month = paste0('0',as.integer(substr(file[which(is.na(file$hour))[1],'day'],14,15))-1)\n",
        "  for (j in which(is.na(file$hour))){\n",
        "    \n",
        "    file[j:nrow(file),(ncol(file)-1)] = substr(file$day[j],10,13)\n",
        "    file[j:nrow(file),ncol(file)] = substr(file$day[j],14,15)\n",
        "  }\n",
        "  file %<>% filter(! is.na(hour))  #na행 추가되어있음\n",
        "  file$date = paste0(file$year,\"-\",file$month, \"-\",file$day) %>%\n",
        "    parse_date_time(orders=\"ymd\")\n",
        "  final = rbind(final,file)\n",
        "  cat(\"\\n\",i) \n",
        "}\n",
        "\n",
        "final %>% str"
      ],
      "metadata": {
        "id": "39WZnbpJb2IU"
      },
      "execution_count": null,
      "outputs": []
    },
    {
      "cell_type": "code",
      "source": [
        "#step1.먼저 인덱스 번호 확인\n",
        "#step2. 반복 시작되기 전 행까지 다시 불러옴\n",
        "final <-NULL \n",
        "for (i in 1:length(list)){\n",
        "  file = assign(list[i], read.csv(list [i],col.names = c(\"day\", \"hour\", \"forecast\", \"value\")) )\n",
        "  which = which(str_detect(file$day, 'format')) \n",
        "  file = assign(list[i], read.csv(list [i],\n",
        "                col.names = c(\"day\", \"hour\", \"forecast\", \"value\"),\n",
        "                nrows = which - 1)\n",
        "                )\n",
        "  file$year = substr(file[which(is.na(file$hour))[1],'day'],10,13)\n",
        "  file$month = paste0('0',as.integer(substr(file[which(is.na(file$hour))[1],'day'],14,15))-1)\n",
        "  for (j in which(is.na(file$hour))){\n",
        "    \n",
        "    file[j:nrow(file),(ncol(file)-1)] = substr(file$day[j],10,13)\n",
        "    file[j:nrow(file),ncol(file)] = substr(file$day[j],14,15)\n",
        "  }\n",
        "  file %<>% filter(! is.na(hour))  #na행 추가되어있음\n",
        "  file$date = paste0(file$year,\"-\",file$month, \"-\",file$day) %>%\n",
        "    parse_date_time(orders=\"ymd\")\n",
        "  final = rbind(final,file)\n",
        "  cat(\"\\n\",i) \n",
        "}"
      ],
      "metadata": {
        "id": "kOwh8Iybb36t"
      },
      "execution_count": null,
      "outputs": []
    },
    {
      "cell_type": "code",
      "source": [
        "#step2. 변수명 바꾸기\n",
        "    %>% rename(yyyymmdd = )"
      ],
      "metadata": {
        "id": "ihgR2V9tXvF3"
      },
      "execution_count": null,
      "outputs": []
    },
    {
      "cell_type": "code",
      "source": [
        "new =  final %>% right_join(DT, by=c(\"yyyymmdd\", \"area\",\"sex\"))"
      ],
      "metadata": {
        "colab": {
          "base_uri": "https://localhost:8080/",
          "height": 381
        },
        "id": "yYtqsfBP5K-r",
        "outputId": "0ff40ebd-989b-420a-e236-f6a41fbbceea"
      },
      "execution_count": 94,
      "outputs": [
        {
          "output_type": "error",
          "ename": "ERROR",
          "evalue": "ignored",
          "traceback": [
            "\u001b[1m\u001b[33mError\u001b[39m in \u001b[1m\u001b[1m`right_join()`:\u001b[22m\n\u001b[1m\u001b[22m\u001b[33m!\u001b[39m Join columns must be present in data.\n\u001b[31m✖\u001b[39m Problem with `sex`.\nTraceback:\n",
            "1. final %>% right_join(DT, by = c(\"yyyymmdd\", \"area\", \"sex\"))",
            "2. right_join(., DT, by = c(\"yyyymmdd\", \"area\", \"sex\"))",
            "3. right_join.data.frame(., DT, by = c(\"yyyymmdd\", \"area\", \"sex\"))",
            "4. join_mutate(x, y, by = by, type = \"right\", suffix = suffix, na_matches = na_matches, \n .     keep = keep)",
            "5. join_cols(tbl_vars(x), tbl_vars(y), by = by, suffix = suffix, \n .     keep = keep, error_call = error_call)",
            "6. standardise_join_by(by, x_names = x_names, y_names = y_names, \n .     error_call = error_call)",
            "7. check_join_vars(by$y, y_names, error_call = error_call)",
            "8. abort(bullets, call = error_call)",
            "9. signal_abort(cnd, .file)"
          ]
        }
      ]
    },
    {
      "cell_type": "code",
      "source": [
        "new =  hp_new  %>% right_join(성별준비, by=c(\"yyyymmdd\", \"area\",\"sex\"))"
      ],
      "metadata": {
        "id": "Bc2TQERA-Eqg"
      },
      "execution_count": null,
      "outputs": []
    },
    {
      "cell_type": "code",
      "source": [
        "new = plyr::join_all(list(final ,DT),by= c(\"yyyymmdd\", \"area\",\"sex\"), type=\"left\" )"
      ],
      "metadata": {
        "id": "D4SB-L6kvDBb"
      },
      "execution_count": 11,
      "outputs": []
    }
  ]
}