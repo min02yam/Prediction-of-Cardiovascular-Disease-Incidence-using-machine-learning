{
  "nbformat": 4,
  "nbformat_minor": 0,
  "metadata": {
    "colab": {
      "name": "예보_2012:2016.ipynb",
      "provenance": [],
      "authorship_tag": "ABX9TyMTJk6UiSpPWyB3c1vnnbmm",
      "include_colab_link": true
    },
    "kernelspec": {
      "name": "ir",
      "display_name": "R"
    },
    "language_info": {
      "name": "R"
    },
    "accelerator": "GPU",
    "gpuClass": "standard"
  },
  "cells": [
    {
      "cell_type": "markdown",
      "metadata": {
        "id": "view-in-github",
        "colab_type": "text"
      },
      "source": [
        "<a href=\"https://colab.research.google.com/github/min02yam/wether/blob/main/%EC%98%88%EB%B3%B4_2012_2016.ipynb\" target=\"_parent\"><img src=\"https://colab.research.google.com/assets/colab-badge.svg\" alt=\"Open In Colab\"/></a>"
      ]
    },
    {
      "cell_type": "markdown",
      "source": [
        "예보데이터(2012~2016) <br>\n"
      ],
      "metadata": {
        "id": "3jhHomlwhuzG"
      }
    },
    {
      "cell_type": "markdown",
      "source": [
        "# 0.라이브러리 및 데이터 로드"
      ],
      "metadata": {
        "id": "BIERRJM7c3QW"
      }
    },
    {
      "cell_type": "code",
      "source": [
        "install.packages(\"DataExplorer\")\n",
        "library(DataExplorer)"
      ],
      "metadata": {
        "colab": {
          "base_uri": "https://localhost:8080/"
        },
        "id": "5rfV91HnzAlO",
        "outputId": "bb007608-5df0-46dc-e437-45bd8bbdcaa7"
      },
      "execution_count": null,
      "outputs": [
        {
          "output_type": "stream",
          "name": "stderr",
          "text": [
            "Installing package into ‘/usr/local/lib/R/site-library’\n",
            "(as ‘lib’ is unspecified)\n",
            "\n",
            "also installing the dependencies ‘plyr’, ‘Rcpp’, ‘htmlwidgets’, ‘igraph’, ‘reshape2’, ‘gridExtra’, ‘networkD3’\n",
            "\n",
            "\n"
          ]
        }
      ]
    },
    {
      "cell_type": "code",
      "source": [
        "install.packages(\"imputeTS\")\n",
        "library(imputeTS)"
      ],
      "metadata": {
        "colab": {
          "base_uri": "https://localhost:8080/"
        },
        "id": "P7RD0v_iBIQj",
        "outputId": "99bf56bf-712e-4a1a-86e8-c0ff6ea78d78"
      },
      "execution_count": null,
      "outputs": [
        {
          "output_type": "stream",
          "name": "stderr",
          "text": [
            "Installing package into ‘/usr/local/lib/R/site-library’\n",
            "(as ‘lib’ is unspecified)\n",
            "\n",
            "also installing the dependencies ‘bitops’, ‘xts’, ‘TTR’, ‘markdown’, ‘RCurl’, ‘png’, ‘jpeg’, ‘quadprog’, ‘quantmod’, ‘gridtext’, ‘fracdiff’, ‘lmtest’, ‘timeDate’, ‘tseries’, ‘urca’, ‘zoo’, ‘RcppArmadillo’, ‘ggtext’, ‘stinepack’, ‘forecast’\n",
            "\n",
            "\n",
            "Registered S3 method overwritten by 'quantmod':\n",
            "  method            from\n",
            "  as.zoo.data.frame zoo \n",
            "\n"
          ]
        }
      ]
    },
    {
      "cell_type": "code",
      "source": [
        "suppressPackageStartupMessages({\n",
        "  require(tidyverse)\n",
        "  require(magrittr)\n",
        "  require(data.table)\n",
        "})"
      ],
      "metadata": {
        "id": "nA40pLmzHmCc",
        "colab": {
          "base_uri": "https://localhost:8080/"
        },
        "outputId": "3901a292-caeb-46ee-e2c9-704db57821a3"
      },
      "execution_count": null,
      "outputs": [
        {
          "output_type": "stream",
          "name": "stderr",
          "text": [
            "Warning message in system(\"timedatectl\", intern = TRUE):\n",
            "“running command 'timedatectl' had status 1”\n"
          ]
        }
      ]
    },
    {
      "cell_type": "code",
      "source": [
        "system(\"gdown --id 1EkwbK7uSNOCuo5H3frhxsg2ZuAlTu7C0\")  #2012\n",
        "system(\"gdown --id 1L2NIn_hFZww3uGpysoWapSxF_-CIiBbF\")  #2013\n",
        "system(\"gdown --id 1pZ__BBjPH8PygXqU8DAInDHoWPH3SM1J\")  #2014\n",
        "system(\"gdown --id 1Yy7Zv5_cARL0f4qJFN3R2bxOQOQjfif8\")  #2015\n",
        "system(\"gdown --id 1exNYMxNSx6kPyEbEk2rKkaRVNSjGnO4Y\")  #2016"
      ],
      "metadata": {
        "id": "WebdMMyrfI8Q"
      },
      "execution_count": null,
      "outputs": []
    },
    {
      "cell_type": "code",
      "source": [
        "f2012 =  fread(\"f2012.csv\")\n",
        "f2013 =  fread(\"f2013.csv\")\n",
        "f2014 =  fread(\"f2014.csv\")\n",
        "f2015 =  fread(\"f2015.csv\")\n",
        "f2016 =  fread(\"f2016.csv\")"
      ],
      "metadata": {
        "id": "FOB5x3bSZkky"
      },
      "execution_count": null,
      "outputs": []
    },
    {
      "cell_type": "markdown",
      "source": [
        "# 1.테이블 최종 병합"
      ],
      "metadata": {
        "id": "J5Ix_x9l_kJ0"
      }
    },
    {
      "cell_type": "code",
      "source": [
        "예보 = bind_rows(f2012, f2013, f2014, f2015, f2016)"
      ],
      "metadata": {
        "id": "eoxKl3X4Y_yI"
      },
      "execution_count": null,
      "outputs": []
    },
    {
      "cell_type": "code",
      "source": [
        "예보 %>%  summary # 확인"
      ],
      "metadata": {
        "colab": {
          "base_uri": "https://localhost:8080/",
          "height": 316
        },
        "id": "lhx_CKJ4ZrLr",
        "outputId": "d7d314ce-41ab-46df-a344-2b4b25839472"
      },
      "execution_count": null,
      "outputs": [
        {
          "output_type": "display_data",
          "data": {
            "text/plain": [
              "      date            f평균3시간기온    f평균강수형태      f평균습도     \n",
              " Min.   :2012-01-01   Min.   :-16.420   Min.   :0.0000   Min.   : 10.00  \n",
              " 1st Qu.:2013-03-30   1st Qu.:  3.333   1st Qu.:0.0000   1st Qu.: 65.69  \n",
              " Median :2014-06-27   Median : 12.700   Median :0.0000   Median : 77.00  \n",
              " Mean   :2014-06-30   Mean   : 11.648   Mean   :0.1245   Mean   : 74.49  \n",
              " 3rd Qu.:2015-10-04   3rd Qu.: 20.000   3rd Qu.:0.0000   3rd Qu.: 85.00  \n",
              " Max.   :2016-12-31   Max.   : 30.800   Max.   :3.0000   Max.   :100.00  \n",
              "                                        NA's   :10       NA's   :384     \n",
              " f평균하늘상태       area          \n",
              " Min.   :1.000   Length:29061      \n",
              " 1st Qu.:2.000   Class :character  \n",
              " Median :3.000   Mode  :character  \n",
              " Mean   :2.574                     \n",
              " 3rd Qu.:3.000                     \n",
              " Max.   :4.000                     \n",
              " NA's   :2971                      "
            ]
          },
          "metadata": {}
        }
      ]
    },
    {
      "cell_type": "markdown",
      "source": [
        "# 3.결측치 대체\n",
        "- 그룹별(area)로 칼만 알고리즘 적용 "
      ],
      "metadata": {
        "id": "tgAWpaEAAdj9"
      }
    },
    {
      "cell_type": "code",
      "source": [
        "plot_missing(예보)"
      ],
      "metadata": {
        "colab": {
          "base_uri": "https://localhost:8080/",
          "height": 437
        },
        "id": "1YPEvT25Zlrc",
        "outputId": "91d33395-611b-48e3-a671-0f5e59e693bb"
      },
      "execution_count": null,
      "outputs": [
        {
          "output_type": "display_data",
          "data": {
            "text/plain": [
              "plot without title"
            ],
            "image/png": "[encoded data removed]"
          },
          "metadata": {
            "image/png": {
              "width": 420,
              "height": 420
            }
          }
        }
      ]
    },
    {
      "cell_type": "code",
      "source": [
        "# 지역별로 칼만 필터 알고리즘 적용해서 리스트로 반환\n",
        "예보 %>% group_split(area)  %>%\n",
        "  lapply(function(x){na_kalman(x, model = \"StructTS\", smooth = TRUE)}) ->imp_list\n",
        "#data.table로 변경\n",
        "rbindlist(imp_list) -> imp_dt"
      ],
      "metadata": {
        "id": "FmYWSkIpAKPM"
      },
      "execution_count": null,
      "outputs": []
    },
    {
      "cell_type": "code",
      "source": [
        "# 확인\n",
        "imp_dt %>% is.na() %>% sum "
      ],
      "metadata": {
        "colab": {
          "base_uri": "https://localhost:8080/",
          "height": 34
        },
        "id": "zCf0RnQEBwgm",
        "outputId": "74bcf34d-bce8-4486-9c67-9d73e4a43ff7"
      },
      "execution_count": null,
      "outputs": [
        {
          "output_type": "display_data",
          "data": {
            "text/html": [
              "0"
            ],
            "text/markdown": "0",
            "text/latex": "0",
            "text/plain": [
              "[1] 0"
            ]
          },
          "metadata": {}
        }
      ]
    },
    {
      "cell_type": "markdown",
      "source": [
        "# 4.저장"
      ],
      "metadata": {
        "id": "jM0sakR-BxLT"
      }
    },
    {
      "cell_type": "code",
      "source": [
        "write.csv(imp_dt, \"예보_최종.csv\", row.names=FALSE)"
      ],
      "metadata": {
        "id": "5efwciUrCxr1"
      },
      "execution_count": null,
      "outputs": []
    }
  ]
}