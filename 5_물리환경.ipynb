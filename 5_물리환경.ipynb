{
  "nbformat": 4,
  "nbformat_minor": 0,
  "metadata": {
    "colab": {
      "name": "5.물리환경.ipynb",
      "provenance": [],
      "authorship_tag": "ABX9TyPaYZ6SEgWjWvbKOwgdcm0U",
      "include_colab_link": true
    },
    "kernelspec": {
      "name": "ir",
      "display_name": "R"
    },
    "language_info": {
      "name": "R"
    },
    "accelerator": "GPU",
    "gpuClass": "standard"
  },
  "cells": [
    {
      "cell_type": "markdown",
      "metadata": {
        "id": "view-in-github",
        "colab_type": "text"
      },
      "source": [
        "<a href=\"https://colab.research.google.com/github/min02yam/wether/blob/main/5_%EB%AC%BC%EB%A6%AC%ED%99%98%EA%B2%BD.ipynb\" target=\"_parent\"><img src=\"https://colab.research.google.com/assets/colab-badge.svg\" alt=\"Open In Colab\"/></a>"
      ]
    },
    {
      "cell_type": "markdown",
      "source": [
        "[5] 물리환경\n"
      ],
      "metadata": {
        "id": "3jhHomlwhuzG"
      }
    },
    {
      "cell_type": "markdown",
      "source": [
        "# 0.라이브러리 및 데이터 로드"
      ],
      "metadata": {
        "id": "BIERRJM7c3QW"
      }
    },
    {
      "cell_type": "code",
      "source": [
        "install.packages(\"DataExplorer\")\n",
        "library(DataExplorer)"
      ],
      "metadata": {
        "colab": {
          "base_uri": "https://localhost:8080/"
        },
        "id": "5rfV91HnzAlO",
        "outputId": "0f44e6bf-0dd5-4a10-a3b7-ebfb134c8dfd"
      },
      "execution_count": null,
      "outputs": [
        {
          "output_type": "stream",
          "name": "stderr",
          "text": [
            "Installing package into ‘/usr/local/lib/R/site-library’\n",
            "(as ‘lib’ is unspecified)\n",
            "\n",
            "also installing the dependencies ‘plyr’, ‘Rcpp’, ‘htmlwidgets’, ‘igraph’, ‘reshape2’, ‘gridExtra’, ‘networkD3’\n",
            "\n",
            "\n"
          ]
        }
      ]
    },
    {
      "cell_type": "code",
      "source": [
        "suppressPackageStartupMessages({\n",
        "  require(tidyverse)\n",
        "  require(magrittr)\n",
        "  require(data.table)\n",
        "})"
      ],
      "metadata": {
        "id": "nA40pLmzHmCc"
      },
      "execution_count": null,
      "outputs": []
    },
    {
      "cell_type": "code",
      "source": [
        "system(\"gdown --id 1V_Daoe-7qAo6-RPQJzNIrdkxRR-ah4PA\") # 공공·문화체육시설__학교_등\n",
        "system(\"gdown --id 1lsEYK_lhrx2CRo1cMh6EICBIuP8xzJFN\") # \"교통시설__도로_등\n",
        "system(\"gdown --id 1sr06Brzuo7bJmCbIZsHw8cANMXGclFuZ\") # 지역별_건축면적_제조＋부대시설__현황"
      ],
      "metadata": {
        "id": "WebdMMyrfI8Q"
      },
      "execution_count": null,
      "outputs": []
    },
    {
      "cell_type": "code",
      "source": [
        "공공체육시설수= read.csv( , fileEncoding = \"euc-kr\")\n",
        "도로면적비= read.csv( , fileEncoding = \"euc-kr\")\n",
        "공장면적비= read.csv( , fileEncoding = \"euc-kr\")"
      ],
      "metadata": {
        "id": "CPoKhf25WCz7"
      },
      "execution_count": null,
      "outputs": []
    }
  ]
}